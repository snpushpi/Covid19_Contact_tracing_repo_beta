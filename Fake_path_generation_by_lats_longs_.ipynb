{
  "nbformat": 4,
  "nbformat_minor": 0,
  "metadata": {
    "colab": {
      "name": "Fake_path_generation_by_lats_longs_.ipynb",
      "provenance": [],
      "authorship_tag": "ABX9TyNn+120GYNBA2m2nOEiQYH4",
      "include_colab_link": true
    },
    "kernelspec": {
      "name": "python3",
      "display_name": "Python 3"
    }
  },
  "cells": [
    {
      "cell_type": "markdown",
      "metadata": {
        "id": "view-in-github",
        "colab_type": "text"
      },
      "source": [
        "<a href=\"https://colab.research.google.com/github/snpushpi/Covid19_Contact_tracing_repo_beta/blob/master/Fake_path_generation_by_lats_longs_.ipynb\" target=\"_parent\"><img src=\"https://colab.research.google.com/assets/colab-badge.svg\" alt=\"Open In Colab\"/></a>"
      ]
    },
    {
      "cell_type": "code",
      "metadata": {
        "id": "mIuItb7gvE_V",
        "colab_type": "code",
        "colab": {
          "base_uri": "https://localhost:8080/",
          "height": 653
        },
        "outputId": "2323453c-4f0b-4d4e-d81b-978e4f762aaf"
      },
      "source": [
        "from __future__ import division\n",
        "import numpy as np\n",
        "import matplotlib.pyplot as plt\n",
        "from mpl_toolkits.axes_grid1 import host_subplot\n",
        "import mpl_toolkits.axisartist as AA\n",
        "from geopy.distance import distance\n",
        "\n",
        "def create_random_point(x0,y0,distance):\n",
        "    \"\"\"\n",
        "            Utility method for simulation of the points\n",
        "    \"\"\"   \n",
        "    r = distance/ 111300\n",
        "    u = np.random.uniform(0,1)\n",
        "    v = np.random.uniform(0,1)\n",
        "    w = r * np.sqrt(u)\n",
        "    t = 2 * np.pi * v\n",
        "    x = w * np.cos(t)\n",
        "    x1 = x / np.cos(y0)\n",
        "    y = w * np.sin(t)\n",
        "    return (x0+x1, y0 +y)\n",
        "\n",
        "fig = plt.figure()\n",
        "ax = host_subplot(111, axes_class=AA.Axes)\n",
        "\n",
        "#ax.set_ylim(76,78)\n",
        "#ax.set_xlim(13,13.1)\n",
        "ax.set_autoscale_on(True)\n",
        "latitude1,longitude1 = 13.0473,77.6194  \n",
        "ax.plot(latitude1,longitude1,'ro')\n",
        "random_path_list = []\n",
        "random_path_list.append((latitude1, longitude1))\n",
        "for i in range(1,20):\n",
        "    x,y = create_random_point(latitude1,longitude1, 10)\n",
        "    random_path_list.append((x,y))\n",
        "    ax.plot(x,y,'bo')\n",
        "    dist = distance((latitude1, longitude1 ),(x, y)).m\n",
        "    latitude1, longitude1 = x, y\n",
        "    print (\"Distance between points is \" ,dist)   # a value approxiamtely less than 500 meters   \n",
        "\n",
        "print(random_path_list)\n",
        "plt.show()"
      ],
      "execution_count": 6,
      "outputs": [
        {
          "output_type": "stream",
          "text": [
            "Distance between points is  7.596768052466657\n",
            "Distance between points is  8.719711871659515\n",
            "Distance between points is  7.509690086448168\n",
            "Distance between points is  9.249916302110977\n",
            "Distance between points is  4.796458245434617\n",
            "Distance between points is  9.620924205627006\n",
            "Distance between points is  3.1318970554052\n",
            "Distance between points is  16.32146247507817\n",
            "Distance between points is  10.195395217205945\n",
            "Distance between points is  13.007072830862977\n",
            "Distance between points is  14.083804838157464\n",
            "Distance between points is  6.578827544267368\n",
            "Distance between points is  4.809908787152211\n",
            "Distance between points is  5.161532856963056\n",
            "Distance between points is  9.741502624706879\n",
            "Distance between points is  4.640696219281604\n",
            "Distance between points is  6.686412458847636\n",
            "Distance between points is  6.863459565983691\n",
            "Distance between points is  13.013646062190817\n",
            "[(13.0473, 77.6194), (13.047242774924182, 77.61936128732856), (13.047231513782872, 77.61944085509164), (13.047298449979591, 77.61945236411971), (13.047367716272536, 77.61940460008037), (13.04740849989541, 77.61941960435132), (13.047454073779313, 77.61949515007254), (13.04743690794671, 77.61951811106076), (13.047584421659801, 77.61952040040897), (13.047541938088253, 77.61943698625663), (13.047658790853648, 77.61945022864978), (13.047531603653985, 77.61945580031772), (13.04754583338164, 77.61951469263492), (13.047561866752895, 77.61947347257367), (13.047525974330513, 77.61950387515466), (13.047443562232935, 77.61947224321136), (13.0474494723723, 77.6195146019614), (13.047509882033918, 77.61951268374307), (13.04752255269702, 77.61945073891202), (13.04763208506983, 77.61949448823972)]\n"
          ],
          "name": "stdout"
        },
        {
          "output_type": "display_data",
          "data": {
            "image/png": "[encoded data removed]",
            "text/plain": [
              "<Figure size 432x288 with 1 Axes>"
            ]
          },
          "metadata": {
            "tags": [],
            "needs_background": "light"
          }
        }
      ]
    }
  ]
}