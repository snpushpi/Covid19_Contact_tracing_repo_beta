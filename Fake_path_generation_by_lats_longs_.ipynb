{
  "nbformat": 4,
  "nbformat_minor": 0,
  "metadata": {
    "colab": {
      "name": "Fake_path_generation_by_lats_longs_.ipynb",
      "provenance": [],
      "authorship_tag": "ABX9TyM0Sgwu5cQBzFHijzK5RU8O",
      "include_colab_link": true
    },
    "kernelspec": {
      "name": "python3",
      "display_name": "Python 3"
    }
  },
  "cells": [
    {
      "cell_type": "markdown",
      "metadata": {
        "id": "view-in-github",
        "colab_type": "text"
      },
      "source": [
        "<a href=\"https://colab.research.google.com/github/snpushpi/Covid19_Contact_tracing_repo_beta/blob/master/Fake_path_generation_by_lats_longs_.ipynb\" target=\"_parent\"><img src=\"https://colab.research.google.com/assets/colab-badge.svg\" alt=\"Open In Colab\"/></a>"
      ]
    },
    {
      "cell_type": "code",
      "metadata": {
        "id": "mIuItb7gvE_V",
        "colab_type": "code",
        "colab": {
          "base_uri": "https://localhost:8080/",
          "height": 653
        },
        "outputId": "4a172db8-57de-4d35-bf93-474502a9d269"
      },
      "source": [
        "from __future__ import division\n",
        "import numpy as np\n",
        "import matplotlib.pyplot as plt\n",
        "from mpl_toolkits.axes_grid1 import host_subplot\n",
        "import mpl_toolkits.axisartist as AA\n",
        "from geopy.distance import distance\n",
        "\n",
        "def create_random_point(x0,y0,distance):\n",
        "    \"\"\"\n",
        "            Utility method for simulation of the points\n",
        "    \"\"\"   \n",
        "    r = distance/ 111300\n",
        "    u = np.random.uniform(0,1)\n",
        "    v = np.random.uniform(0,1)\n",
        "    w = r * np.sqrt(u)\n",
        "    t = 2 * np.pi * v\n",
        "    x = w * np.cos(t)\n",
        "    x1 = x / np.cos(y0)\n",
        "    y = w * np.sin(t)\n",
        "    return (x0+x1, y0 +y)\n",
        "\n",
        "fig = plt.figure()\n",
        "ax = host_subplot(111, axes_class=AA.Axes)\n",
        "\n",
        "#ax.set_ylim(76,78)\n",
        "#ax.set_xlim(13,13.1)\n",
        "ax.set_autoscale_on(True)\n",
        "latitude1,longitude1 = 13.0473,77.6194  \n",
        "ax.plot(latitude1,longitude1,'ro')\n",
        "random_path_list = []\n",
        "random_path_list.append((latitude1, longitude1))\n",
        "for i in range(1,20):\n",
        "    x,y = create_random_point(latitude1,longitude1, 10)\n",
        "    random_path_list.append((x,y))\n",
        "    ax.plot(x,y,'bo')\n",
        "    dist = distance((latitude1, longitude1 ),(x, y)).m\n",
        "    latitude1, longitude1 = x, y\n",
        "    print (\"Distance between points is \" ,dist)   # a value approxiamtely less than 500 meters   \n",
        "final_random_point_list =[]\n",
        "for elt in random_path_list:\n",
        "    final_random_point_list.append((round(elt[0],4), round(elt[1],4)))\n",
        "print(final_random_point_list)"
      ],
      "execution_count": 3,
      "outputs": [
        {
          "output_type": "stream",
          "text": [
            "Distance between points is  6.512778290634044\n",
            "Distance between points is  8.78812569323952\n",
            "Distance between points is  10.686896499339646\n",
            "Distance between points is  4.259025138314372\n",
            "Distance between points is  6.994632598626898\n",
            "Distance between points is  15.322987891403441\n",
            "Distance between points is  2.953166964718421\n",
            "Distance between points is  11.659945691016375\n",
            "Distance between points is  10.08443730528147\n",
            "Distance between points is  9.619780568656413\n",
            "Distance between points is  6.5315659300766296\n",
            "Distance between points is  9.660735075049669\n",
            "Distance between points is  12.68109778613842\n",
            "Distance between points is  6.0731726053436486\n",
            "Distance between points is  5.6267956709420845\n",
            "Distance between points is  8.993448684021784\n",
            "Distance between points is  13.821202046111171\n",
            "Distance between points is  4.7060784975327685\n",
            "Distance between points is  14.166183128673444\n",
            "[(13.0473, 77.6194), (13.0473, 77.6194), (13.0473, 77.6193), (13.0472, 77.6193), (13.0472, 77.6193), (13.0473, 77.6193), (13.0471, 77.6193), (13.0471, 77.6193), (13.0471, 77.6194), (13.0471, 77.6194), (13.0472, 77.6194), (13.0471, 77.6194), (13.0472, 77.6194), (13.0473, 77.6193), (13.0473, 77.6194), (13.0473, 77.6194), (13.0474, 77.6193), (13.0473, 77.6193), (13.0473, 77.6193), (13.0474, 77.6194)]\n"
          ],
          "name": "stdout"
        },
        {
          "output_type": "display_data",
          "data": {
            "image/png": "[encoded data removed]",
            "text/plain": [
              "<Figure size 432x288 with 1 Axes>"
            ]
          },
          "metadata": {
            "tags": [],
            "needs_background": "light"
          }
        }
      ]
    }
  ]
}