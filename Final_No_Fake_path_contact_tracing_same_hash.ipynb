{
  "nbformat": 4,
  "nbformat_minor": 0,
  "metadata": {
    "colab": {
      "name": "Final_No_Fake_path_contact_tracing_same_hash.ipynb",
      "provenance": [],
      "collapsed_sections": [],
      "authorship_tag": "ABX9TyO4/10B0lBLZIyL6B5/+hJt",
      "include_colab_link": true
    },
    "kernelspec": {
      "name": "python3",
      "display_name": "Python 3"
    }
  },
  "cells": [
    {
      "cell_type": "markdown",
      "metadata": {
        "id": "view-in-github",
        "colab_type": "text"
      },
      "source": [
        "<a href=\"https://colab.research.google.com/github/snpushpi/Covid19_Contact_tracing_repo_beta/blob/master/Final_No_Fake_path_contact_tracing_same_hash.ipynb\" target=\"_parent\"><img src=\"https://colab.research.google.com/assets/colab-badge.svg\" alt=\"Open In Colab\"/></a>"
      ]
    },
    {
      "cell_type": "code",
      "metadata": {
        "id": "wHfygvdbI-fH",
        "colab_type": "code",
        "colab": {}
      },
      "source": [
        "import collections\n",
        "import hashlib\n",
        "import numpy as np\n",
        "import matplotlib as mpl\n",
        "import matplotlib.pyplot as plt\n",
        "import math\n",
        "import random\n",
        "from collections import Counter"
      ],
      "execution_count": 1,
      "outputs": []
    },
    {
      "cell_type": "code",
      "metadata": {
        "id": "aVce01EsR8Kw",
        "colab_type": "code",
        "colab": {}
      },
      "source": [
        "import pandas as pd\n",
        "import os"
      ],
      "execution_count": 2,
      "outputs": []
    },
    {
      "cell_type": "code",
      "metadata": {
        "id": "QpGHnaJvVr1C",
        "colab_type": "code",
        "colab": {
          "resources": {
            "http://localhost:8080/nbextensions/google.colab/files.js": {
              "data": "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",
              "ok": true,
              "headers": [
                [
                  "content-type",
                  "application/javascript"
                ]
              ],
              "status": 200,
              "status_text": ""
            }
          },
          "base_uri": "https://localhost:8080/",
          "height": 72
        },
        "outputId": "5f19bba4-a9d8-403b-add3-6e5d813b47a4"
      },
      "source": [
        "from google.colab import files\n",
        "uploaded = files.upload()"
      ],
      "execution_count": 3,
      "outputs": [
        {
          "output_type": "display_data",
          "data": {
            "text/html": [
              "\n",
              "     <input type=\"file\" id=\"files-712fdc34-5693-42e7-bafe-c8cc022cb264\" name=\"files[]\" multiple disabled\n",
              "        style=\"border:none\" />\n",
              "     <output id=\"result-712fdc34-5693-42e7-bafe-c8cc022cb264\">\n",
              "      Upload widget is only available when the cell has been executed in the\n",
              "      current browser session. Please rerun this cell to enable.\n",
              "      </output>\n",
              "      <script src=\"/nbextensions/google.colab/files.js\"></script> "
            ],
            "text/plain": [
              "<IPython.core.display.HTML object>"
            ]
          },
          "metadata": {
            "tags": []
          }
        },
        {
          "output_type": "stream",
          "text": [
            "Saving Modified_Final_Dataset1 - Copy.csv to Modified_Final_Dataset1 - Copy.csv\n"
          ],
          "name": "stdout"
        }
      ]
    },
    {
      "cell_type": "code",
      "metadata": {
        "id": "gqngorY3WJqz",
        "colab_type": "code",
        "colab": {}
      },
      "source": [
        "import io"
      ],
      "execution_count": 4,
      "outputs": []
    },
    {
      "cell_type": "code",
      "metadata": {
        "id": "BTexc-NuWNKN",
        "colab_type": "code",
        "colab": {}
      },
      "source": [
        "new_dataframe= pd.read_csv(io.BytesIO(uploaded['Modified_Final_Dataset1 - Copy.csv']))"
      ],
      "execution_count": 5,
      "outputs": []
    },
    {
      "cell_type": "code",
      "metadata": {
        "id": "puHGNZviWcMR",
        "colab_type": "code",
        "colab": {
          "base_uri": "https://localhost:8080/",
          "height": 34
        },
        "outputId": "1be8a2b1-abd9-43f7-df99-5a4060691a95"
      },
      "source": [
        "len(new_dataframe[new_dataframe.User_ID==57])"
      ],
      "execution_count": 6,
      "outputs": [
        {
          "output_type": "execute_result",
          "data": {
            "text/plain": [
              "720"
            ]
          },
          "metadata": {
            "tags": []
          },
          "execution_count": 6
        }
      ]
    },
    {
      "cell_type": "code",
      "metadata": {
        "id": "Viz6QnMz-SCa",
        "colab_type": "code",
        "colab": {
          "base_uri": "https://localhost:8080/",
          "height": 411
        },
        "outputId": "c1aa53e7-c882-4e1d-82b2-67c52cdb7f56"
      },
      "source": [
        "new_dataframe[:11]"
      ],
      "execution_count": 7,
      "outputs": [
        {
          "output_type": "execute_result",
          "data": {
            "text/html": [
              "<div>\n",
              "<style scoped>\n",
              "    .dataframe tbody tr th:only-of-type {\n",
              "        vertical-align: middle;\n",
              "    }\n",
              "\n",
              "    .dataframe tbody tr th {\n",
              "        vertical-align: top;\n",
              "    }\n",
              "\n",
              "    .dataframe thead th {\n",
              "        text-align: right;\n",
              "    }\n",
              "</style>\n",
              "<table border=\"1\" class=\"dataframe\">\n",
              "  <thead>\n",
              "    <tr style=\"text-align: right;\">\n",
              "      <th></th>\n",
              "      <th>Unnamed: 0</th>\n",
              "      <th>Unnamed: 0.1</th>\n",
              "      <th>A</th>\n",
              "      <th>B</th>\n",
              "      <th>C</th>\n",
              "      <th>D</th>\n",
              "      <th>E</th>\n",
              "      <th>F</th>\n",
              "      <th>G</th>\n",
              "      <th>Latitude</th>\n",
              "      <th>Longitude</th>\n",
              "      <th>Timestamp</th>\n",
              "      <th>User_ID</th>\n",
              "      <th>Intersection determiner</th>\n",
              "      <th>Modified_Latitude</th>\n",
              "      <th>Modified_Longitude</th>\n",
              "    </tr>\n",
              "  </thead>\n",
              "  <tbody>\n",
              "    <tr>\n",
              "      <th>0</th>\n",
              "      <td>0</td>\n",
              "      <td>0</td>\n",
              "      <td>0</td>\n",
              "      <td>0</td>\n",
              "      <td>0</td>\n",
              "      <td>0</td>\n",
              "      <td>0</td>\n",
              "      <td>0</td>\n",
              "      <td>0</td>\n",
              "      <td>39.9762</td>\n",
              "      <td>116.3305</td>\n",
              "      <td>0</td>\n",
              "      <td>57</td>\n",
              "      <td>Querier himself</td>\n",
              "      <td>39.9762</td>\n",
              "      <td>116.3305</td>\n",
              "    </tr>\n",
              "    <tr>\n",
              "      <th>1</th>\n",
              "      <td>1</td>\n",
              "      <td>1</td>\n",
              "      <td>1</td>\n",
              "      <td>1</td>\n",
              "      <td>1</td>\n",
              "      <td>1</td>\n",
              "      <td>1</td>\n",
              "      <td>1</td>\n",
              "      <td>1</td>\n",
              "      <td>39.9761</td>\n",
              "      <td>116.3304</td>\n",
              "      <td>5</td>\n",
              "      <td>57</td>\n",
              "      <td>Querier himself</td>\n",
              "      <td>39.9761</td>\n",
              "      <td>116.3304</td>\n",
              "    </tr>\n",
              "    <tr>\n",
              "      <th>2</th>\n",
              "      <td>2</td>\n",
              "      <td>2</td>\n",
              "      <td>2</td>\n",
              "      <td>2</td>\n",
              "      <td>2</td>\n",
              "      <td>2</td>\n",
              "      <td>2</td>\n",
              "      <td>2</td>\n",
              "      <td>2</td>\n",
              "      <td>39.9758</td>\n",
              "      <td>116.3299</td>\n",
              "      <td>10</td>\n",
              "      <td>57</td>\n",
              "      <td>Querier himself</td>\n",
              "      <td>39.9758</td>\n",
              "      <td>116.3299</td>\n",
              "    </tr>\n",
              "    <tr>\n",
              "      <th>3</th>\n",
              "      <td>3</td>\n",
              "      <td>3</td>\n",
              "      <td>3</td>\n",
              "      <td>3</td>\n",
              "      <td>3</td>\n",
              "      <td>3</td>\n",
              "      <td>3</td>\n",
              "      <td>3</td>\n",
              "      <td>3</td>\n",
              "      <td>39.9761</td>\n",
              "      <td>116.3303</td>\n",
              "      <td>15</td>\n",
              "      <td>57</td>\n",
              "      <td>Querier himself</td>\n",
              "      <td>39.9761</td>\n",
              "      <td>116.3303</td>\n",
              "    </tr>\n",
              "    <tr>\n",
              "      <th>4</th>\n",
              "      <td>4</td>\n",
              "      <td>4</td>\n",
              "      <td>4</td>\n",
              "      <td>4</td>\n",
              "      <td>4</td>\n",
              "      <td>4</td>\n",
              "      <td>4</td>\n",
              "      <td>4</td>\n",
              "      <td>4</td>\n",
              "      <td>39.9762</td>\n",
              "      <td>116.3305</td>\n",
              "      <td>20</td>\n",
              "      <td>57</td>\n",
              "      <td>Querier himself</td>\n",
              "      <td>39.9762</td>\n",
              "      <td>116.3305</td>\n",
              "    </tr>\n",
              "    <tr>\n",
              "      <th>5</th>\n",
              "      <td>5</td>\n",
              "      <td>5</td>\n",
              "      <td>5</td>\n",
              "      <td>5</td>\n",
              "      <td>5</td>\n",
              "      <td>5</td>\n",
              "      <td>5</td>\n",
              "      <td>5</td>\n",
              "      <td>5</td>\n",
              "      <td>39.9763</td>\n",
              "      <td>116.3304</td>\n",
              "      <td>25</td>\n",
              "      <td>57</td>\n",
              "      <td>Querier himself</td>\n",
              "      <td>39.9763</td>\n",
              "      <td>116.3304</td>\n",
              "    </tr>\n",
              "    <tr>\n",
              "      <th>6</th>\n",
              "      <td>6</td>\n",
              "      <td>6</td>\n",
              "      <td>6</td>\n",
              "      <td>6</td>\n",
              "      <td>6</td>\n",
              "      <td>6</td>\n",
              "      <td>6</td>\n",
              "      <td>6</td>\n",
              "      <td>6</td>\n",
              "      <td>39.9763</td>\n",
              "      <td>116.3303</td>\n",
              "      <td>30</td>\n",
              "      <td>57</td>\n",
              "      <td>Querier himself</td>\n",
              "      <td>39.9763</td>\n",
              "      <td>116.3303</td>\n",
              "    </tr>\n",
              "    <tr>\n",
              "      <th>7</th>\n",
              "      <td>7</td>\n",
              "      <td>7</td>\n",
              "      <td>7</td>\n",
              "      <td>7</td>\n",
              "      <td>7</td>\n",
              "      <td>7</td>\n",
              "      <td>7</td>\n",
              "      <td>7</td>\n",
              "      <td>7</td>\n",
              "      <td>39.9761</td>\n",
              "      <td>116.3301</td>\n",
              "      <td>35</td>\n",
              "      <td>57</td>\n",
              "      <td>Querier himself</td>\n",
              "      <td>39.9761</td>\n",
              "      <td>116.3301</td>\n",
              "    </tr>\n",
              "    <tr>\n",
              "      <th>8</th>\n",
              "      <td>8</td>\n",
              "      <td>8</td>\n",
              "      <td>8</td>\n",
              "      <td>8</td>\n",
              "      <td>8</td>\n",
              "      <td>8</td>\n",
              "      <td>8</td>\n",
              "      <td>8</td>\n",
              "      <td>8</td>\n",
              "      <td>39.9753</td>\n",
              "      <td>116.3308</td>\n",
              "      <td>40</td>\n",
              "      <td>57</td>\n",
              "      <td>Querier himself</td>\n",
              "      <td>39.9753</td>\n",
              "      <td>116.3308</td>\n",
              "    </tr>\n",
              "    <tr>\n",
              "      <th>9</th>\n",
              "      <td>9</td>\n",
              "      <td>9</td>\n",
              "      <td>9</td>\n",
              "      <td>9</td>\n",
              "      <td>9</td>\n",
              "      <td>9</td>\n",
              "      <td>9</td>\n",
              "      <td>9</td>\n",
              "      <td>9</td>\n",
              "      <td>39.9753</td>\n",
              "      <td>116.3310</td>\n",
              "      <td>45</td>\n",
              "      <td>57</td>\n",
              "      <td>Querier himself</td>\n",
              "      <td>39.9753</td>\n",
              "      <td>116.3310</td>\n",
              "    </tr>\n",
              "    <tr>\n",
              "      <th>10</th>\n",
              "      <td>10</td>\n",
              "      <td>10</td>\n",
              "      <td>10</td>\n",
              "      <td>10</td>\n",
              "      <td>10</td>\n",
              "      <td>10</td>\n",
              "      <td>10</td>\n",
              "      <td>10</td>\n",
              "      <td>10</td>\n",
              "      <td>39.9752</td>\n",
              "      <td>116.3313</td>\n",
              "      <td>50</td>\n",
              "      <td>57</td>\n",
              "      <td>Querier himself</td>\n",
              "      <td>39.9752</td>\n",
              "      <td>116.3313</td>\n",
              "    </tr>\n",
              "  </tbody>\n",
              "</table>\n",
              "</div>"
            ],
            "text/plain": [
              "    Unnamed: 0  Unnamed: 0.1  ...  Modified_Latitude  Modified_Longitude\n",
              "0            0             0  ...            39.9762            116.3305\n",
              "1            1             1  ...            39.9761            116.3304\n",
              "2            2             2  ...            39.9758            116.3299\n",
              "3            3             3  ...            39.9761            116.3303\n",
              "4            4             4  ...            39.9762            116.3305\n",
              "5            5             5  ...            39.9763            116.3304\n",
              "6            6             6  ...            39.9763            116.3303\n",
              "7            7             7  ...            39.9761            116.3301\n",
              "8            8             8  ...            39.9753            116.3308\n",
              "9            9             9  ...            39.9753            116.3310\n",
              "10          10            10  ...            39.9752            116.3313\n",
              "\n",
              "[11 rows x 16 columns]"
            ]
          },
          "metadata": {
            "tags": []
          },
          "execution_count": 7
        }
      ]
    },
    {
      "cell_type": "markdown",
      "metadata": {
        "id": "1h3-iPW1SEIl",
        "colab_type": "text"
      },
      "source": [
        "create a dataframe object from the csv file"
      ]
    },
    {
      "cell_type": "markdown",
      "metadata": {
        "id": "ByS_BGdxSXlA",
        "colab_type": "text"
      },
      "source": [
        "Next few parts, we will be making our data in a usable format for feeding into our dataset"
      ]
    },
    {
      "cell_type": "code",
      "metadata": {
        "id": "z08m0TEYScfn",
        "colab_type": "code",
        "colab": {}
      },
      "source": [
        "def list_generate(new_dataframe,user_num):    \n",
        "    user_lat = new_dataframe[new_dataframe.User_ID==user_num]['Modified_Latitude'].to_list()\n",
        "    user_lon = new_dataframe[new_dataframe.User_ID==user_num]['Modified_Longitude'].to_list()\n",
        "    user_timestamp = new_dataframe[new_dataframe.User_ID==user_num]['Timestamp'].to_list()\n",
        "    l = len(new_dataframe[new_dataframe.User_ID==user_num])\n",
        "    user_path = [(user_lat[i], user_lon[i], user_timestamp[i]) for i in range(l)]\n",
        "    return user_path\n"
      ],
      "execution_count": 8,
      "outputs": []
    },
    {
      "cell_type": "markdown",
      "metadata": {
        "id": "fWWfREAuSpRN",
        "colab_type": "text"
      },
      "source": [
        "For 50 infected users, we will create a list of lists where each list is the path of one infected patient"
      ]
    },
    {
      "cell_type": "code",
      "metadata": {
        "id": "DQBXeT6TSqm7",
        "colab_type": "code",
        "colab": {}
      },
      "source": [
        "querier_path = list_generate(new_dataframe,57)\n",
        "infected_list = []\n",
        "infected_list.append(list_generate(new_dataframe,94))\n",
        "for i in range(50):\n",
        "    infected_list.append(list_generate(new_dataframe,i))\n",
        "    "
      ],
      "execution_count": 9,
      "outputs": []
    },
    {
      "cell_type": "code",
      "metadata": {
        "id": "4CqN11R6pgmn",
        "colab_type": "code",
        "colab": {}
      },
      "source": [
        "min_lat = 23.4377\n",
        "max_lat = 40.9999\n",
        "min_lon = 113.7947\n",
        "max_lon = 117.1832"
      ],
      "execution_count": 10,
      "outputs": []
    },
    {
      "cell_type": "code",
      "metadata": {
        "id": "XcAWCqqetBOT",
        "colab_type": "code",
        "colab": {}
      },
      "source": [
        "def position_determiner(lat, lon):\n",
        "    '''Given a latitude, longitude co-ordinate, we have to find the small universe it belongs to.'''\n",
        "    k = math.floor((lat-min_lat)/0.0030)\n",
        "    j = math.floor((lon-min_lon)/0.0030)\n",
        "    return (k,j)\n",
        "    "
      ],
      "execution_count": 11,
      "outputs": []
    },
    {
      "cell_type": "code",
      "metadata": {
        "id": "12vytdzgt6EX",
        "colab_type": "code",
        "colab": {}
      },
      "source": [
        "def path_divider(path):\n",
        "    '''given a path (a list of tuples, (lat, lon, timestamp)), divides it into zones.\n",
        "    returns: a dictionary zone->[{timestamp->(lat,lon, timestamp)},[timestamp_list]]'''\n",
        "    track_dict = {}\n",
        "    for elt in path:\n",
        "        temp_val = position_determiner(elt[0], elt[1])\n",
        "        if temp_val not in track_dict:\n",
        "            track_dict[temp_val]=[{},[]]\n",
        "            track_dict[temp_val][0][elt[2]]= elt\n",
        "            track_dict[temp_val][1].append(elt[2])\n",
        "        else:\n",
        "            track_dict[temp_val][0][elt[2]]= elt\n",
        "            track_dict[temp_val][1].append(elt[2])\n",
        "    return track_dict\n"
      ],
      "execution_count": 12,
      "outputs": []
    },
    {
      "cell_type": "code",
      "metadata": {
        "id": "YYq_lPwJK60R",
        "colab_type": "code",
        "colab": {}
      },
      "source": [
        "class Querier():\n",
        "    def __init__(self,true_path):\n",
        "        self.true_path = true_path\n",
        "        self.filtered_dictionary = {}\n",
        "        self.intersection = []\n",
        "\n",
        "    def filter_divider(self):\n",
        "        '''returns zone->timestamp_list dictionary.'''\n",
        "        self.filtered_dictionary = path_divider(self.true_path)     \n",
        "        filt_dict = {e:self.filtered_dictionary[e][1] for e in self.filtered_dictionary}\n",
        "        return filt_dict\n",
        "\n",
        "    def checker(self, freq_dict, zone):\n",
        "        '''given the dictionary, checks the intersection with its elements, in other words, for each of its elements in this zone,\n",
        "        it checks whether the frequency in the dictionary is greater than 1.'''\n",
        "        timestamp_list = self.filtered_dictionary[zone][1]\n",
        "        new_all_list = [zone+(timestamp,) for timestamp in timestamp_list]\n",
        "        for elt in new_all_list:\n",
        "            if elt in freq_dict:\n",
        "                if math.floor(freq_dict[elt])>=1:\n",
        "                    self.intersection.append(elt)\n",
        "                \n",
        "    def announcer(self):\n",
        "        '''returns the self.intersection list.'''\n",
        "        result_list=[]\n",
        "        for elt in self.intersection:\n",
        "            result_list.append(elt[2])\n",
        "        return result_list\n"
      ],
      "execution_count": 13,
      "outputs": []
    },
    {
      "cell_type": "code",
      "metadata": {
        "id": "v-lTaI8BD-dX",
        "colab_type": "code",
        "colab": {}
      },
      "source": [
        "class Infected():\n",
        "    def __init__(self, true_path,width, depth,epsilon,seed):\n",
        "        self.width = width\n",
        "        self.depth = depth\n",
        "        self.epsilon = epsilon\n",
        "        self.seed = seed\n",
        "        self.true_path = true_path\n",
        "        self.filtered_dictionary = {}\n",
        "        self.new_level2_filter = {}\n",
        "    #Implementing the client side algorithm which works on each particular data element. First it selects an integer randomly from 0 to depth-1, \n",
        "    #we store that value as j, next, we initialize a vector of -1, of length width, and set that jth index as 1. Then we create another vector of -1s\n",
        "    #and +1s, with fixed probabilities determined by the parameter epsilon. Then we do element wise multioplication and return the \n",
        "    #result vector. \n",
        "\n",
        "    def Client_Side(self,d):\n",
        "        '''parameters are a data element, epsilon value and a hash family, but we are using mmh3 here so didn't add that as a parameter'''\n",
        "        j = np.random.randint(self.depth) \n",
        "        z_vect = np.zeros((1,self.width))\n",
        "        v = z_vect-1 \n",
        "        hex_num = hashlib.sha256((str(self.seed[j])+str(d)).encode('utf-8')).hexdigest()\n",
        "        int_hex = int(hex_num[:5],16)\n",
        "        index = int_hex % self.width\n",
        "        v[0,index]=1\n",
        "        val = np.exp(self.epsilon/2)\n",
        "        probability_of_1 = val/(val+1) \n",
        "        probability_of_neg_1 = 1/(val+1)\n",
        "        b = np.random.choice([1,-1],self.width,p=[probability_of_1,probability_of_neg_1]) \n",
        "        final_vector = v*b\n",
        "        return (final_vector,j) \n",
        "\n",
        "    def send_flipped_bit_vector(self,zone):\n",
        "        result_list = []\n",
        "        for elt in self.new_level2_filter[zone]:\n",
        "            result_list.append(self.Client_Side(elt))\n",
        "        return result_list\n",
        "\n",
        "    def filter_divider(self):\n",
        "        '''returns: zone->timestamp_list.'''\n",
        "        self.filtered_dictionary = path_divider(self.true_path)\n",
        "        filt_dict = {e:self.filtered_dictionary[e][1] for e in self.filtered_dictionary}\n",
        "        return filt_dict\n",
        "        \n",
        "    def filter2(self,filtered_dict_from_server):\n",
        "        '''filtered_dict_from_server, a dictionary with zone->timestamps.\n",
        "        modifies: a new_level2_filter list, and new_level2_filter_list[zone] is a list of (lat, lon, timestamp).'''\n",
        "        for zone in filtered_dict_from_server:\n",
        "            self.new_level2_filter[zone]=[]\n",
        "            for elt in filtered_dict_from_server[zone]:\n",
        "                self.new_level2_filter[zone].append(self.filtered_dictionary[zone][0][elt])"
      ],
      "execution_count": 14,
      "outputs": []
    },
    {
      "cell_type": "code",
      "metadata": {
        "id": "0TK80cumIIdD",
        "colab_type": "code",
        "colab": {}
      },
      "source": [
        "class Server():\n",
        "    def __init__(self, width, depth, epsilon, seed):\n",
        "        self.width = width\n",
        "        self.depth = depth\n",
        "        self.epsilon = epsilon\n",
        "        self.seed = seed \n",
        "        self.zone_list=[]\n",
        "        self.new_filtered_list = []\n",
        "\n",
        "    def Compute_Sketch_Matrix(self,D):\n",
        "        '''So each element of D is a tuple where the first element is v_i and second element is j_i(which is created by the above funstion after getting \n",
        "        passed by Client_side each time), we have privacy parameter epsilon and dimensions. v_i is the a vector an it has the sma eshape as the \n",
        "        vectors returned by the Client_side algorithm'''\n",
        "        val = np.exp(self.epsilon/2)\n",
        "        n = len(D)\n",
        "        c_epsilon = (val+1)/(val-1) \n",
        "        vec_one = np.ones((1,self.width))\n",
        "        manipulated_data_matrix = np.zeros((n,self.width)) #Creatimg a matrix for x_is\n",
        "        for elt in enumerate(D):\n",
        "            new_vect = elt[1][0].reshape((1,self.width))\n",
        "            man_vect = (c_epsilon/2)*new_vect #scalar and vector multiplication \n",
        "            half_vec_one = 0.5*vec_one \n",
        "            sum_vect = man_vect + half_vec_one\n",
        "            manipulated_data_matrix[[elt[0]],:]= self.depth*sum_vect  \n",
        "        M = np.zeros((self.depth,self.width))\n",
        "        for elt in enumerate(D):\n",
        "            for l in range(self.width): \n",
        "                M[elt[1][1],l]=M[elt[1][1],l]+manipulated_data_matrix[elt[0],l]\n",
        "        return M \n",
        "\n",
        "    def frequency_counter(self, Sketch_Matrix, total_path_length, universe_list):\n",
        "        ''' we get a sketch matrix and we try to get the frequencies for all elements in the true_path.'''\n",
        "        frequency_dict = {}\n",
        "        for d in universe_list:\n",
        "            n = total_path_length\n",
        "            frac1 = self.width/(self.width-1)\n",
        "            frac2 = n/self.width\n",
        "            row_sum = 0\n",
        "            for i in range(self.depth):\n",
        "                hex_num = hashlib.sha256((str(self.seed[i])+str(d)).encode('utf-8')).hexdigest()\n",
        "                int_hex = int(hex_num[:5],16)\n",
        "                index = int_hex % self.width\n",
        "                row_sum = row_sum + Sketch_Matrix[i,index]\n",
        "            avg_row_sum = row_sum/self.depth \n",
        "            subtraction = avg_row_sum - frac2 \n",
        "            assumed_freq = frac1*subtraction \n",
        "            frequency_dict[d]=assumed_freq\n",
        "        return frequency_dict\n",
        "\n",
        "    def checker(self,querier_filtered_path, infected_patients_filtered_dict_list):\n",
        "        '''gets zone-> timestamps and returns list of filtered zone-> set(timestamps) dictionaries.'''\n",
        "        l = len(infected_patients_filtered_dict_list)\n",
        "        for i in range(l):\n",
        "            temp_dict={}\n",
        "            for zone in infected_patients_filtered_dict_list[i]:\n",
        "                if zone in querier_filtered_path:\n",
        "                    temp_dict[zone] = set(infected_patients_filtered_dict_list[i][zone]) & set(querier_filtered_path[zone])\n",
        "            self.new_filtered_list.append(temp_dict)#For all infected patients, it maintains a dictionary, mapping zone to timestamps.\n",
        "        \n",
        "        return self.new_filtered_list\n",
        "    \n",
        "    def universe_generate(self, zone, timestamp_list):\n",
        "        '''generate the universe list with the timestamps.'''\n",
        "        lat = zone[0]\n",
        "        lon = zone[1]\n",
        "        lat_list = []\n",
        "        lon_list = []\n",
        "        universe_list = []\n",
        "        for i in np.arange(lat, lat+0.0031, 0.0001):\n",
        "            for j in np.arange(lon, lon+0.0031, 0.0001):\n",
        "                for time in timestamp_list:\n",
        "                    universe_list.append((i, j, time))\n",
        "        return universe_list\n",
        "\n",
        "    def bit_flip_caller(self, infected_patients, querier, run_number):\n",
        "        '''Will call the flip bit method on all zones of each infected patient.'''\n",
        "        zone_universe_list = set()\n",
        "        l = len(self.new_filtered_list)\n",
        "        for i in range(l):\n",
        "            zone_universe_list|=set(self.new_filtered_list[i].keys())\n",
        "        big_timestamp_dictionary = {e:set() for e in zone_universe_list}\n",
        "        big_tracker_dictionary = {e:[] for e in zone_universe_list}#zone-> infected person who is in that zone\n",
        "        #generating zone->timestamps for all infected patient dictionary.\n",
        "        for zone in zone_universe_list:\n",
        "            for i in range(l):\n",
        "                if zone in self.new_filtered_list[i]:\n",
        "                    big_timestamp_dictionary[zone]|=set(self.new_filtered_list[i][zone])\n",
        "                    big_tracker_dictionary[zone].append(i)\n",
        "        for zone in zone_universe_list:\n",
        "            sketch_matrix = np.zeros((self.depth, self.width))\n",
        "            for i in range(run_number):\n",
        "                big_vect_list = []\n",
        "                #call a function which does some calculation\n",
        "                for j in big_tracker_dictionary[zone]:\n",
        "                    big_vect_list+=infected_patients[j].send_flipped_bit_vector(zone)\n",
        "                M = self.Compute_Sketch_Matrix(big_vect_list)\n",
        "                for row in range(self.depth):\n",
        "                    for col in range(self.width):\n",
        "                        sketch_matrix[row, col]=(i*sketch_matrix[row, col]+M[row, col])/(i+1)\n",
        "            universe_list = self.universe_generate(zone, big_timestamp_dictionary[zone])   \n",
        "            n = len(big_vect_list)\n",
        "            freq_dict = self.frequency_counter(sketch_matrix, n, universe_list)\n",
        "            querier.checker(freq_dict, zone)\n",
        "                "
      ],
      "execution_count": 15,
      "outputs": []
    },
    {
      "cell_type": "code",
      "metadata": {
        "id": "5_7Bu1hNGFCr",
        "colab_type": "code",
        "colab": {}
      },
      "source": [
        "#in the new mode, we invoke this method and the server receives this flipped bit vectors, as we want to average the \n",
        "#bit flipping thing, we run this process a mentioned number of times. and make compute sketch matrix."
      ],
      "execution_count": null,
      "outputs": []
    },
    {
      "cell_type": "code",
      "metadata": {
        "id": "CFhh-DbKK7Wo",
        "colab_type": "code",
        "colab": {}
      },
      "source": [
        "def driver_code(width, depth, seed, epsilon, run_number):\n",
        "    '''1. Create instances of querier, server and infected patients.\n",
        "       2. Call the filter method on all the participants in the server, so all the querier and the infectd patients filter out their paths \n",
        "          in multiple universes. This function will output a dictionary kepys mapping to 2 lists, one list is the co-ordinates in that universe and another list is the timestamp.\n",
        "       3. Now send this filtered timestamp and zone list to the server. Form can be (zone code->timestamps in that zone)\n",
        "       4. Taking the querier's timestamp against the infected patient's timestamp, server will level2 filtering and send similar form of \n",
        "          dictionary to all the infected patients and the querier, so basically finding the timestamp intersection between querier and infected patient pair\n",
        "          and server is keeping the lists for his calculation.\n",
        "       5. The participants, upon receiving the information, filters out the information further and start processing data from their end, aka, \n",
        "          calls the server caller method.(So in our implementation, we will be processing all infected patients one by one)\n",
        "       6. The server caller method, is a common method which will be used in other parts too, when this method is called from some \n",
        "          infected patient, it asks for flipped vectors a mentioned number of times from the infected patient and upon receiving it every time,\n",
        "          the server does the compute sketch matrix operation and contnues averaging it and finally gets the aggregated sketch matrix, as the server knows which \n",
        "          infected patient and from which zone, it was being called, he finally calls freq generator with this information.(Zone code, sketch matrix and server has saved the timestamp info\n",
        "          for generating universe list)\n",
        "       7. Thus for each caller method, server keeps generating frequency histogram and keeps aggregating it and will finally send it to the querier   \n",
        "    '''\n",
        "    querier = Querier(querier_path)\n",
        "    infected_patients = []\n",
        "    for infected in infected_list:\n",
        "        infected_patients.append(Infected(infected, width, depth, epsilon, seed))\n",
        "    server_instance = Server(width, depth, epsilon, seed)\n",
        "    infected_patients_filtered_dict_list=[]\n",
        "    for e in infected_patients:\n",
        "        infected_patients_filtered_dict_list.append(e.filter_divider())\n",
        "    querier_filter = querier.filter_divider()\n",
        "    new_filtered_list = server_instance.checker(querier_filter, infected_patients_filtered_dict_list)\n",
        "    l = len(new_filtered_list)\n",
        "    for i in range(l):\n",
        "        infected_patients[i].filter2(new_filtered_list[i])\n",
        "    server_instance.bit_flip_caller(infected_patients, querier, run_number)\n",
        "    return querier.announcer()\n",
        "\n"
      ],
      "execution_count": 16,
      "outputs": []
    },
    {
      "cell_type": "code",
      "metadata": {
        "id": "Q0bxpGd3HIRt",
        "colab_type": "code",
        "colab": {}
      },
      "source": [
        "   \n",
        "seed = [172,  55, 177, 191, 199,  23,  82, 126,  83,  21,   6,  69, 122,\n",
        "            95,  81, 194,  80,  87, 188, 159, 107,  66,   3,  38,  52,  32,\n",
        "        140,  44, 185,  20, 154,  36, 186,  99, 149, 100,  53,  58,  96,\n",
        "        160, 108,  46, 150, 179,   2, 142, 151,  76,  65,  72,  59, 129,\n",
        "            51,  11, 193,  79, 105,  42,  77, 104,  25, 189,  35, 125,  61,\n",
        "        164, 112, 190, 106,  29,  27,  33,   9, 184,  91,  26,  93, 130,\n",
        "            39, 187, 174,  88, 178, 168,  63, 198, 169, 157,  10, 111, 196,\n",
        "            73,  12, 115,  78, 162,  64, 147,  54, 103]\n",
        "width = 150\n",
        "depth = 100"
      ],
      "execution_count": 18,
      "outputs": []
    },
    {
      "cell_type": "code",
      "metadata": {
        "id": "ZH0VJA2Dtst9",
        "colab_type": "code",
        "colab": {}
      },
      "source": [
        "ground_truth_timestamp_coordinates={0,5,10,15,20,25,30,35,40,45,50,75,80,85,210,215,220,225,230,410,415,420,425,430,710,715,720,725,730,735,740,745,750,755,760,1425,1430,1435,1440,1445,1450,1455,1460}"
      ],
      "execution_count": 19,
      "outputs": []
    },
    {
      "cell_type": "code",
      "metadata": {
        "id": "66No3Qu9Rodh",
        "colab_type": "code",
        "colab": {}
      },
      "source": [
        "def check(result_list):\n",
        "    check_set = set(result_list)\n",
        "    true,false = 0,0\n",
        "    for elt in check_set:\n",
        "        if elt in ground_truth_timestamp_coordinates:\n",
        "            true+=1\n",
        "        else:\n",
        "            false+=1\n",
        "    return true, false\n"
      ],
      "execution_count": 20,
      "outputs": []
    },
    {
      "cell_type": "code",
      "metadata": {
        "id": "qhBeB40ZSXOg",
        "colab_type": "code",
        "colab": {}
      },
      "source": [
        "epsilon_list = [2.5,3,3.5,4,4.5,5,5.5,6,6.5,7]\n",
        "run_number = [1]\n",
        "final_result_dictionary1_list = []\n",
        "for i in range(10):\n",
        "    final_result_dictionary1 = {}\n",
        "    for eps in epsilon_list:\n",
        "        for run in run_number:\n",
        "            check_list = driver_code(width, depth,seed, eps, run)\n",
        "            final_result_dictionary1[(eps,run)] = check(check_list)\n",
        "    final_result_dictionary1_list.append(final_result_dictionary1)\n",
        "    print(final_result_dictionary1)\n",
        "final_result_dictionary1_list"
      ],
      "execution_count": null,
      "outputs": []
    },
    {
      "cell_type": "code",
      "metadata": {
        "id": "4uVofscoT3Br",
        "colab_type": "code",
        "colab": {}
      },
      "source": [
        "epsilon_list = [2.5,3,3.5,4,4.5,5,5.5,6,6.5,7]\n",
        "epsilon_list5 = []\n",
        "epsilon_list10 = []\n",
        "for eps in epsilon_list:\n",
        "    epsilon_list5.append(eps/5)\n",
        "    epsilon_list10.append(eps/10)"
      ],
      "execution_count": null,
      "outputs": []
    },
    {
      "cell_type": "code",
      "metadata": {
        "id": "DpqKlOJ3T6Ae",
        "colab_type": "code",
        "colab": {
          "base_uri": "https://localhost:8080/",
          "height": 1000
        },
        "outputId": "6ebe491d-5583-4d8b-a84c-49286f074075"
      },
      "source": [
        "width = 150\n",
        "depth = 100\n",
        "run_number = [5]\n",
        "final_result_dictionary5_list = []\n",
        "for i in range(10):\n",
        "    final_result_dictionary5 = {}\n",
        "    for eps in epsilon_list5:\n",
        "        for run in run_number:\n",
        "            check_list = driver_code(width, depth,seed, eps, run)\n",
        "            final_result_dictionary5[(eps,run)] = check(check_list)\n",
        "    final_result_dictionary5_list.append(final_result_dictionary5)\n",
        "    print(final_result_dictionary5)\n",
        "final_result_dictionary5_list"
      ],
      "execution_count": null,
      "outputs": [
        {
          "output_type": "stream",
          "text": [
            "{(0.5, 5): (19, 310), (0.6, 5): (22, 254), (0.7, 5): (16, 249), (0.8, 5): (13, 248), (0.9, 5): (18, 234), (1.0, 5): (17, 248), (1.1, 5): (16, 250), (1.2, 5): (17, 224), (1.3, 5): (18, 218), (1.4, 5): (10, 208)}\n",
            "{(0.5, 5): (19, 289), (0.6, 5): (14, 255), (0.7, 5): (17, 272), (0.8, 5): (12, 233), (0.9, 5): (17, 251), (1.0, 5): (19, 251), (1.1, 5): (18, 229), (1.2, 5): (14, 217), (1.3, 5): (8, 242), (1.4, 5): (21, 192)}\n",
            "{(0.5, 5): (16, 302), (0.6, 5): (18, 269), (0.7, 5): (16, 280), (0.8, 5): (15, 250), (0.9, 5): (16, 254), (1.0, 5): (16, 234), (1.1, 5): (21, 219), (1.2, 5): (17, 235), (1.3, 5): (17, 225), (1.4, 5): (15, 221)}\n",
            "{(0.5, 5): (16, 289), (0.6, 5): (20, 264), (0.7, 5): (15, 267), (0.8, 5): (20, 244), (0.9, 5): (18, 227), (1.0, 5): (19, 264), (1.1, 5): (16, 227), (1.2, 5): (13, 199), (1.3, 5): (13, 198), (1.4, 5): (20, 208)}\n",
            "{(0.5, 5): (18, 290), (0.6, 5): (15, 265), (0.7, 5): (20, 273), (0.8, 5): (18, 254), (0.9, 5): (15, 278), (1.0, 5): (15, 246), (1.1, 5): (19, 245), (1.2, 5): (17, 208), (1.3, 5): (17, 224), (1.4, 5): (15, 179)}\n",
            "{(0.5, 5): (20, 304), (0.6, 5): (19, 260), (0.7, 5): (15, 270), (0.8, 5): (21, 230), (0.9, 5): (15, 260), (1.0, 5): (22, 229), (1.1, 5): (18, 220), (1.2, 5): (16, 202), (1.3, 5): (12, 202), (1.4, 5): (14, 221)}\n",
            "{(0.5, 5): (21, 282), (0.6, 5): (16, 267), (0.7, 5): (23, 260), (0.8, 5): (17, 251), (0.9, 5): (14, 245), (1.0, 5): (14, 237), (1.1, 5): (20, 228), (1.2, 5): (16, 195), (1.3, 5): (14, 205), (1.4, 5): (8, 200)}\n",
            "{(0.5, 5): (16, 280), (0.6, 5): (20, 279), (0.7, 5): (14, 264), (0.8, 5): (13, 255), (0.9, 5): (21, 229), (1.0, 5): (23, 254), (1.1, 5): (20, 222), (1.2, 5): (16, 221), (1.3, 5): (19, 222), (1.4, 5): (11, 193)}\n",
            "{(0.5, 5): (13, 243), (0.6, 5): (20, 295), (0.7, 5): (19, 269), (0.8, 5): (16, 221), (0.9, 5): (19, 282), (1.0, 5): (18, 242), (1.1, 5): (18, 228), (1.2, 5): (15, 222), (1.3, 5): (19, 222), (1.4, 5): (15, 215)}\n",
            "{(0.5, 5): (13, 289), (0.6, 5): (14, 278), (0.7, 5): (10, 265), (0.8, 5): (16, 227), (0.9, 5): (15, 249), (1.0, 5): (23, 236), (1.1, 5): (18, 233), (1.2, 5): (16, 229), (1.3, 5): (12, 202), (1.4, 5): (12, 211)}\n"
          ],
          "name": "stdout"
        },
        {
          "output_type": "execute_result",
          "data": {
            "text/plain": [
              "[{(0.5, 5): (19, 310),\n",
              "  (0.6, 5): (22, 254),\n",
              "  (0.7, 5): (16, 249),\n",
              "  (0.8, 5): (13, 248),\n",
              "  (0.9, 5): (18, 234),\n",
              "  (1.0, 5): (17, 248),\n",
              "  (1.1, 5): (16, 250),\n",
              "  (1.2, 5): (17, 224),\n",
              "  (1.3, 5): (18, 218),\n",
              "  (1.4, 5): (10, 208)},\n",
              " {(0.5, 5): (19, 289),\n",
              "  (0.6, 5): (14, 255),\n",
              "  (0.7, 5): (17, 272),\n",
              "  (0.8, 5): (12, 233),\n",
              "  (0.9, 5): (17, 251),\n",
              "  (1.0, 5): (19, 251),\n",
              "  (1.1, 5): (18, 229),\n",
              "  (1.2, 5): (14, 217),\n",
              "  (1.3, 5): (8, 242),\n",
              "  (1.4, 5): (21, 192)},\n",
              " {(0.5, 5): (16, 302),\n",
              "  (0.6, 5): (18, 269),\n",
              "  (0.7, 5): (16, 280),\n",
              "  (0.8, 5): (15, 250),\n",
              "  (0.9, 5): (16, 254),\n",
              "  (1.0, 5): (16, 234),\n",
              "  (1.1, 5): (21, 219),\n",
              "  (1.2, 5): (17, 235),\n",
              "  (1.3, 5): (17, 225),\n",
              "  (1.4, 5): (15, 221)},\n",
              " {(0.5, 5): (16, 289),\n",
              "  (0.6, 5): (20, 264),\n",
              "  (0.7, 5): (15, 267),\n",
              "  (0.8, 5): (20, 244),\n",
              "  (0.9, 5): (18, 227),\n",
              "  (1.0, 5): (19, 264),\n",
              "  (1.1, 5): (16, 227),\n",
              "  (1.2, 5): (13, 199),\n",
              "  (1.3, 5): (13, 198),\n",
              "  (1.4, 5): (20, 208)},\n",
              " {(0.5, 5): (18, 290),\n",
              "  (0.6, 5): (15, 265),\n",
              "  (0.7, 5): (20, 273),\n",
              "  (0.8, 5): (18, 254),\n",
              "  (0.9, 5): (15, 278),\n",
              "  (1.0, 5): (15, 246),\n",
              "  (1.1, 5): (19, 245),\n",
              "  (1.2, 5): (17, 208),\n",
              "  (1.3, 5): (17, 224),\n",
              "  (1.4, 5): (15, 179)},\n",
              " {(0.5, 5): (20, 304),\n",
              "  (0.6, 5): (19, 260),\n",
              "  (0.7, 5): (15, 270),\n",
              "  (0.8, 5): (21, 230),\n",
              "  (0.9, 5): (15, 260),\n",
              "  (1.0, 5): (22, 229),\n",
              "  (1.1, 5): (18, 220),\n",
              "  (1.2, 5): (16, 202),\n",
              "  (1.3, 5): (12, 202),\n",
              "  (1.4, 5): (14, 221)},\n",
              " {(0.5, 5): (21, 282),\n",
              "  (0.6, 5): (16, 267),\n",
              "  (0.7, 5): (23, 260),\n",
              "  (0.8, 5): (17, 251),\n",
              "  (0.9, 5): (14, 245),\n",
              "  (1.0, 5): (14, 237),\n",
              "  (1.1, 5): (20, 228),\n",
              "  (1.2, 5): (16, 195),\n",
              "  (1.3, 5): (14, 205),\n",
              "  (1.4, 5): (8, 200)},\n",
              " {(0.5, 5): (16, 280),\n",
              "  (0.6, 5): (20, 279),\n",
              "  (0.7, 5): (14, 264),\n",
              "  (0.8, 5): (13, 255),\n",
              "  (0.9, 5): (21, 229),\n",
              "  (1.0, 5): (23, 254),\n",
              "  (1.1, 5): (20, 222),\n",
              "  (1.2, 5): (16, 221),\n",
              "  (1.3, 5): (19, 222),\n",
              "  (1.4, 5): (11, 193)},\n",
              " {(0.5, 5): (13, 243),\n",
              "  (0.6, 5): (20, 295),\n",
              "  (0.7, 5): (19, 269),\n",
              "  (0.8, 5): (16, 221),\n",
              "  (0.9, 5): (19, 282),\n",
              "  (1.0, 5): (18, 242),\n",
              "  (1.1, 5): (18, 228),\n",
              "  (1.2, 5): (15, 222),\n",
              "  (1.3, 5): (19, 222),\n",
              "  (1.4, 5): (15, 215)},\n",
              " {(0.5, 5): (13, 289),\n",
              "  (0.6, 5): (14, 278),\n",
              "  (0.7, 5): (10, 265),\n",
              "  (0.8, 5): (16, 227),\n",
              "  (0.9, 5): (15, 249),\n",
              "  (1.0, 5): (23, 236),\n",
              "  (1.1, 5): (18, 233),\n",
              "  (1.2, 5): (16, 229),\n",
              "  (1.3, 5): (12, 202),\n",
              "  (1.4, 5): (12, 211)}]"
            ]
          },
          "metadata": {
            "tags": []
          },
          "execution_count": 26
        }
      ]
    },
    {
      "cell_type": "code",
      "metadata": {
        "id": "y_vef-8rUFIY",
        "colab_type": "code",
        "colab": {
          "base_uri": "https://localhost:8080/",
          "height": 1000
        },
        "outputId": "39ccbb5f-0086-400c-a540-eea85f3012b1"
      },
      "source": [
        "width = 150\n",
        "depth = 100\n",
        "run_number = [10]\n",
        "final_result_dictionary10_list = []\n",
        "for i in range(8):\n",
        "    final_result_dictionary10 = {}\n",
        "    for eps in epsilon_list10:\n",
        "        for run in run_number:\n",
        "            check_list = driver_code(width, depth,seed, eps, run)\n",
        "            final_result_dictionary10[(eps,run)] = check(check_list)\n",
        "    final_result_dictionary10_list.append(final_result_dictionary10)\n",
        "    print(final_result_dictionary10)\n",
        "final_result_dictionary10_list    "
      ],
      "execution_count": null,
      "outputs": [
        {
          "output_type": "stream",
          "text": [
            "{(0.25, 10): (18, 305), (0.3, 10): (22, 287), (0.35, 10): (19, 289), (0.4, 10): (18, 286), (0.45, 10): (22, 267), (0.5, 10): (15, 263), (0.55, 10): (19, 277), (0.6, 10): (23, 237), (0.65, 10): (16, 231), (0.7, 10): (24, 235)}\n",
            "{(0.25, 10): (18, 301), (0.3, 10): (15, 289), (0.35, 10): (24, 306), (0.4, 10): (18, 273), (0.45, 10): (21, 270), (0.5, 10): (20, 297), (0.55, 10): (21, 270), (0.6, 10): (14, 261), (0.65, 10): (16, 231), (0.7, 10): (16, 228)}\n",
            "{(0.25, 10): (23, 286), (0.3, 10): (21, 291), (0.35, 10): (21, 290), (0.4, 10): (15, 259), (0.45, 10): (23, 271), (0.5, 10): (17, 288), (0.55, 10): (21, 277), (0.6, 10): (22, 247), (0.65, 10): (19, 256), (0.7, 10): (20, 217)}\n",
            "{(0.25, 10): (18, 312), (0.3, 10): (15, 286), (0.35, 10): (19, 285), (0.4, 10): (18, 275), (0.45, 10): (20, 265), (0.5, 10): (15, 276), (0.55, 10): (18, 273), (0.6, 10): (19, 260), (0.65, 10): (15, 243), (0.7, 10): (19, 253)}\n",
            "{(0.25, 10): (20, 279), (0.3, 10): (18, 314), (0.35, 10): (14, 283), (0.4, 10): (18, 289), (0.45, 10): (20, 277), (0.5, 10): (15, 271), (0.55, 10): (22, 257), (0.6, 10): (18, 251), (0.65, 10): (18, 243), (0.7, 10): (19, 222)}\n",
            "{(0.25, 10): (17, 300), (0.3, 10): (21, 259), (0.35, 10): (23, 294), (0.4, 10): (18, 280), (0.45, 10): (19, 275), (0.5, 10): (14, 287), (0.55, 10): (16, 262), (0.6, 10): (16, 262), (0.65, 10): (15, 254), (0.7, 10): (10, 225)}\n",
            "{(0.25, 10): (22, 300), (0.3, 10): (12, 285), (0.35, 10): (24, 264), (0.4, 10): (21, 260), (0.45, 10): (17, 285), (0.5, 10): (20, 245), (0.55, 10): (20, 248), (0.6, 10): (18, 242), (0.65, 10): (21, 251), (0.7, 10): (22, 224)}\n",
            "{(0.25, 10): (17, 311), (0.3, 10): (26, 295), (0.35, 10): (19, 274), (0.4, 10): (21, 264), (0.45, 10): (20, 261), (0.5, 10): (22, 262), (0.55, 10): (13, 248), (0.6, 10): (17, 257), (0.65, 10): (16, 246), (0.7, 10): (17, 213)}\n"
          ],
          "name": "stdout"
        },
        {
          "output_type": "execute_result",
          "data": {
            "text/plain": [
              "[{(0.25, 10): (18, 305),\n",
              "  (0.3, 10): (22, 287),\n",
              "  (0.35, 10): (19, 289),\n",
              "  (0.4, 10): (18, 286),\n",
              "  (0.45, 10): (22, 267),\n",
              "  (0.5, 10): (15, 263),\n",
              "  (0.55, 10): (19, 277),\n",
              "  (0.6, 10): (23, 237),\n",
              "  (0.65, 10): (16, 231),\n",
              "  (0.7, 10): (24, 235)},\n",
              " {(0.25, 10): (18, 301),\n",
              "  (0.3, 10): (15, 289),\n",
              "  (0.35, 10): (24, 306),\n",
              "  (0.4, 10): (18, 273),\n",
              "  (0.45, 10): (21, 270),\n",
              "  (0.5, 10): (20, 297),\n",
              "  (0.55, 10): (21, 270),\n",
              "  (0.6, 10): (14, 261),\n",
              "  (0.65, 10): (16, 231),\n",
              "  (0.7, 10): (16, 228)},\n",
              " {(0.25, 10): (23, 286),\n",
              "  (0.3, 10): (21, 291),\n",
              "  (0.35, 10): (21, 290),\n",
              "  (0.4, 10): (15, 259),\n",
              "  (0.45, 10): (23, 271),\n",
              "  (0.5, 10): (17, 288),\n",
              "  (0.55, 10): (21, 277),\n",
              "  (0.6, 10): (22, 247),\n",
              "  (0.65, 10): (19, 256),\n",
              "  (0.7, 10): (20, 217)},\n",
              " {(0.25, 10): (18, 312),\n",
              "  (0.3, 10): (15, 286),\n",
              "  (0.35, 10): (19, 285),\n",
              "  (0.4, 10): (18, 275),\n",
              "  (0.45, 10): (20, 265),\n",
              "  (0.5, 10): (15, 276),\n",
              "  (0.55, 10): (18, 273),\n",
              "  (0.6, 10): (19, 260),\n",
              "  (0.65, 10): (15, 243),\n",
              "  (0.7, 10): (19, 253)},\n",
              " {(0.25, 10): (20, 279),\n",
              "  (0.3, 10): (18, 314),\n",
              "  (0.35, 10): (14, 283),\n",
              "  (0.4, 10): (18, 289),\n",
              "  (0.45, 10): (20, 277),\n",
              "  (0.5, 10): (15, 271),\n",
              "  (0.55, 10): (22, 257),\n",
              "  (0.6, 10): (18, 251),\n",
              "  (0.65, 10): (18, 243),\n",
              "  (0.7, 10): (19, 222)},\n",
              " {(0.25, 10): (17, 300),\n",
              "  (0.3, 10): (21, 259),\n",
              "  (0.35, 10): (23, 294),\n",
              "  (0.4, 10): (18, 280),\n",
              "  (0.45, 10): (19, 275),\n",
              "  (0.5, 10): (14, 287),\n",
              "  (0.55, 10): (16, 262),\n",
              "  (0.6, 10): (16, 262),\n",
              "  (0.65, 10): (15, 254),\n",
              "  (0.7, 10): (10, 225)},\n",
              " {(0.25, 10): (22, 300),\n",
              "  (0.3, 10): (12, 285),\n",
              "  (0.35, 10): (24, 264),\n",
              "  (0.4, 10): (21, 260),\n",
              "  (0.45, 10): (17, 285),\n",
              "  (0.5, 10): (20, 245),\n",
              "  (0.55, 10): (20, 248),\n",
              "  (0.6, 10): (18, 242),\n",
              "  (0.65, 10): (21, 251),\n",
              "  (0.7, 10): (22, 224)},\n",
              " {(0.25, 10): (17, 311),\n",
              "  (0.3, 10): (26, 295),\n",
              "  (0.35, 10): (19, 274),\n",
              "  (0.4, 10): (21, 264),\n",
              "  (0.45, 10): (20, 261),\n",
              "  (0.5, 10): (22, 262),\n",
              "  (0.55, 10): (13, 248),\n",
              "  (0.6, 10): (17, 257),\n",
              "  (0.65, 10): (16, 246),\n",
              "  (0.7, 10): (17, 213)}]"
            ]
          },
          "metadata": {
            "tags": []
          },
          "execution_count": 23
        }
      ]
    }
  ]
}