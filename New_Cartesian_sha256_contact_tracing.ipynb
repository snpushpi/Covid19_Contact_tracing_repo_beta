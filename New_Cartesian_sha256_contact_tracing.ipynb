{
  "nbformat": 4,
  "nbformat_minor": 0,
  "metadata": {
    "colab": {
      "name": "New_Cartesian_sha256_contact_tracing.ipynb",
      "provenance": [],
      "collapsed_sections": [],
      "authorship_tag": "ABX9TyOSt5uVXSLD9Xn/X5VIXC4W"
    },
    "kernelspec": {
      "name": "python3",
      "display_name": "Python 3"
    }
  },
  "cells": [
    {
      "cell_type": "code",
      "metadata": {
        "id": "I-FepysOZZkd",
        "colab_type": "code",
        "colab": {}
      },
      "source": [
        "import collections\n",
        "import hashlib\n",
        "import numpy as np\n",
        "import matplotlib as mpl\n",
        "import matplotlib.pyplot as plt\n",
        "import math\n",
        "import random\n",
        "from collections import Counter"
      ],
      "execution_count": 37,
      "outputs": []
    },
    {
      "cell_type": "code",
      "metadata": {
        "id": "IRtrUNurZlVV",
        "colab_type": "code",
        "colab": {}
      },
      "source": [
        "class Differential_Privacy_CMS():\n",
        "    def __init__(self, width, depth,epsilon,max_coor):\n",
        "        ''' Method to initialize the data structure\n",
        "        @param width int: Width of the table\n",
        "        @param depth int: Depth of the table (num of hash func)\n",
        "        @param epsilon: privacy parameter\n",
        "        In this case, when we declare differential privacy class instance, we give the parameters m and k, or width and depth\n",
        "        '''\n",
        "        self.width = width #hash values range between 0 to width-1\n",
        "        self.depth = depth #number of hash functions\n",
        "        self.epsilon = epsilon \n",
        "        self.seed = np.random.choice(np.arange(0,self.width),replace=False,size=self.depth)\n",
        "        self.max = max_coor\n",
        "\n",
        "    #Implementing the client side algorithm which works on each particular data element. First it selects an integer randomly from 0 to depth-1, \n",
        "    #we store that value as j, next, we initialize a vector of -1, of length width, and set that jth index as 1. Then we create another vector of -1s\n",
        "    #and +1s, with fixed probabilities determined by the parameter epsilon. Then we do element wise multioplication and return the \n",
        "    #result vector. \n",
        "    def CLient_Side(self,d):\n",
        "        '''parameters are a data element, epsilon value and a hash family, but we are using mmh3 here so didn't add that as a parameter'''\n",
        "        d = d[0]*self.max+d[1]\n",
        "        j = np.random.randint(self.depth) \n",
        "        z_vect = np.zeros((1,self.width))\n",
        "        v = z_vect-1 \n",
        "        hex_num = hashlib.sha256((str(self.seed[j])+str(d)).encode('utf-8')).hexdigest()\n",
        "        int_hex = int(hex_num[:5],16)\n",
        "        index = int_hex % self.width\n",
        "        v[0,index]=1\n",
        "        val = np.exp(self.epsilon/2)\n",
        "        probability_of_1 = val/(val+1) \n",
        "        probability_of_neg_1 = 1/(val+1)\n",
        "        b = np.random.choice([1,-1],self.width,p=[probability_of_1,probability_of_neg_1]) \n",
        "        final_vector = v*b\n",
        "        return (final_vector,j) \n",
        "\n",
        "    def Compute_Sketch_Matrix(self,D):\n",
        "        '''So each element of D is a tuple where the first element is v_i and second element is j_i(which is created by the above funstion after getting \n",
        "        passed by Client_side each time), we have privacy parameter epsilon and dimensions. v_i is the a vector an it has the sma eshape as the \n",
        "        vectors returned by the Client_side algorithm'''\n",
        "        val = np.exp(self.epsilon/2)\n",
        "        n = len(D)\n",
        "        c_epsilon = (val+1)/(val-1) \n",
        "        vec_one = np.ones((1,self.width))\n",
        "        manipulated_data_matrix = np.zeros((n,self.width)) #Creatimg a matrix for x_is\n",
        "        for elt in enumerate(D):\n",
        "            new_vect = elt[1][0].reshape((1,self.width))\n",
        "            man_vect = (c_epsilon/2)*new_vect #scalar and vector multiplication \n",
        "            half_vec_one = 0.5*vec_one \n",
        "            sum_vect = man_vect + half_vec_one\n",
        "            manipulated_data_matrix[[elt[0]],:]= self.depth*sum_vect  \n",
        "        M = np.zeros((self.depth,self.width))\n",
        "        for elt in enumerate(D):\n",
        "            for l in range(self.width): \n",
        "                M[elt[1][1],l]=M[elt[1][1],l]+manipulated_data_matrix[elt[0],l]\n",
        "        return M \n",
        "\n",
        "    def Server_Side(self,Sketch_Matrix,d,length):\n",
        "        '''It returns the estimated frequency of a data element given to it. So it has two parameters, data element and the length of the \n",
        "        data stream we are considering'''\n",
        "        d = d[0]*self.max+d[1]\n",
        "        n = length \n",
        "        frac1 = self.width/(self.width-1)\n",
        "        frac2 = n/self.width\n",
        "        row_sum = 0\n",
        "        for i in range(self.depth):\n",
        "            hex_num = hashlib.sha256((str(self.seed[i])+str(d)).encode('utf-8')).hexdigest()\n",
        "            int_hex = int(hex_num[:5],16)\n",
        "            index = int_hex % self.width\n",
        "            row_sum = row_sum + Sketch_Matrix[i,index]\n",
        "        avg_row_sum = row_sum/self.depth \n",
        "        subtraction = avg_row_sum - frac2 \n",
        "        assumed_freq = frac1*subtraction \n",
        "        return assumed_freq\n",
        "        \n",
        "    def Count_Mean_Sketch(self,D_s,D): \n",
        "        '''D_s is the stream of data and this is a subset of universe of data'''\n",
        "        Modified_datalist = []\n",
        "        Sketch_Matrix = []\n",
        "        freq_vect = {}\n",
        "        length = len(D_s) \n",
        "        for elt in enumerate(D_s):\n",
        "            Modified_datalist.append(self.CLient_Side(elt[1])) \n",
        "        Sketch_Matrix = self.Compute_Sketch_Matrix(Modified_datalist)\n",
        "        for d in D:\n",
        "            freq_vect[d] = self.Server_Side(Sketch_Matrix,d,length) \n",
        "\n",
        "        return freq_vect"
      ],
      "execution_count": 38,
      "outputs": []
    },
    {
      "cell_type": "code",
      "metadata": {
        "id": "20X-y3YBZq00",
        "colab_type": "code",
        "colab": {}
      },
      "source": [
        "def frequency_counter_on_average(path_list,epsilon,universe_list):\n",
        "    '''This function runs the entire process multiple times and take the running average of frequencies for reducing error. Parameters are the \n",
        "    original path whose frequency histogram we want to get, universe list which is basically all the points the server will find the frequency\n",
        "    '''\n",
        "    freq_counter_cum = {d:0 for d in universe_list}\n",
        "    for i in range(500):\n",
        "        class_instance = Differential_Privacy_CMS(100,100,epsilon,90)\n",
        "        freq_counter_new = class_instance.Count_Mean_Sketch(path_list, universe_list)\n",
        "        for d in freq_counter_new:\n",
        "            freq_counter_cum[d]=(i*freq_counter_cum[d]+freq_counter_new[d])/(i+1)\n",
        "    return freq_counter_cum\n",
        "    "
      ],
      "execution_count": 52,
      "outputs": []
    },
    {
      "cell_type": "code",
      "metadata": {
        "id": "0p6B-D93ZufR",
        "colab_type": "code",
        "colab": {}
      },
      "source": [
        "def dictionary_adder(dict1,dict2):\n",
        "    z = dict1.copy()\n",
        "    for elt in dict2:\n",
        "        z[elt]=z.get(elt,0)+dict2[elt]\n",
        "    return z"
      ],
      "execution_count": 40,
      "outputs": []
    },
    {
      "cell_type": "code",
      "metadata": {
        "id": "d0lEeXhKZxdC",
        "colab_type": "code",
        "colab": {}
      },
      "source": [
        "#This paret generates a true path and mentioned number of fake paths.\n",
        "def vertex_position_determiner(vertex):\n",
        "    '''it determines whether any vertice is corner or on the border-edge or anything else'''\n",
        "    x = vertex[0]\n",
        "    y = vertex[1]\n",
        "    if x==wrap.x_min or x==wrap.x_max:\n",
        "        if y==wrap.y_min or y==wrap.y_max:\n",
        "            return 'corner'\n",
        "        else:\n",
        "            return 'border-edge'\n",
        "    elif y==wrap.y_min or y==wrap.y_max:\n",
        "        return 'border-edge'\n",
        "    else:\n",
        "        return 'normal'\n",
        "def corner_neighbor_gen(vertex):\n",
        "    '''generates neighbors of 4 corners'''\n",
        "    x = vertex[0]\n",
        "    y = vertex[1]\n",
        "    if x==wrap.x_min and y==wrap.y_min:\n",
        "        return [(x+1,y),(x,y+1)]\n",
        "    if x==wrap.x_max and y==wrap.y_min:\n",
        "        return [(x-1,y),(x,y+1)] \n",
        "    if x==wrap.x_max and y==wrap.y_max:\n",
        "        return [(x-1,y),(x,y-1)]\n",
        "    if x==wrap.x_min and y==wrap.y_max:\n",
        "        return [(x+1,y),(x,y-1)]\n",
        "def side_neighbor_gen(vertex):    \n",
        "    ''' generates neighbors of vertices on the side of the grid but not the corner'''\n",
        "    x = vertex[0]\n",
        "    y = vertex[1]\n",
        "    if x==wrap.x_min:\n",
        "        return [(x,y-1),(x,y+1),(x+1,y)]\n",
        "    if x==wrap.x_max:\n",
        "        return [(x-1,y),(x,y+1),(x,y-1)]\n",
        "    if y==wrap.y_min:\n",
        "        return [(x-1,y),(x+1,y),(x,y+1)] \n",
        "    if y==wrap.y_max:\n",
        "        return [(x,y-1),(x-1,y),(x+1,y)] \n",
        "def normal_neighbor_gen(vertex):\n",
        "    '''generates neighbors of all other vertices'''\n",
        "    x = vertex[0]\n",
        "    y = vertex[1]\n",
        "    return [(x-1,y),(x+1,y),(x,y+1),(x,y-1)]\n",
        "def path_creator(center_vertex,path_length):\n",
        "    '''it will start creating a path of length given as a parameter in the function starting from the center vertex.'''\n",
        "    current_vertex = center_vertex\n",
        "    path = [] \n",
        "    for i in range(path_length):\n",
        "        path.append(current_vertex)\n",
        "        pos_det = vertex_position_determiner(current_vertex)\n",
        "        if pos_det=='normal':\n",
        "            ind = np.random.randint(4) \n",
        "            current_vertex = normal_neighbor_gen(current_vertex)[ind] \n",
        "        elif pos_det == 'corner': \n",
        "            ind = np.random.randint(2)\n",
        "            current_vertex = corner_neighbor_gen(current_vertex)[ind]\n",
        "        else:\n",
        "            ind = np.random.randint(3) \n",
        "            current_vertex = side_neighbor_gen(current_vertex)[ind]\n",
        "    return path"
      ],
      "execution_count": 41,
      "outputs": []
    },
    {
      "cell_type": "code",
      "metadata": {
        "id": "31LGrGy_Z2NP",
        "colab_type": "code",
        "colab": {}
      },
      "source": [
        "def wrap(x_min, x_max, y_min, y_max, center_vertex, path_length):\n",
        "    ''''So here we are fixing a rectangular area inside which we are trying to create paths. So x_min,x_max,y_min,y_max\n",
        "    determines the 4 corners of that rectangular area. Path length indicates the length of the path we are \n",
        "    trying to create. This function returns one true path and mentioned number of fake paths. So true path is one list and \n",
        "    fake paths is a list of lists, in other words, fake paths.'''\n",
        "    wrap.x_min = x_min\n",
        "    wrap.x_max = x_max\n",
        "    wrap.y_min = y_min\n",
        "    wrap.y_max = y_max\n",
        "    return path_creator(center_vertex, path_length) \n"
      ],
      "execution_count": 42,
      "outputs": []
    },
    {
      "cell_type": "code",
      "metadata": {
        "id": "-RqJu4CZZ6x1",
        "colab_type": "code",
        "colab": {}
      },
      "source": [
        "def path_list_frequency_generator(path_list,epsilon,universe_list):\n",
        "    '''path_list is a list of lists. This function just generates frequency histograms'''\n",
        "    result_list =[]\n",
        "    agg_dict = {}\n",
        "    for elt in path_list:\n",
        "        my_dict = frequency_counter_on_average(elt,epsilon, universe_list)\n",
        "        result_list.append(my_dict)\n",
        "        agg_dict = dictionary_adder(agg_dict,my_dict)\n",
        "    return result_list, agg_dict"
      ],
      "execution_count": 43,
      "outputs": []
    },
    {
      "cell_type": "code",
      "metadata": {
        "id": "hBlsIy8xZ9Kc",
        "colab_type": "code",
        "colab": {}
      },
      "source": [
        "class querier():\n",
        "    def __init__(self,true_path):\n",
        "        self.true_path = true_path\n",
        "    def generating_universe_list(self):\n",
        "        '''upon calling this method, the querier will return a universe list which the server will send to all infected patients to do\n",
        "        operations on their side.'''\n",
        "        #first find the highest and lowest x and y co-ordinates in the true path of the querier.\n",
        "        x_min = self.true_path[0][0]\n",
        "        x_max = self.true_path[0][0]\n",
        "        y_min = self.true_path[0][1]\n",
        "        y_max = self.true_path[0][1]\n",
        "        l = len(self.true_path)\n",
        "        for i in range(1,l):\n",
        "            if self.true_path[i][0]<x_min:\n",
        "                x_min = self.true_path[i][0]\n",
        "            if self.true_path[i][0]>x_max:\n",
        "                x_max = self.true_path[i][0]\n",
        "            if self.true_path[i][1]<y_min:\n",
        "                y_min = self.true_path[i][1]\n",
        "            if self.true_path[i][1]>y_max:\n",
        "                y_max = self.true_path[i][1]\n",
        "        #particularly for this instance, we are willing to generate 8 fake paths to make a big path list as universe list\n",
        "        path_list = []\n",
        "        center_vertex  = [self.true_path[i] for i in range(96,104)]\n",
        "        for i in range(8):\n",
        "            path = wrap(x_min, x_max, y_min, y_max, center_vertex[i], 200)\n",
        "            path_list+=path\n",
        "        path_list = self.true_path+path_list\n",
        "        return list(set(path_list))\n",
        "\n",
        "    def checker(self,big_dict):\n",
        "        result_list =[]\n",
        "        s = set(self.true_path)\n",
        "        for elt in s:\n",
        "            if big_dict.get(elt,0)>=1:\n",
        "                result_list.append(elt)\n",
        "        return result_list"
      ],
      "execution_count": 45,
      "outputs": []
    },
    {
      "cell_type": "code",
      "metadata": {
        "id": "mgClC-ISgPGs",
        "colab_type": "code",
        "colab": {}
      },
      "source": [
        "class infected():\n",
        "    def __init__(self,true_path,id,global_id):\n",
        "        self.__true_path = true_path\n",
        "        self.id = id #will be fixed by some controller part\n",
        "        self.histogram = None #server will give this data afterwards, this is just a list of dictionaries.\n",
        "        self.global_id = global_id\n",
        "        self.all_coordinates =  []\n",
        "        self.filtered_true_path = None\n",
        "        self.fake_path_lists = []\n",
        "        self.all_path_list =[]\n",
        "\n",
        "    def path_finder_and_generator(self,universe_list,number_of_fake_paths,path_length):\n",
        "        '''Finds the intersection of the universe list and true path which we call filtered_true_path and then also generates a bunch\n",
        "        of fake paths with mentioned path_length'''\n",
        "        self.filtered_true_path = list(set(universe_list) & set(self.__true_path))\n",
        "        check_length = len(self.filtered_true_path)\n",
        "        l = len(universe_list)\n",
        "        for i in range(number_of_fake_paths):\n",
        "            fake_path_index_list = np.random.choice(np.arange(0,l),replace=False,size=path_length).tolist()\n",
        "            fake_path_list = [universe_list[elt] for elt in fake_path_index_list]\n",
        "            fake_path_list = fake_path_list[:check_length]\n",
        "            self.fake_path_lists.append(fake_path_list)\n",
        "        self.all_path_list = self.fake_path_lists + [self.filtered_true_path]\n",
        "\n",
        "    def decrementer(self, big_hist, participant_list):\n",
        "        '''Each infected patient will call this method with the id of the next person unless his id is the global id in which case he just sends it \n",
        "        to the querier.'''\n",
        "        true_path_histogram = self.histogram.pop(0)\n",
        "        for hist in self.histogram:\n",
        "            for elt in hist:\n",
        "                if elt not in true_path_histogram and big_hist:\n",
        "                    big_hist[elt]=big_hist[elt]-hist[elt]\n",
        "        if self.id==self.global_id:\n",
        "            return participant_list[-1].checker(big_hist)\n",
        "        if self.id!=self.global_id:#sent to the next infected\n",
        "            return participant_list[self.id+1].decrementer(big_hist, participant_list)\n"
      ],
      "execution_count": 50,
      "outputs": []
    },
    {
      "cell_type": "code",
      "metadata": {
        "id": "GCScbb8s1U4H",
        "colab_type": "code",
        "colab": {}
      },
      "source": [
        "def new_aggregated_mode(infected_patients, querier, epsilon, path_length):\n",
        "    '''1. After creating the querier instance in the driver code,we call the generating universe list method on querier.\n",
        "    2. Feed that universe_list to all infected patient instances.\n",
        "    2.For each of the infected patient in the infected_patients, we create freq histograms for each path in the path  list and also create a\n",
        "    a histogram where each element's frequency is the summation of all frequencies of all the elements in path list. This part is actually \n",
        "    the same as the previuos code version.\n",
        "    2.We create the participant list as a list of all instances who participated in this calculation.\n",
        "    3.call the decrementer method on first infected patient'''\n",
        "    universe_list = querier.generating_universe_list()\n",
        "    big_dict = {}\n",
        "    for infected_patient in infected_patients:\n",
        "        infected_patient.path_finder_and_generator(universe_list,3,path_length)\n",
        "        dict_list,agg_dict = path_list_frequency_generator(infected_patient.all_path_list,epsilon,universe_list)\n",
        "        infected_patient.histogram = dict_list\n",
        "        big_dict = dictionary_adder(big_dict, agg_dict)\n",
        "    participant_list = infected_patients + [querier]\n",
        "    return infected_patients[0].decrementer(big_dict, participant_list)"
      ],
      "execution_count": 47,
      "outputs": []
    },
    {
      "cell_type": "code",
      "metadata": {
        "id": "S745r2KYv-Yz",
        "colab_type": "code",
        "colab": {}
      },
      "source": [
        "def accuracy_checker(predicted_path, original_path):\n",
        "    '''Here we have two lists of intersections, one original and one predicted path.'''\n",
        "    ps = set(predicted_path)\n",
        "    os = set(original_path)\n",
        "    common = ps & os\n",
        "    false_signals = ps-common\n",
        "    missed_signals = os-common\n",
        "    return common,false_signals, missed_signals"
      ],
      "execution_count": 48,
      "outputs": []
    },
    {
      "cell_type": "code",
      "metadata": {
        "id": "naKm11erwC8p",
        "colab_type": "code",
        "colab": {
          "base_uri": "https://localhost:8080/",
          "height": 34
        },
        "outputId": "0818c3f1-d0ef-4f71-9871-6fcc9c7475a8"
      },
      "source": [
        "#Test type 4, multiple intersections, came from all infected patients. While writing this test case, observe that \n",
        "\n",
        "true_pathi1 = wrap(0,19,0,79,(11,45),200)\n",
        "true_pathi2 = wrap(0,19,0,79,(56,11),200)\n",
        "true_pathi3 = wrap(0,19,0,79,(7,4),200)\n",
        "infected1 = infected(true_pathi1, 1,3)\n",
        "infected2 = infected(true_pathi2, 2,3)\n",
        "infected3 = infected(true_pathi3, 3,3)\n",
        "infected_patients = [infected1, infected2, infected3]\n",
        "path = [(0, 0), (0, 1), (0, 2), (0, 3), (0, 4), (0, 5), (0, 6), (0, 7), (0, 8), (0, 9), (0, 10), (0, 11), (0, 12), (0, 13), (0, 14), (0, 15), (0, 16), (0, 17), (0, 18), (0, 19), (0, 20), (0, 21), (0, 22), (0, 23), (0, 24), (0, 25), (0, 26), (0, 27), (0, 28), (0, 29), (0, 30), (0, 31), (0, 32), (0, 33), (0, 34), (0, 35), (0, 36), (0, 37), (0, 38), (0, 39), (0, 40), (0, 41), (0, 42), (0, 43), (0, 44), (0, 45), (0, 46), (0, 47), (0, 48), (0, 49), (0, 50), (0, 51), (0, 52), (0, 53), (0, 54), (0, 55), (0, 56), (0, 57), (0, 58), (0, 59), (0, 60), (0, 61), (0, 62), (0, 63), (0, 64), (0, 65), (0, 66), (0, 67), (0, 68), (0, 69), (0, 70), (1, 70), (2, 70), (3, 70), (4, 70), (5, 70), (6, 70), (7, 70), (8, 70), (9, 70), (10, 70), (11, 70), (12, 70), (13, 70), (14, 70), (15, 70), (16, 70), (17, 70), (18, 70), (19, 70), (20, 70), (21, 70), (22, 70), (23, 70), (24, 70), (25, 70), (26, 70), (27, 70), (28, 70), (29, 70), (30, 70), (31, 70), (32, 70), (33, 70), (34, 70), (35, 70), (36, 70), (37, 70), (38, 70), (39, 70), (40, 70), (41, 70), (42, 70), (43, 70), (44, 70), (45, 70), (46, 70), (47, 70), (48, 70), (49, 70), (50, 70), (51, 70), (52, 70), (53, 70), (54, 70), (55, 70), (56, 70), (57, 70), (58, 70), (59, 70), (60, 70), (61, 70), (62, 70), (63, 70), (64, 70), (65, 70), (66, 70), (67, 70), (68, 70), (69, 70), (70, 70), (0, 0), (0, 1), (0, 2), (0, 3), (0, 4), (0, 5), (0, 6), (0, 7), (0, 8), (0, 9), (0, 10), (0, 11), (0, 12), (0, 13), (0, 14), (0, 15), (0, 16), (0, 17), (0, 18), (0, 19), (0, 20), (0, 21), (0, 22), (0, 23), (0, 24), (0, 25), (0, 26), (0, 27), (0, 28), (0, 29), (0, 30), (0, 31), (0, 32), (0, 33), (0, 34), (0, 35), (0, 36), (0, 37), (0, 38), (0, 39), (0, 40), (0, 41), (0, 42), (0, 43), (0, 44), (0, 45), (0, 46), (0, 47), (0, 48), (0, 49), (0, 50), (0, 51), (0, 52), (0, 53), (0, 54), (0, 55), (0, 56), (0, 57), (0, 58), (0, 59), (0, 60), (0, 61), (0, 62), (0, 63), (0, 64), (0, 65), (0, 66), (0, 67), (0, 68), (0, 69), (0, 70), (70, 71), (70, 72), (70, 73), (70, 74), (70, 75), (70, 76), (70, 77), (70, 78), (70, 79), (71, 79), (72, 79), (73, 79), (74, 79), (75, 79), (76, 79), (77, 79), (78, 79), (79, 79), (79, 78), (79, 77), (79, 76), (79, 75), (79, 74), (79, 73), (79, 72), (79, 71), (79, 70), (79, 69), (79, 68), (79, 67), (79, 66), (79, 65), (79, 64), (79, 63), (79, 62), (79, 61), (79, 60), (79, 59), (79, 58), (79, 57), (79, 56), (79, 55), (79, 54), (79, 53), (79, 52), (79, 51), (79, 50), (79, 49), (79, 48), (79, 47), (79, 46), (79, 45), (79, 44), (79, 43), (79, 42), (79, 41), (79, 40), (79, 39)]\n",
        "client = querier(path)#creating querier class instance\n",
        "path_length = 200\n",
        "epsilon = 5\n",
        "new_aggregated_mode(infected_patients, client, epsilon, path_length)"
      ],
      "execution_count": 53,
      "outputs": [
        {
          "output_type": "execute_result",
          "data": {
            "text/plain": [
              "[]"
            ]
          },
          "metadata": {
            "tags": []
          },
          "execution_count": 53
        }
      ]
    },
    {
      "cell_type": "code",
      "metadata": {
        "id": "yWsv9zO5FBj3",
        "colab_type": "code",
        "colab": {
          "base_uri": "https://localhost:8080/",
          "height": 34
        },
        "outputId": "cd289318-d208-439d-afd8-cf5741ce9d3c"
      },
      "source": [
        "set(true_pathi1+true_pathi2+true_pathi3) & set(path)"
      ],
      "execution_count": 56,
      "outputs": [
        {
          "output_type": "execute_result",
          "data": {
            "text/plain": [
              "set()"
            ]
          },
          "metadata": {
            "tags": []
          },
          "execution_count": 56
        }
      ]
    }
  ]
}