{
  "nbformat": 4,
  "nbformat_minor": 0,
  "metadata": {
    "colab": {
      "name": "Differential_Privacy.ipynb",
      "provenance": [],
      "collapsed_sections": []
    },
    "kernelspec": {
      "name": "python3",
      "display_name": "Python 3"
    }
  },
  "cells": [
    {
      "cell_type": "code",
      "metadata": {
        "id": "gnqkueenuZ-k",
        "colab_type": "code",
        "colab": {
          "base_uri": "https://localhost:8080/",
          "height": 123
        },
        "outputId": "ea42055b-d18d-4d44-cb87-fbd25cee0ba6"
      },
      "source": [
        ""
      ],
      "execution_count": null,
      "outputs": [
        {
          "output_type": "stream",
          "text": [
            "Go to this URL in a browser: https://accounts.google.com/o/oauth2/auth?client_id=947318989803-6bn6qk8qdgf4n4g3pfee6491hc0brc4i.apps.googleusercontent.com&redirect_uri=urn%3aietf%3awg%3aoauth%3a2.0%3aoob&response_type=code&scope=email%20https%3a%2f%2fwww.googleapis.com%2fauth%2fdocs.test%20https%3a%2f%2fwww.googleapis.com%2fauth%2fdrive%20https%3a%2f%2fwww.googleapis.com%2fauth%2fdrive.photos.readonly%20https%3a%2f%2fwww.googleapis.com%2fauth%2fpeopleapi.readonly\n",
            "\n",
            "Enter your authorization code:\n",
            "··········\n",
            "Mounted at /content/drive\n"
          ],
          "name": "stdout"
        }
      ]
    },
    {
      "cell_type": "markdown",
      "metadata": {
        "id": "uOq76YyNPCq1",
        "colab_type": "text"
      },
      "source": [
        "# New Section"
      ]
    },
    {
      "cell_type": "markdown",
      "metadata": {
        "id": "0h41kp35PEIa",
        "colab_type": "text"
      },
      "source": [
        "# New Section"
      ]
    },
    {
      "cell_type": "code",
      "metadata": {
        "id": "4F_VdqzBuT5R",
        "colab_type": "code",
        "colab": {
          "base_uri": "https://localhost:8080/",
          "height": 170
        },
        "outputId": "aa26b1b2-6c90-4249-b387-9112c044af2b"
      },
      "source": [
        ""
      ],
      "execution_count": null,
      "outputs": [
        {
          "output_type": "stream",
          "text": [
            "Collecting mmh3\n",
            "  Downloading https://files.pythonhosted.org/packages/fa/7e/3ddcab0a9fcea034212c02eb411433db9330e34d626360b97333368b4052/mmh3-2.5.1.tar.gz\n",
            "Building wheels for collected packages: mmh3\n",
            "  Building wheel for mmh3 (setup.py) ... \u001b[?25l\u001b[?25hdone\n",
            "  Created wheel for mmh3: filename=mmh3-2.5.1-cp36-cp36m-linux_x86_64.whl size=37856 sha256=e2048396341710395c189c3b01ca08d97707e737d47e0a02b4bb3c26019bebfe\n",
            "  Stored in directory: /root/.cache/pip/wheels/38/b4/ea/6e4e321c625d3320c0c496bf4088371546d8fce5f1dd71b219\n",
            "Successfully built mmh3\n",
            "Installing collected packages: mmh3\n",
            "Successfully installed mmh3-2.5.1\n"
          ],
          "name": "stdout"
        }
      ]
    },
    {
      "cell_type": "code",
      "metadata": {
        "id": "QETW1E0H5WEL",
        "colab_type": "code",
        "colab": {}
      },
      "source": [
        "import collections\n",
        "import hashlib\n",
        "import numpy as np\n",
        "import matplotlib as mpl\n",
        "import matplotlib.pyplot as plt\n",
        "import math\n",
        "import random\n",
        "from collections import Counter"
      ],
      "execution_count": 1,
      "outputs": []
    },
    {
      "cell_type": "code",
      "metadata": {
        "id": "nOMy7KPOugax",
        "colab_type": "code",
        "colab": {}
      },
      "source": [
        "class Differential_Privacy_CMS():\n",
        "    def __init__(self, width, depth,epsilon):\n",
        "        ''' Method to initialize the data structure\n",
        "        @param width int: Width of the table\n",
        "        @param depth int: Depth of the table (num of hash func)\n",
        "        @param epsilon: privacy parameter\n",
        "        In this case, when we declare differential privacy class instance, we give the parameters m and k, or width and depth\n",
        "        '''\n",
        "        self.width = width #hash values range between 0 to width-1\n",
        "        self.depth = depth #number of hash functions\n",
        "        self.epsilon = epsilon \n",
        "        self.seed = np.random.choice(np.arange(0,self.width),replace=False,size=self.depth)\n",
        "    #Implementing the client side algorithm which works on each particular data element. First it selects an integer randomly from 0 to depth-1, \n",
        "#we store that value as j, next, we initialize a vector of -1, of length width, and set that jth index as 1. Then we create another vector of -1s\n",
        "#and +1s, with fixed probabilities determined by the parameter epsilon. Then we do element wise multioplication and return the \n",
        "#result vector. \n",
        "\n",
        "    def CLient_Side(self,d):\n",
        "        '''parameters are a data element, epsilon value and a hash family, but we are using mmh3 here so didn't add that as a parameter'''\n",
        "        j = np.random.randint(self.depth) \n",
        "        z_vect = np.zeros((1,self.width))\n",
        "        v = z_vect-1 \n",
        "        hex_num = hashlib.sha256((str(self.seed[j])+str(d)).encode('utf-8')).hexdigest()\n",
        "        int_hex = int(hex_num[:5],16)\n",
        "        index = int_hex % self.width\n",
        "        v[0,index]=1\n",
        "        val = np.exp(self.epsilon/2)\n",
        "        probability_of_1 = val/(val+1) \n",
        "        probability_of_neg_1 = 1/(val+1)\n",
        "        b = np.random.choice([1,-1],self.width,p=[probability_of_1,probability_of_neg_1]) \n",
        "        final_vector = v*b\n",
        "        return (final_vector,j) \n",
        "\n",
        "    def Compute_Sketch_Matrix(self,D):\n",
        "        '''So each element of D is a tuple where the first element is v_i and second element is j_i(which is created by the above funstion after getting \n",
        "        passed by Client_side each time), we have privacy parameter epsilon and dimensions. v_i is the a vector an it has the sma eshape as the \n",
        "        vectors returned by the Client_side algorithm'''\n",
        "        val = np.exp(self.epsilon/2)\n",
        "        n = len(D)\n",
        "        c_epsilon = (val+1)/(val-1) \n",
        "        vec_one = np.ones((1,self.width))\n",
        "        manipulated_data_matrix = np.zeros((n,self.width)) #Creatimg a matrix for x_is\n",
        "        for elt in enumerate(D):\n",
        "            new_vect = elt[1][0].reshape((1,self.width))\n",
        "            man_vect = (c_epsilon/2)*new_vect #scalar and vector multiplication \n",
        "            half_vec_one = 0.5*vec_one \n",
        "            sum_vect = man_vect + half_vec_one\n",
        "            manipulated_data_matrix[[elt[0]],:]= self.depth*sum_vect  \n",
        "        M = np.zeros((self.depth,self.width))\n",
        "        #print(M)\n",
        "        for elt in enumerate(D):\n",
        "            for l in range(self.width): \n",
        "                M[elt[1][1],l]=M[elt[1][1],l]+manipulated_data_matrix[elt[0],l]\n",
        "        #print('hi',M)\n",
        "        return M \n",
        "\n",
        "    def Server_Side(self,Sketch_Matrix,d,length):\n",
        "        '''It returns the estimated frequency of a data element given to it. So it has two parameters, data element and the length of the \n",
        "        data stream we are considering'''\n",
        "        n = length \n",
        "        frac1 = self.width/(self.width-1)\n",
        "        frac2 = n/self.width\n",
        "        row_sum = 0\n",
        "        for i in range(self.depth):\n",
        "            hex_num = hashlib.sha256((str(self.seed[i])+str(d)).encode('utf-8')).hexdigest()\n",
        "            int_hex = int(hex_num[:5],16)\n",
        "            index = int_hex % self.width\n",
        "            row_sum = row_sum + Sketch_Matrix[i,index]\n",
        "        avg_row_sum = row_sum/self.depth \n",
        "        subtraction = avg_row_sum - frac2 \n",
        "        assumed_freq = frac1*subtraction \n",
        "        return assumed_freq\n",
        "        \n",
        "    def Count_Mean_Sketch(self,D_s,D): \n",
        "        '''D_s is the stream of data and this is a subset of universe of data'''\n",
        "        Modified_datalist = []\n",
        "        Sketch_Matrix = []\n",
        "        freq_vect = {}\n",
        "        length = len(D_s) \n",
        "        for elt in enumerate(D_s):\n",
        "            Modified_datalist.append(self.CLient_Side(elt[1])) \n",
        "        Sketch_Matrix = self.Compute_Sketch_Matrix(Modified_datalist)\n",
        "        for d in D:\n",
        "            freq_vect[d] = self.Server_Side(Sketch_Matrix,d,length) \n",
        "        #for d in freq_vect:\n",
        "          \n",
        "            #freq_vect[d]=round(freq_vect[d])\n",
        "        return freq_vect"
      ],
      "execution_count": 19,
      "outputs": []
    },
    {
      "cell_type": "code",
      "metadata": {
        "id": "33ewbwbVrZdA",
        "colab_type": "code",
        "colab": {}
      },
      "source": [
        "path_list = [(0,1),(0,7),(0,7),(0,3),(0,8),(0,10),(1,1),(1,1),(1,1),(8,10),(8,10),(8,20),(7,10)]"
      ],
      "execution_count": 20,
      "outputs": []
    },
    {
      "cell_type": "code",
      "metadata": {
        "id": "uUe0S_W_pREN",
        "colab_type": "code",
        "colab": {
          "base_uri": "https://localhost:8080/",
          "height": 34
        },
        "outputId": "848bad92-6070-4b57-de99-f455e7b60af4"
      },
      "source": [
        "set(path_list)"
      ],
      "execution_count": 21,
      "outputs": [
        {
          "output_type": "execute_result",
          "data": {
            "text/plain": [
              "{(0, 1), (0, 3), (0, 7), (0, 8), (0, 10), (1, 1), (7, 10), (8, 10), (8, 20)}"
            ]
          },
          "metadata": {
            "tags": []
          },
          "execution_count": 21
        }
      ]
    },
    {
      "cell_type": "code",
      "metadata": {
        "id": "wlPP4igt2lkz",
        "colab_type": "code",
        "colab": {
          "base_uri": "https://localhost:8080/",
          "height": 34
        },
        "outputId": "ae83acce-e2ea-46ed-c2a8-c2261da5817c"
      },
      "source": [
        "path_list.count((0,6))"
      ],
      "execution_count": 22,
      "outputs": [
        {
          "output_type": "execute_result",
          "data": {
            "text/plain": [
              "0"
            ]
          },
          "metadata": {
            "tags": []
          },
          "execution_count": 22
        }
      ]
    },
    {
      "cell_type": "code",
      "metadata": {
        "id": "qDvTi5GDbVgY",
        "colab_type": "code",
        "colab": {}
      },
      "source": [
        "def frequency_counter_on_average(path_list,epsilon,run_number):\n",
        "    '''This function runs the entire process multiple and take the running average of frequencies for reducing error'''\n",
        "    u_list = [(x,y) for x in range(30) for y in range(30)]\n",
        "    freq_counter_cum = {d:0 for d in u_list}\n",
        "    for i in range(run_number):\n",
        "        class_instance = Differential_Privacy_CMS(100,100,epsilon)\n",
        "        freq_counter_new = class_instance.Count_Mean_Sketch(path_list, u_list)\n",
        "        for d in freq_counter_new:\n",
        "            freq_counter_cum[d]=(i*freq_counter_cum[d]+freq_counter_new[d])/(i+1)\n",
        "    an_list =[]\n",
        "    for d in freq_counter_cum: \n",
        "        if freq_counter_cum[d]>=1 and d in path_list:\n",
        "            an_list.append((d, freq_counter_cum[d], path_list.count(d)))\n",
        "    return freq_counter_cum, an_list\n",
        "big_dict1 = frequency_counter_on_average(path_list,5,500)\n"
      ],
      "execution_count": 58,
      "outputs": []
    },
    {
      "cell_type": "code",
      "metadata": {
        "id": "ZF0p3-QVkPJO",
        "colab_type": "code",
        "colab": {}
      },
      "source": [
        "elt_list = []\n",
        "big_dict1[0]\n",
        "for elt in big_dict1[0]:\n",
        "    if big_dict1[0][elt]>=1:\n",
        "        elt_list.append(elt)"
      ],
      "execution_count": 59,
      "outputs": []
    },
    {
      "cell_type": "code",
      "metadata": {
        "id": "Sx-UPOS-v1ig",
        "colab_type": "code",
        "colab": {
          "base_uri": "https://localhost:8080/",
          "height": 34
        },
        "outputId": "4578b6e8-808e-4e0f-f643-a77bd85a36cb"
      },
      "source": [
        "set(path_list) & set(elt_list)"
      ],
      "execution_count": 60,
      "outputs": [
        {
          "output_type": "execute_result",
          "data": {
            "text/plain": [
              "{(0, 1), (0, 7), (0, 8), (0, 10), (1, 1), (8, 10)}"
            ]
          },
          "metadata": {
            "tags": []
          },
          "execution_count": 60
        }
      ]
    },
    {
      "cell_type": "code",
      "metadata": {
        "id": "2Tj3Y1cTckB9",
        "colab_type": "code",
        "colab": {}
      },
      "source": [
        "#This method will use the same set of hash functions, and the class instance will be created only one time\n",
        "def frequency_counter_on_average1(path_list, epsilon, run_numer):\n",
        "    u_list = [(x,y) for x in range(30) for y in range(30)]\n",
        "    freq_counter_num = {d:0 for d in u_list}\n",
        "    class_instance = Differential_Privacy_CMS(100, 100, epsilon)\n",
        "    skecth_matrix = np.zeros((100, 100))\n",
        "    for i in range(run_numer):\n",
        "        D = []\n",
        "        for elt in path_list:\n",
        "            D.append(class_instance.CLient_Side(elt))\n",
        "        M = class_instance.Compute_Sketch_Matrix(D)\n",
        "        for row in range(100):\n",
        "            for col in range(100):\n",
        "                skecth_matrix[row, col]= (i*skecth_matrix[row, col]+M[row, col])/(i+1)\n",
        "    l = len(path_list)\n",
        "    big_freq_dict = {}\n",
        "    for elt in u_list:\n",
        "        big_freq_dict[elt]=class_instance.Server_Side(skecth_matrix, elt, l)\n",
        "    return big_freq_dict\n",
        "\n",
        "big_dict = frequency_counter_on_average1(path_list, 5, 500)\n",
        "\n",
        "        \n"
      ],
      "execution_count": 61,
      "outputs": []
    },
    {
      "cell_type": "code",
      "metadata": {
        "id": "LLgp2_bSlTq2",
        "colab_type": "code",
        "colab": {}
      },
      "source": [
        "elt_list2 = []\n",
        "for elt in big_dict:\n",
        "    if big_dict[elt]>=1:\n",
        "        elt_list2.append(elt)"
      ],
      "execution_count": 62,
      "outputs": []
    },
    {
      "cell_type": "code",
      "metadata": {
        "id": "xB4IyTDIwAke",
        "colab_type": "code",
        "colab": {
          "base_uri": "https://localhost:8080/",
          "height": 34
        },
        "outputId": "e3dea6fd-834f-4e38-c09c-8dc5cb022827"
      },
      "source": [
        "set(path_list) & set(elt_list2)"
      ],
      "execution_count": 63,
      "outputs": [
        {
          "output_type": "execute_result",
          "data": {
            "text/plain": [
              "{(0, 1), (0, 3), (0, 7), (0, 10), (1, 1), (8, 10)}"
            ]
          },
          "metadata": {
            "tags": []
          },
          "execution_count": 63
        }
      ]
    },
    {
      "cell_type": "code",
      "metadata": {
        "id": "0szwl9fSrJvq",
        "colab_type": "code",
        "colab": {}
      },
      "source": [
        "path_list = [(15, 9), (16, 9), (17, 9), (18, 9), (19, 9), (19, 10), (19, 9), (18, 9), (18, 8), (18, 7), (18, 8), (18, 9), (19, 9), (19, 8), (19, 9), (19, 8), (18, 8), (18, 7), (18, 6), (18, 5), (17, 5), (18, 5), (17, 5), (16, 5), (17, 5), (16, 5), (16, 4), (16, 3), (15, 3), (15, 2), (14, 2), (14, 1), (13, 1), (12, 1), (13, 1), (13, 0), (12, 0), (11, 0), (12, 0), (11, 0), (10, 0), (9, 0), (8, 0), (7, 0), (7, 1), (7, 0), (6, 0), (6, 1), (5, 1), (5, 0), (5, 1), (6, 1), (6, 0), (5, 0), (4, 0), (3, 0), (2, 0), (2, 1), (1, 1), (1, 0), (2, 0), (2, 1), (2, 2), (2, 1), (3, 1), (4, 1), (4, 2), (4, 3), (3, 3), (4, 3), (5, 3), (6, 3), (6, 2), (6, 1), (7, 1), (8, 1), (7, 1), (8, 1), (8, 2), (8, 1), (7, 1), (7, 2), (6, 2), (6, 1), (5, 1), (4, 1), (3, 1), (4, 1), (3, 1), (4, 1), (4, 2), (3, 2), (3, 3), (2, 3), (2, 2), (1, 2), (1, 1), (0, 1), (1, 1), (1, 2), (2, 2), (2, 1), (2, 0), (3, 0), (2, 0), (2, 1), (2, 2), (2, 3), (2, 4), (2, 5), (3, 5), (3, 6), (3, 7), (3, 6), (2, 6), (2, 5), (1, 5), (0, 5), (1, 5), (1, 4), (1, 3), (2, 3), (2, 2), (1, 2), (2, 2), (2, 1), (2, 2), (1, 2), (2, 2), (2, 3), (1, 3), (1, 4), (1, 5), (0, 5), (0, 6), (0, 5), (0, 6), (0, 5), (1, 5), (1, 6), (0, 6), (1, 6), (0, 6), (1, 6), (1, 7), (2, 7), (1, 7), (0, 7), (1, 7), (2, 7), (1, 7), (1, 6), (0, 6), (0, 5), (0, 6), (0, 7), (0, 6), (1, 6), (1, 5), (1, 6), (1, 5), (1, 6), (1, 7), (1, 8), (1, 9), (1, 10), (0, 10), (1, 10), (1, 9), (0, 9), (1, 9), (1, 10), (2, 10), (1, 10), (1, 9), (1, 8), (1, 7), (1, 6), (1, 5), (2, 5), (1, 5), (0, 5), (0, 4), (0, 3), (1, 3), (0, 3), (0, 4), (1, 4), (1, 3), (0, 3), (1, 3), (1, 4), (1, 3), (1, 2), (2, 2), (3, 2), (4, 2), (4, 1), (5, 1), (5, 2)]"
      ],
      "execution_count": null,
      "outputs": []
    },
    {
      "cell_type": "code",
      "metadata": {
        "id": "2zkh6owRzVbI",
        "colab_type": "code",
        "colab": {
          "base_uri": "https://localhost:8080/",
          "height": 1000
        },
        "outputId": "8d58bd9d-cd72-457b-cfa3-ed9e61f3dfc5"
      },
      "source": [
        "frequency_counter_on_average(path_list,5,400)"
      ],
      "execution_count": null,
      "outputs": [
        {
          "output_type": "execute_result",
          "data": {
            "text/plain": [
              "({0: 0.912000029856238,\n",
              "  1: 0.018931105865552286,\n",
              "  2: -0.05549130446700427,\n",
              "  3: 1.0161914043218176,\n",
              "  4: 0.18861420142378257,\n",
              "  5: 0.17670661577057334,\n",
              "  6: 0.9596303724690732,\n",
              "  7: -0.1447981968660732,\n",
              "  8: 0.03083869151876149,\n",
              "  9: 0.1380069623976437,\n",
              "  10: 0.9893993366020963,\n",
              "  11: 0.0903766197848068,\n",
              "  12: 0.9655841652956778,\n",
              "  13: 0.11121489467792318,\n",
              "  14: 0.08144593054490015,\n",
              "  15: -0.02869923674728393,\n",
              "  16: -0.23708198567844396,\n",
              "  17: 0.7780396912576347,\n",
              "  18: 1.1174058823740949,\n",
              "  19: 0.9596303724690736,\n",
              "  20: 0.8941386513764243,\n",
              "  21: -0.1120523363197483,\n",
              "  22: 0.7512476235379146,\n",
              "  23: 1.0251220935617233,\n",
              "  24: 0.2987593687159675,\n",
              "  25: 0.17968351218387532,\n",
              "  26: 0.1737297193572713,\n",
              "  27: -0.1775440574123982,\n",
              "  28: -0.11800612914635264,\n",
              "  29: 1.0638217469346547,\n",
              "  30: 1.025122093561724,\n",
              "  31: 1.2841120815190228,\n",
              "  32: 1.1263365716140028,\n",
              "  33: 1.0370296792149352,\n",
              "  34: 1.2245741532529735,\n",
              "  35: -0.09121406142663231,\n",
              "  36: 1.3496038026116761,\n",
              "  37: 0.7542245199512162,\n",
              "  38: 0.7750627948443325,\n",
              "  39: -0.3055506031843967,\n",
              "  40: -0.007860961854168302,\n",
              "  41: 0.9983300258420041,\n",
              "  42: 0.1945679942503873,\n",
              "  43: 0.3940200539416408,\n",
              "  44: -0.11205233631974783,\n",
              "  45: 1.010237611495213,\n",
              "  46: -0.13884440403946843,\n",
              "  47: 0.0487000699985751,\n",
              "  48: -0.010837858267470368,\n",
              "  49: 1.1174058823740949,\n",
              "  50: 0.9209307190961448,\n",
              "  51: 1.4567720734905543,\n",
              "  52: 0.9268845119227491,\n",
              "  53: 0.09930730902471377,\n",
              "  54: 1.0340527828016304,\n",
              "  55: 0.9804686473621897,\n",
              "  56: -0.24005888209174672,\n",
              "  57: 0.08144593054490004,\n",
              "  58: -0.3204350852509076,\n",
              "  59: 1.2454124281460919,\n",
              "  60: 1.2543431173859998,\n",
              "  61: 0.17372971935727183,\n",
              "  62: 0.02488489869215681,\n",
              "  63: 0.9685610617089815,\n",
              "  64: 1.0102376114952123,\n",
              "  65: 0.9953531294287008,\n",
              "  66: 0.9804686473621892,\n",
              "  67: 0.02190800227885461,\n",
              "  68: 1.2632738066259082,\n",
              "  69: 1.1590824321603261,\n",
              "  70: 1.0667986433479562,\n",
              "  71: 1.31685794206535,\n",
              "  72: 1.4597489699038588,\n",
              "  73: 0.007023520212343397,\n",
              "  74: 0.07846903413159784,\n",
              "  75: 0.983445543775493,\n",
              "  76: 0.16777592653066645,\n",
              "  77: 1.0072607150819086,\n",
              "  78: 0.7572014163645189,\n",
              "  79: 0.870323480070005,\n",
              "  80: 0.91497692626954,\n",
              "  81: 1.0995445038942817,\n",
              "  82: 1.0429834720415387,\n",
              "  83: 0.7006403845117757,\n",
              "  84: 0.2302907512100147,\n",
              "  85: 0.1082379982646202,\n",
              "  86: 1.0816831254144676,\n",
              "  87: 0.02786179510545913,\n",
              "  88: 1.1590824321603268,\n",
              "  89: 0.32852833284899013,\n",
              "  90: 1.0906138146543736,\n",
              "  91: 1.0132145079085157,\n",
              "  92: -0.5020257664623462,\n",
              "  93: 0.3166207471957805,\n",
              "  94: 0.05465386282517978,\n",
              "  95: 1.2335048424928834,\n",
              "  96: 1.025122093561726,\n",
              "  97: -0.22815129643853738,\n",
              "  98: 0.17968351218387593,\n",
              "  99: -0.2728047426380707,\n",
              "  100: -0.21028991795872304,\n",
              "  101: 0.37318177904852406,\n",
              "  102: -0.11502923273305048,\n",
              "  103: 1.1263365716140008,\n",
              "  104: 0.0725152413049931,\n",
              "  105: 0.13800696239764365,\n",
              "  106: 0.01595420945225036,\n",
              "  107: -0.031676133160586366,\n",
              "  108: 0.6708714203787528,\n",
              "  109: 1.322811734891951,\n",
              "  110: 0.09335351619810915,\n",
              "  111: 0.4327197073145701,\n",
              "  112: -0.2281512964385367,\n",
              "  113: 1.287088977932325,\n",
              "  114: 1.072752436174559,\n",
              "  115: -0.22517440002523503,\n",
              "  116: -0.4037881848233713,\n",
              "  117: 1.2811351851057182,\n",
              "  118: 0.26303661175633997,\n",
              "  119: 0.03083869151876137,\n",
              "  120: 0.20052178707699217,\n",
              "  121: 1.1858744998800466,\n",
              "  122: 1.2424355317327893,\n",
              "  123: 1.03405278280163,\n",
              "  124: 0.20647557990359622,\n",
              "  125: -0.18945164306560713,\n",
              "  126: 0.07251524130499344,\n",
              "  127: 0.07251524130499341,\n",
              "  128: 0.1260993767444346,\n",
              "  129: -0.06144509729360912,\n",
              "  130: 1.1709900178135366,\n",
              "  131: 0.8226931374571678,\n",
              "  132: -0.031676133160586255,\n",
              "  133: 1.0221451971484217,\n",
              "  134: 0.13205316957103883,\n",
              "  135: 1.0251220935617231,\n",
              "  136: 1.471656555557067,\n",
              "  137: 1.066798643347953,\n",
              "  138: 0.7512476235379136,\n",
              "  139: -0.00786096185416814,\n",
              "  140: 1.4686796591437647,\n",
              "  141: 0.45653487862098835,\n",
              "  142: 0.5785876315663814,\n",
              "  143: -0.18945164306560758,\n",
              "  144: 1.0787062290011664,\n",
              "  145: 0.30769005795587406,\n",
              "  146: 1.2751813922791173,\n",
              "  147: 1.2632738066259073,\n",
              "  148: 1.0906138146543742,\n",
              "  149: 0.9447458904025636,\n",
              "  150: 1.0221451971484228,\n",
              "  151: 1.0013069222553042,\n",
              "  152: 1.3704420775047885,\n",
              "  153: 0.3553204005687107,\n",
              "  154: 1.2424355317327924,\n",
              "  155: -0.2132668143720255,\n",
              "  156: 0.8494852051768905,\n",
              "  157: 0.06060765565178386,\n",
              "  158: 1.3376962169584636,\n",
              "  159: 0.15884523729075922,\n",
              "  160: 1.3734189739180902,\n",
              "  161: 1.0638217469346551,\n",
              "  162: 1.1025214003075838,\n",
              "  163: 0.03976938075866796,\n",
              "  164: 0.08739972337150537,\n",
              "  165: 1.162059328573629,\n",
              "  166: 0.07251524130499351,\n",
              "  167: -0.44248783819630033,\n",
              "  168: 1.0340527828016304,\n",
              "  169: 0.9328383047493538,\n",
              "  170: 0.11419179109122471,\n",
              "  171: 0.2362445440366197,\n",
              "  172: 1.2454124281460928,\n",
              "  173: 1.102521400307583,\n",
              "  174: 0.2332676476233172,\n",
              "  175: -0.0733526829468183,\n",
              "  176: -0.019768547507377273,\n",
              "  177: 0.7929241733241466,\n",
              "  178: 0.07251524130499329,\n",
              "  179: 0.3523435041554086,\n",
              "  180: 0.280897990236154,\n",
              "  181: -0.16265957534588604,\n",
              "  182: 0.11419179109122547,\n",
              "  183: 1.2424355317327902,\n",
              "  184: 1.1352672608539078,\n",
              "  185: 0.11121489467792298,\n",
              "  186: -0.025722340333981828,\n",
              "  187: 1.2841120815190226,\n",
              "  188: 0.16479903011736408,\n",
              "  189: 0.23029075121001472,\n",
              "  190: -0.23112819285183886,\n",
              "  191: 1.0370296792149347,\n",
              "  192: 0.001069727385738507,\n",
              "  193: 0.7036172809250768,\n",
              "  194: 1.135267260853909,\n",
              "  195: -0.046560615227098,\n",
              "  196: 1.2394586353194874,\n",
              "  197: 0.977491750948886,\n",
              "  198: 0.8405545159369826,\n",
              "  199: -0.4514185274362075},\n",
              " [3,\n",
              "  18,\n",
              "  23,\n",
              "  29,\n",
              "  30,\n",
              "  31,\n",
              "  32,\n",
              "  33,\n",
              "  34,\n",
              "  36,\n",
              "  45,\n",
              "  49,\n",
              "  51,\n",
              "  54,\n",
              "  59,\n",
              "  60,\n",
              "  64,\n",
              "  68,\n",
              "  69,\n",
              "  70,\n",
              "  71,\n",
              "  72,\n",
              "  77,\n",
              "  81,\n",
              "  82,\n",
              "  86,\n",
              "  88,\n",
              "  90,\n",
              "  91,\n",
              "  95,\n",
              "  96,\n",
              "  103,\n",
              "  109,\n",
              "  113,\n",
              "  114,\n",
              "  117,\n",
              "  121,\n",
              "  122,\n",
              "  123,\n",
              "  130,\n",
              "  133,\n",
              "  135,\n",
              "  136,\n",
              "  137,\n",
              "  140,\n",
              "  144,\n",
              "  146,\n",
              "  147,\n",
              "  148,\n",
              "  150,\n",
              "  151,\n",
              "  152,\n",
              "  154,\n",
              "  158,\n",
              "  160,\n",
              "  161,\n",
              "  162,\n",
              "  165,\n",
              "  168,\n",
              "  172,\n",
              "  173,\n",
              "  183,\n",
              "  184,\n",
              "  187,\n",
              "  191,\n",
              "  194,\n",
              "  196])"
            ]
          },
          "metadata": {
            "tags": []
          },
          "execution_count": 27
        }
      ]
    },
    {
      "cell_type": "code",
      "metadata": {
        "id": "fodbfBIh0cf6",
        "colab_type": "code",
        "colab": {
          "base_uri": "https://localhost:8080/",
          "height": 34
        },
        "outputId": "8a298a0f-8f5b-497c-aa0f-5edeec7a8a04"
      },
      "source": [
        "len([3,\n",
        "  18,\n",
        "  23,\n",
        "  29,\n",
        "  30,\n",
        "  31,\n",
        "  32,\n",
        "  33,\n",
        "  34,\n",
        "  36,\n",
        "  45,\n",
        "  49,\n",
        "  51,\n",
        "  54,\n",
        "  59,\n",
        "  60,\n",
        "  64,\n",
        "  68,\n",
        "  69,\n",
        "  70,\n",
        "  71,\n",
        "  72,\n",
        "  77,\n",
        "  81,\n",
        "  82,\n",
        "  86,\n",
        "  88,\n",
        "  90,\n",
        "  91,\n",
        "  95,\n",
        "  96,\n",
        "  103,\n",
        "  109,\n",
        "  113,\n",
        "  114,\n",
        "  117,\n",
        "  121,\n",
        "  122,\n",
        "  123,\n",
        "  130,\n",
        "  133,\n",
        "  135,\n",
        "  136,\n",
        "  137,\n",
        "  140,\n",
        "  144,\n",
        "  146,\n",
        "  147,\n",
        "  148,\n",
        "  150,\n",
        "  151,\n",
        "  152,\n",
        "  154,\n",
        "  158,\n",
        "  160,\n",
        "  161,\n",
        "  162,\n",
        "  165,\n",
        "  168,\n",
        "  172,\n",
        "  173,\n",
        "  183,\n",
        "  184,\n",
        "  187,\n",
        "  191,\n",
        "  194,\n",
        "  196])"
      ],
      "execution_count": null,
      "outputs": [
        {
          "output_type": "execute_result",
          "data": {
            "text/plain": [
              "67"
            ]
          },
          "metadata": {
            "tags": []
          },
          "execution_count": 29
        }
      ]
    },
    {
      "cell_type": "code",
      "metadata": {
        "id": "5sQ1rPDo_MeI",
        "colab_type": "code",
        "colab": {}
      },
      "source": [
        "def root_mean_squared_error(predicted, expected):\n",
        "    '''we are getting one dictionary of predicted frequencies and the genuine list'''\n",
        "    sum = 0\n",
        "    l = len(predicted)\n",
        "    unique_elt = set(expected)\n",
        "    for elt in unique_elt:\n",
        "        sum+=(predicted.get(elt,0)-expected.count(elt))**2\n",
        "    mse = sum/l\n",
        "    return math.sqrt(mse)\n",
        "       "
      ],
      "execution_count": null,
      "outputs": []
    },
    {
      "cell_type": "code",
      "metadata": {
        "id": "vlQrq_BhHeuj",
        "colab_type": "code",
        "colab": {
          "base_uri": "https://localhost:8080/",
          "height": 54
        },
        "outputId": "6c5d76ae-c420-4e27-b773-4f45085b7bc3"
      },
      "source": [
        "def epsilon_evaluator(path_list,epsilon_list):\n",
        "    '''This function calls frequency average multiple times with different epsilons to see which value gives the value of epsilon gives the minimum error and then plot it'''\n",
        "    eps_err_dict = {}\n",
        "    for epsilon in epsilon_list:\n",
        "        predicted = frequency_counter_on_average(path_list,epsilon,300)\n",
        "        error = root_mean_squared_error(predicted, path_list)\n",
        "        eps_err_dict[epsilon] = error\n",
        "    return eps_err_dict\n",
        "x = np.array([1,1.1,1.2,1.3,1.4,1.5,1.6,1.7,1.8,1.9])\n",
        "y = np.exp(x)\n",
        "y_list = y.tolist()\n",
        "print(epsilon_evaluator(path_list,y_list))"
      ],
      "execution_count": null,
      "outputs": [
        {
          "output_type": "stream",
          "text": [
            "{2.718281828459045: 1.0044777621531198, 3.0041660239464334: 0.886639757155907, 3.3201169227365472: 0.877882406053931, 3.6692966676192444: 0.8491281903323685, 4.0551999668446745: 0.7318999165861447, 4.4816890703380645: 0.5961974731351187, 4.953032424395115: 0.5777940086716824, 5.4739473917272: 0.5286519766295436, 6.0496474644129465: 0.5198424981165574, 6.6858944422792685: 0.475201528845881}\n"
          ],
          "name": "stdout"
        }
      ]
    },
    {
      "cell_type": "code",
      "metadata": {
        "id": "dKra4u7oFYwC",
        "colab_type": "code",
        "colab": {}
      },
      "source": [
        "path_list = [ 96, 121,  38, 109,  81,  83,  10,  71, 191, 162,  79, 198, 136,\n",
        "       147,  95,  68, 152, 151,  72, 165, 154,  50,  66, 131, 123, 161,\n",
        "        70,  12, 117,  41, 148, 150,  69,  88,   6,  64, 196,  23, 172,\n",
        "       144, 142,  75, 184,  59,  34,  52,  45,  54,  19, 156, 137, 158,\n",
        "        18, 113,  80, 135,  32,  30,  20,  29,  49,  22, 177,  91,  78,\n",
        "        60,  37,  90, 133, 103, 146, 169,  63, 114,  82, 194, 138, 168,\n",
        "       197,   3,  51,  86, 140,  65,  55, 187, 160, 149,   0,  33, 130,\n",
        "       193, 122,  77, 108,  17, 183,  31, 173,  36]"
      ],
      "execution_count": null,
      "outputs": []
    },
    {
      "cell_type": "code",
      "metadata": {
        "id": "JBF8AnmuMVnX",
        "colab_type": "code",
        "colab": {
          "base_uri": "https://localhost:8080/",
          "height": 425
        },
        "outputId": "187314ed-d8c1-4aeb-f079-fa382b8091fb"
      },
      "source": [
        "def run_number_evaluator(path_list,epsilon):\n",
        "    run_number_dict = {}\n",
        "    for run_number in range(50,650,50):\n",
        "        predicted = frequency_counter_on_average(path_list,epsilon,run_number)\n",
        "        error = root_mean_squared_error(predicted,path_list)\n",
        "        run_number_dict[run_number] = error\n",
        "        print(run_number,error)\n",
        "    return run_number_dict \n",
        "run_number_evaluator(path_list,5)"
      ],
      "execution_count": null,
      "outputs": [
        {
          "output_type": "stream",
          "text": [
            "50 1.4202390811721783\n",
            "100 1.017352409944359\n",
            "150 1.02736371109456\n",
            "200 1.0552078048052043\n",
            "250 0.8084514022068172\n",
            "300 0.7777719770723085\n",
            "350 0.854500171115154\n",
            "400 0.7632703136026899\n",
            "450 0.8361339034194527\n",
            "500 0.8379662330203914\n",
            "550 0.7898866522659813\n",
            "600 0.7657678307430811\n"
          ],
          "name": "stdout"
        },
        {
          "output_type": "execute_result",
          "data": {
            "text/plain": [
              "{50: 1.4202390811721783,\n",
              " 100: 1.017352409944359,\n",
              " 150: 1.02736371109456,\n",
              " 200: 1.0552078048052043,\n",
              " 250: 0.8084514022068172,\n",
              " 300: 0.7777719770723085,\n",
              " 350: 0.854500171115154,\n",
              " 400: 0.7632703136026899,\n",
              " 450: 0.8361339034194527,\n",
              " 500: 0.8379662330203914,\n",
              " 550: 0.7898866522659813,\n",
              " 600: 0.7657678307430811}"
            ]
          },
          "metadata": {
            "tags": []
          },
          "execution_count": 17
        }
      ]
    }
  ]
}