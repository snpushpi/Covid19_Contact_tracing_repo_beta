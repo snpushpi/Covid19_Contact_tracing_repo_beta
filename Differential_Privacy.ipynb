{
  "nbformat": 4,
  "nbformat_minor": 0,
  "metadata": {
    "colab": {
      "name": "Differential_Privacy.ipynb",
      "provenance": [],
      "collapsed_sections": []
    },
    "kernelspec": {
      "name": "python3",
      "display_name": "Python 3"
    }
  },
  "cells": [
    {
      "cell_type": "code",
      "metadata": {
        "id": "gnqkueenuZ-k",
        "colab_type": "code",
        "colab": {
          "base_uri": "https://localhost:8080/",
          "height": 123
        },
        "outputId": "ea42055b-d18d-4d44-cb87-fbd25cee0ba6"
      },
      "source": [
        ""
      ],
      "execution_count": null,
      "outputs": [
        {
          "output_type": "stream",
          "text": [
            "Go to this URL in a browser: https://accounts.google.com/o/oauth2/auth?client_id=947318989803-6bn6qk8qdgf4n4g3pfee6491hc0brc4i.apps.googleusercontent.com&redirect_uri=urn%3aietf%3awg%3aoauth%3a2.0%3aoob&response_type=code&scope=email%20https%3a%2f%2fwww.googleapis.com%2fauth%2fdocs.test%20https%3a%2f%2fwww.googleapis.com%2fauth%2fdrive%20https%3a%2f%2fwww.googleapis.com%2fauth%2fdrive.photos.readonly%20https%3a%2f%2fwww.googleapis.com%2fauth%2fpeopleapi.readonly\n",
            "\n",
            "Enter your authorization code:\n",
            "··········\n",
            "Mounted at /content/drive\n"
          ],
          "name": "stdout"
        }
      ]
    },
    {
      "cell_type": "markdown",
      "metadata": {
        "id": "uOq76YyNPCq1",
        "colab_type": "text"
      },
      "source": [
        "# New Section"
      ]
    },
    {
      "cell_type": "markdown",
      "metadata": {
        "id": "0h41kp35PEIa",
        "colab_type": "text"
      },
      "source": [
        "# New Section"
      ]
    },
    {
      "cell_type": "code",
      "metadata": {
        "id": "4F_VdqzBuT5R",
        "colab_type": "code",
        "colab": {
          "base_uri": "https://localhost:8080/",
          "height": 170
        },
        "outputId": "aa26b1b2-6c90-4249-b387-9112c044af2b"
      },
      "source": [
        ""
      ],
      "execution_count": null,
      "outputs": [
        {
          "output_type": "stream",
          "text": [
            "Collecting mmh3\n",
            "  Downloading https://files.pythonhosted.org/packages/fa/7e/3ddcab0a9fcea034212c02eb411433db9330e34d626360b97333368b4052/mmh3-2.5.1.tar.gz\n",
            "Building wheels for collected packages: mmh3\n",
            "  Building wheel for mmh3 (setup.py) ... \u001b[?25l\u001b[?25hdone\n",
            "  Created wheel for mmh3: filename=mmh3-2.5.1-cp36-cp36m-linux_x86_64.whl size=37856 sha256=e2048396341710395c189c3b01ca08d97707e737d47e0a02b4bb3c26019bebfe\n",
            "  Stored in directory: /root/.cache/pip/wheels/38/b4/ea/6e4e321c625d3320c0c496bf4088371546d8fce5f1dd71b219\n",
            "Successfully built mmh3\n",
            "Installing collected packages: mmh3\n",
            "Successfully installed mmh3-2.5.1\n"
          ],
          "name": "stdout"
        }
      ]
    },
    {
      "cell_type": "code",
      "metadata": {
        "id": "QETW1E0H5WEL",
        "colab_type": "code",
        "colab": {}
      },
      "source": [
        "import collections\n",
        "import hashlib\n",
        "import numpy as np\n",
        "import matplotlib as mpl\n",
        "import matplotlib.pyplot as plt\n",
        "import math\n",
        "import random\n",
        "from collections import Counter"
      ],
      "execution_count": 1,
      "outputs": []
    },
    {
      "cell_type": "code",
      "metadata": {
        "id": "nOMy7KPOugax",
        "colab_type": "code",
        "colab": {}
      },
      "source": [
        "class Differential_Privacy_CMS():\n",
        "    def __init__(self, width, depth,epsilon):\n",
        "        ''' Method to initialize the data structure\n",
        "        @param width int: Width of the table\n",
        "        @param depth int: Depth of the table (num of hash func)\n",
        "        @param epsilon: privacy parameter\n",
        "        In this case, when we declare differential privacy class instance, we give the parameters m and k, or width and depth\n",
        "        '''\n",
        "        self.width = width #hash values range between 0 to width-1\n",
        "        self.depth = depth #number of hash functions\n",
        "        self.epsilon = epsilon \n",
        "        self.seed = np.random.choice(np.arange(0,self.width),replace=False,size=self.depth)\n",
        "    #Implementing the client side algorithm which works on each particular data element. First it selects an integer randomly from 0 to depth-1, \n",
        "#we store that value as j, next, we initialize a vector of -1, of length width, and set that jth index as 1. Then we create another vector of -1s\n",
        "#and +1s, with fixed probabilities determined by the parameter epsilon. Then we do element wise multioplication and return the \n",
        "#result vector. \n",
        "\n",
        "    def CLient_Side(self,d):\n",
        "        '''parameters are a data element, epsilon value and a hash family, but we are using mmh3 here so didn't add that as a parameter'''\n",
        "        j = np.random.randint(self.depth) \n",
        "        z_vect = np.zeros((1,self.width))\n",
        "        v = z_vect-1 \n",
        "        hex_num = hashlib.sha256((str(self.seed[j])+str(d)).encode('utf-8')).hexdigest()\n",
        "        int_hex = int(hex_num[:5],16)\n",
        "        index = int_hex % self.width\n",
        "        v[0,index]=1\n",
        "        val = np.exp(self.epsilon/2)\n",
        "        probability_of_1 = val/(val+1) \n",
        "        probability_of_neg_1 = 1/(val+1)\n",
        "        b = np.random.choice([1,-1],self.width,p=[probability_of_1,probability_of_neg_1]) \n",
        "        final_vector = v*b\n",
        "        return (final_vector,j) \n",
        "\n",
        "    def Compute_Sketch_Matrix(self,D):\n",
        "        '''So each element of D is a tuple where the first element is v_i and second element is j_i(which is created by the above funstion after getting \n",
        "        passed by Client_side each time), we have privacy parameter epsilon and dimensions. v_i is the a vector an it has the sma eshape as the \n",
        "        vectors returned by the Client_side algorithm'''\n",
        "        val = np.exp(self.epsilon/2)\n",
        "        n = len(D)\n",
        "        c_epsilon = (val+1)/(val-1) \n",
        "        vec_one = np.ones((1,self.width))\n",
        "        manipulated_data_matrix = np.zeros((n,self.width)) #Creatimg a matrix for x_is\n",
        "        for elt in enumerate(D):\n",
        "            new_vect = elt[1][0].reshape((1,self.width))\n",
        "            man_vect = (c_epsilon/2)*new_vect #scalar and vector multiplication \n",
        "            half_vec_one = 0.5*vec_one \n",
        "            sum_vect = man_vect + half_vec_one\n",
        "            manipulated_data_matrix[[elt[0]],:]= self.depth*sum_vect  \n",
        "        M = np.zeros((self.depth,self.width))\n",
        "        #print(M)\n",
        "        for elt in enumerate(D):\n",
        "            for l in range(self.width): \n",
        "                M[elt[1][1],l]=M[elt[1][1],l]+manipulated_data_matrix[elt[0],l]\n",
        "        #print('hi',M)\n",
        "        return M \n",
        "\n",
        "    def Server_Side(self,Sketch_Matrix,d,length):\n",
        "        '''It returns the estimated frequency of a data element given to it. So it has two parameters, data element and the length of the \n",
        "        data stream we are considering'''\n",
        "        n = length \n",
        "        frac1 = self.width/(self.width-1)\n",
        "        frac2 = n/self.width\n",
        "        row_sum = 0\n",
        "        for i in range(self.depth):\n",
        "            hex_num = hashlib.sha256((str(self.seed[i])+str(d)).encode('utf-8')).hexdigest()\n",
        "            int_hex = int(hex_num[:5],16)\n",
        "            index = int_hex % self.width\n",
        "            row_sum = row_sum + Sketch_Matrix[i,index]\n",
        "        avg_row_sum = row_sum/self.depth \n",
        "        subtraction = avg_row_sum - frac2 \n",
        "        assumed_freq = frac1*subtraction \n",
        "        return assumed_freq\n",
        "        \n",
        "    def Count_Mean_Sketch(self,D_s,D): \n",
        "        '''D_s is the stream of data and this is a subset of universe of data'''\n",
        "        Modified_datalist = []\n",
        "        Sketch_Matrix = []\n",
        "        freq_vect = {}\n",
        "        length = len(D_s) \n",
        "        for elt in enumerate(D_s):\n",
        "            Modified_datalist.append(self.CLient_Side(elt[1])) \n",
        "        Sketch_Matrix = self.Compute_Sketch_Matrix(Modified_datalist)\n",
        "        for d in D:\n",
        "            freq_vect[d] = self.Server_Side(Sketch_Matrix,d,length) \n",
        "        #for d in freq_vect:\n",
        "          \n",
        "            #freq_vect[d]=round(freq_vect[d])\n",
        "        return freq_vect"
      ],
      "execution_count": 19,
      "outputs": []
    },
    {
      "cell_type": "code",
      "metadata": {
        "id": "33ewbwbVrZdA",
        "colab_type": "code",
        "colab": {}
      },
      "source": [
        "path_list = [(0,1),(0,7),(0,7),(0,3),(0,8),(0,10),(1,1),(1,1),(1,1),(8,10),(8,10),(8,20),(7,10)]"
      ],
      "execution_count": 20,
      "outputs": []
    },
    {
      "cell_type": "code",
      "metadata": {
        "id": "uUe0S_W_pREN",
        "colab_type": "code",
        "colab": {
          "base_uri": "https://localhost:8080/",
          "height": 34
        },
        "outputId": "848bad92-6070-4b57-de99-f455e7b60af4"
      },
      "source": [
        "set(path_list)"
      ],
      "execution_count": 21,
      "outputs": [
        {
          "output_type": "execute_result",
          "data": {
            "text/plain": [
              "{(0, 1), (0, 3), (0, 7), (0, 8), (0, 10), (1, 1), (7, 10), (8, 10), (8, 20)}"
            ]
          },
          "metadata": {
            "tags": []
          },
          "execution_count": 21
        }
      ]
    },
    {
      "cell_type": "code",
      "metadata": {
        "id": "wlPP4igt2lkz",
        "colab_type": "code",
        "colab": {
          "base_uri": "https://localhost:8080/",
          "height": 34
        },
        "outputId": "ae83acce-e2ea-46ed-c2a8-c2261da5817c"
      },
      "source": [
        "path_list.count((0,6))"
      ],
      "execution_count": 22,
      "outputs": [
        {
          "output_type": "execute_result",
          "data": {
            "text/plain": [
              "0"
            ]
          },
          "metadata": {
            "tags": []
          },
          "execution_count": 22
        }
      ]
    },
    {
      "cell_type": "code",
      "metadata": {
        "id": "qDvTi5GDbVgY",
        "colab_type": "code",
        "colab": {}
      },
      "source": [
        "def frequency_counter_on_average(path_list,epsilon,run_number):\n",
        "    '''This function runs the entire process multiple and take the running average of frequencies for reducing error'''\n",
        "    u_list = [(x,y) for x in range(30) for y in range(30)]\n",
        "    freq_counter_cum = {d:0 for d in u_list}\n",
        "    for i in range(run_number):\n",
        "        class_instance = Differential_Privacy_CMS(100,100,epsilon)\n",
        "        freq_counter_new = class_instance.Count_Mean_Sketch(path_list, u_list)\n",
        "        for d in freq_counter_new:\n",
        "            freq_counter_cum[d]=(i*freq_counter_cum[d]+freq_counter_new[d])/(i+1)\n",
        "    an_list =[]\n",
        "    for d in freq_counter_cum: \n",
        "        if freq_counter_cum[d]>=1 and d in path_list:\n",
        "            an_list.append((d, freq_counter_cum[d], path_list.count(d)))\n",
        "    return freq_counter_cum, an_list\n",
        "big_dict1 = frequency_counter_on_average(path_list,5,500)\n"
      ],
      "execution_count": 58,
      "outputs": []
    },
    {
      "cell_type": "code",
      "metadata": {
        "id": "ZF0p3-QVkPJO",
        "colab_type": "code",
        "colab": {}
      },
      "source": [
        "elt_list = []\n",
        "big_dict1[0]\n",
        "for elt in big_dict1[0]:\n",
        "    if big_dict1[0][elt]>=1:\n",
        "        elt_list.append(elt)"
      ],
      "execution_count": 59,
      "outputs": []
    },
    {
      "cell_type": "code",
      "metadata": {
        "id": "Sx-UPOS-v1ig",
        "colab_type": "code",
        "colab": {
          "base_uri": "https://localhost:8080/",
          "height": 34
        },
        "outputId": "4578b6e8-808e-4e0f-f643-a77bd85a36cb"
      },
      "source": [
        "set(path_list) & set(elt_list)"
      ],
      "execution_count": 60,
      "outputs": [
        {
          "output_type": "execute_result",
          "data": {
            "text/plain": [
              "{(0, 1), (0, 7), (0, 8), (0, 10), (1, 1), (8, 10)}"
            ]
          },
          "metadata": {
            "tags": []
          },
          "execution_count": 60
        }
      ]
    },
    {
      "cell_type": "code",
      "metadata": {
        "id": "2Tj3Y1cTckB9",
        "colab_type": "code",
        "colab": {}
      },
      "source": [
        "#This method will use the same set of hash functions, and the class instance will be created only one time\n",
        "def frequency_counter_on_average1(path_list, epsilon, run_numer):\n",
        "    u_list = [(x,y) for x in range(30) for y in range(30)]\n",
        "    freq_counter_num = {d:0 for d in u_list}\n",
        "    class_instance = Differential_Privacy_CMS(100, 100, epsilon)\n",
        "    skecth_matrix = np.zeros((100, 100))\n",
        "    for i in range(run_numer):\n",
        "        D = []\n",
        "        for elt in path_list:\n",
        "            D.append(class_instance.CLient_Side(elt))\n",
        "        M = class_instance.Compute_Sketch_Matrix(D)\n",
        "        for row in range(100):\n",
        "            for col in range(100):\n",
        "                skecth_matrix[row, col]= (i*skecth_matrix[row, col]+M[row, col])/(i+1)\n",
        "    l = len(path_list)\n",
        "    big_freq_dict = {}\n",
        "    for elt in u_list:\n",
        "        big_freq_dict[elt]=class_instance.Server_Side(skecth_matrix, elt, l)\n",
        "    return big_freq_dict\n",
        "\n",
        "big_dict = frequency_counter_on_average1(path_list, 5, 500)\n",
        "\n",
        "        \n"
      ],
      "execution_count": 61,
      "outputs": []
    },
    {
      "cell_type": "code",
      "metadata": {
        "id": "LLgp2_bSlTq2",
        "colab_type": "code",
        "colab": {}
      },
      "source": [
        "elt_list2 = []\n",
        "for elt in big_dict:\n",
        "    if big_dict[elt]>=1:\n",
        "        elt_list2.append(elt)"
      ],
      "execution_count": 62,
      "outputs": []
    },
    {
      "cell_type": "code",
      "metadata": {
        "id": "xB4IyTDIwAke",
        "colab_type": "code",
        "colab": {
          "base_uri": "https://localhost:8080/",
          "height": 34
        },
        "outputId": "e3dea6fd-834f-4e38-c09c-8dc5cb022827"
      },
      "source": [
        "set(path_list) & set(elt_list2)"
      ],
      "execution_count": 63,
      "outputs": [
        {
          "output_type": "execute_result",
          "data": {
            "text/plain": [
              "{(0, 1), (0, 3), (0, 7), (0, 10), (1, 1), (8, 10)}"
            ]
          },
          "metadata": {
            "tags": []
          },
          "execution_count": 63
        }
      ]
    },
    {
      "cell_type": "code",
      "metadata": {
        "id": "0szwl9fSrJvq",
        "colab_type": "code",
        "colab": {}
      },
      "source": [
        "path_list = [(15, 9), (16, 9), (17, 9), (18, 9), (19, 9), (19, 10), (19, 9), (18, 9), (18, 8), (18, 7), (18, 8), (18, 9), (19, 9), (19, 8), (19, 9), (19, 8), (18, 8), (18, 7), (18, 6), (18, 5), (17, 5), (18, 5), (17, 5), (16, 5), (17, 5), (16, 5), (16, 4), (16, 3), (15, 3), (15, 2), (14, 2), (14, 1), (13, 1), (12, 1), (13, 1), (13, 0), (12, 0), (11, 0), (12, 0), (11, 0), (10, 0), (9, 0), (8, 0), (7, 0), (7, 1), (7, 0), (6, 0), (6, 1), (5, 1), (5, 0), (5, 1), (6, 1), (6, 0), (5, 0), (4, 0), (3, 0), (2, 0), (2, 1), (1, 1), (1, 0), (2, 0), (2, 1), (2, 2), (2, 1), (3, 1), (4, 1), (4, 2), (4, 3), (3, 3), (4, 3), (5, 3), (6, 3), (6, 2), (6, 1), (7, 1), (8, 1), (7, 1), (8, 1), (8, 2), (8, 1), (7, 1), (7, 2), (6, 2), (6, 1), (5, 1), (4, 1), (3, 1), (4, 1), (3, 1), (4, 1), (4, 2), (3, 2), (3, 3), (2, 3), (2, 2), (1, 2), (1, 1), (0, 1), (1, 1), (1, 2), (2, 2), (2, 1), (2, 0), (3, 0), (2, 0), (2, 1), (2, 2), (2, 3), (2, 4), (2, 5), (3, 5), (3, 6), (3, 7), (3, 6), (2, 6), (2, 5), (1, 5), (0, 5), (1, 5), (1, 4), (1, 3), (2, 3), (2, 2), (1, 2), (2, 2), (2, 1), (2, 2), (1, 2), (2, 2), (2, 3), (1, 3), (1, 4), (1, 5), (0, 5), (0, 6), (0, 5), (0, 6), (0, 5), (1, 5), (1, 6), (0, 6), (1, 6), (0, 6), (1, 6), (1, 7), (2, 7), (1, 7), (0, 7), (1, 7), (2, 7), (1, 7), (1, 6), (0, 6), (0, 5), (0, 6), (0, 7), (0, 6), (1, 6), (1, 5), (1, 6), (1, 5), (1, 6), (1, 7), (1, 8), (1, 9), (1, 10), (0, 10), (1, 10), (1, 9), (0, 9), (1, 9), (1, 10), (2, 10), (1, 10), (1, 9), (1, 8), (1, 7), (1, 6), (1, 5), (2, 5), (1, 5), (0, 5), (0, 4), (0, 3), (1, 3), (0, 3), (0, 4), (1, 4), (1, 3), (0, 3), (1, 3), (1, 4), (1, 3), (1, 2), (2, 2), (3, 2), (4, 2), (4, 1), (5, 1), (5, 2)]"
      ],
      "execution_count": null,
      "outputs": []
    },
    {
      "cell_type": "code",
      "metadata": {
        "id": "2zkh6owRzVbI",
        "colab_type": "code",
        "colab": {}
      },
      "source": [
        "frequency_counter_on_average(path_list,5,400)"
      ],
      "execution_count": null,
      "outputs": []
    },
    {
      "cell_type": "code",
      "metadata": {
        "id": "5sQ1rPDo_MeI",
        "colab_type": "code",
        "colab": {}
      },
      "source": [
        "def root_mean_squared_error(predicted, expected):\n",
        "    '''we are getting one dictionary of predicted frequencies and the genuine list'''\n",
        "    sum = 0\n",
        "    l = len(predicted)\n",
        "    unique_elt = set(expected)\n",
        "    for elt in unique_elt:\n",
        "        sum+=(predicted.get(elt,0)-expected.count(elt))**2\n",
        "    mse = sum/l\n",
        "    return math.sqrt(mse)\n",
        "       "
      ],
      "execution_count": null,
      "outputs": []
    },
    {
      "cell_type": "code",
      "metadata": {
        "id": "vlQrq_BhHeuj",
        "colab_type": "code",
        "colab": {
          "base_uri": "https://localhost:8080/",
          "height": 54
        },
        "outputId": "6c5d76ae-c420-4e27-b773-4f45085b7bc3"
      },
      "source": [
        "def epsilon_evaluator(path_list,epsilon_list):\n",
        "    '''This function calls frequency average multiple times with different epsilons to see which value gives the value of epsilon gives the minimum error and then plot it'''\n",
        "    eps_err_dict = {}\n",
        "    for epsilon in epsilon_list:\n",
        "        predicted = frequency_counter_on_average(path_list,epsilon,300)\n",
        "        error = root_mean_squared_error(predicted, path_list)\n",
        "        eps_err_dict[epsilon] = error\n",
        "    return eps_err_dict\n",
        "x = np.array([1,1.1,1.2,1.3,1.4,1.5,1.6,1.7,1.8,1.9])\n",
        "y = np.exp(x)\n",
        "y_list = y.tolist()\n",
        "print(epsilon_evaluator(path_list,y_list))"
      ],
      "execution_count": null,
      "outputs": [
        {
          "output_type": "stream",
          "text": [
            "{2.718281828459045: 1.0044777621531198, 3.0041660239464334: 0.886639757155907, 3.3201169227365472: 0.877882406053931, 3.6692966676192444: 0.8491281903323685, 4.0551999668446745: 0.7318999165861447, 4.4816890703380645: 0.5961974731351187, 4.953032424395115: 0.5777940086716824, 5.4739473917272: 0.5286519766295436, 6.0496474644129465: 0.5198424981165574, 6.6858944422792685: 0.475201528845881}\n"
          ],
          "name": "stdout"
        }
      ]
    },
    {
      "cell_type": "code",
      "metadata": {
        "id": "dKra4u7oFYwC",
        "colab_type": "code",
        "colab": {}
      },
      "source": [
        "path_list = [ 96, 121,  38, 109,  81,  83,  10,  71, 191, 162,  79, 198, 136,\n",
        "       147,  95,  68, 152, 151,  72, 165, 154,  50,  66, 131, 123, 161,\n",
        "        70,  12, 117,  41, 148, 150,  69,  88,   6,  64, 196,  23, 172,\n",
        "       144, 142,  75, 184,  59,  34,  52,  45,  54,  19, 156, 137, 158,\n",
        "        18, 113,  80, 135,  32,  30,  20,  29,  49,  22, 177,  91,  78,\n",
        "        60,  37,  90, 133, 103, 146, 169,  63, 114,  82, 194, 138, 168,\n",
        "       197,   3,  51,  86, 140,  65,  55, 187, 160, 149,   0,  33, 130,\n",
        "       193, 122,  77, 108,  17, 183,  31, 173,  36]"
      ],
      "execution_count": null,
      "outputs": []
    },
    {
      "cell_type": "code",
      "metadata": {
        "id": "JBF8AnmuMVnX",
        "colab_type": "code",
        "colab": {}
      },
      "source": [
        "def run_number_evaluator(path_list,epsilon):\n",
        "    run_number_dict = {}\n",
        "    for run_number in range(50,650,50):\n",
        "        predicted = frequency_counter_on_average(path_list,epsilon,run_number)\n",
        "        error = root_mean_squared_error(predicted,path_list)\n",
        "        run_number_dict[run_number] = error\n",
        "        print(run_number,error)\n",
        "    return run_number_dict \n",
        "run_number_evaluator(path_list,5)"
      ],
      "execution_count": null,
      "outputs": []
    }
  ]
}