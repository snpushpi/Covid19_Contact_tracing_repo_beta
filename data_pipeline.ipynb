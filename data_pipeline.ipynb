{
  "nbformat": 4,
  "nbformat_minor": 0,
  "metadata": {
    "colab": {
      "name": "data_pipeline.ipynb",
      "provenance": [],
      "collapsed_sections": [],
      "authorship_tag": "ABX9TyP5UZ6Cl5gxAClvJBXCaCXl",
      "include_colab_link": true
    },
    "kernelspec": {
      "name": "python3",
      "display_name": "Python 3"
    }
  },
  "cells": [
    {
      "cell_type": "markdown",
      "metadata": {
        "id": "view-in-github",
        "colab_type": "text"
      },
      "source": [
        "<a href=\"https://colab.research.google.com/github/snpushpi/Covid19_Contact_tracing_repo_beta/blob/master/data_pipeline.ipynb\" target=\"_parent\"><img src=\"https://colab.research.google.com/assets/colab-badge.svg\" alt=\"Open In Colab\"/></a>"
      ]
    },
    {
      "cell_type": "markdown",
      "metadata": {
        "id": "tpqIle3SLAJL",
        "colab_type": "text"
      },
      "source": [
        "This code has been used for processing data from microsoft geolife trajectories :)"
      ]
    },
    {
      "cell_type": "code",
      "metadata": {
        "id": "eNr_-37SLO_H",
        "colab_type": "code",
        "colab": {}
      },
      "source": [
        "\n",
        "import read_geolife\n",
        "import pandas as pd\n",
        "import numpy as np\n",
        "import pptk\n",
        "def make_list(frame):\n",
        "    mod_df0 = frame.loc[:,'modified_lat':'modified_lon']\n",
        "    new_list0lat = mod_df0['modified_lat'].to_list()\n",
        "    new_list0lon = mod_df0['modified_lon'].to_list()\n",
        "    l =[]\n",
        "    length = len(new_list0lat)\n",
        "    for i in range(length):\n",
        "        l.append((new_list0lat[i],new_list0lon[i]))\n",
        "    return l\n",
        "def sublists(list1, list2):\n",
        "    subs = []\n",
        "    for i in range(len(list1)-1):\n",
        "        for j in range(len(list2)-1):\n",
        "            if list1[i]==list2[j] and list1[i+1]==list2[j+1]:\n",
        "                m = i+2\n",
        "                n = j+2\n",
        "                while m<len(list1) and n<len(list2) and list1[m]==list2[n]:\n",
        "                    m += 1\n",
        "                    n += 1\n",
        "                subs.append((i,m,j,n,list1[i:m]))\n",
        "    return subs\n",
        "def ordered_intersection(list1, list2):\n",
        "    subls = sublists(list1, list2)\n",
        "    if len(subls)==0:\n",
        "        return []\n",
        "    else:\n",
        "        max_len = max(len(subl[4]) for subl in subls)\n",
        "        return [subl for subl in subls if len(subl[4])==max_len]\n",
        "def ordered_intersection1(list1, list2):\n",
        "    set_2 = frozenset(list2)\n",
        "    intersection = [x for x in list1 if x in set_2]\n",
        "    return intersection\n",
        "def modifier_lat(a):\n",
        "    return float(int(a)+float(str(a)[2:7]))\n",
        "def modifier_lon(a):\n",
        "    return float(int(a)+float(str(a)[3:8]))\n",
        "#df = read_geolife.read_all_users('Data')\n",
        "#df.to_pickle('geolife.pkl')\n",
        "df = pd.read_pickle('geolife.pkl')\n",
        "#p = np.c_[df['lon'], df['lat'], np.zeros(len(df))]\n",
        "#v = pptk.viewer(p)\n",
        "#v.attributes(df['alt'])\n",
        "#print(df[1000:1020])\n",
        "#print(df[str(df.lat)[3:7]=='9999'])\n",
        "df['modified_lat']=df.lat.apply(modifier_lat)\n",
        "df['modified_lon']=df.lon.apply(modifier_lon)\n",
        "print(len(df))\n",
        "new_df = []\n",
        "for i in range(15):\n",
        "    new_df.append(df[df.user==i])\n",
        "list_of_coors = []\n",
        "for elt in new_df:\n",
        "    list_of_coors.append(make_list(elt))\n",
        "big_dict = {}\n",
        "length = len(list_of_coors)\n",
        "#print(check_dict,len(list_of_coors[0]), len(list_of_coors[2]))\n",
        "#print(ordered_intersection(list_of_coors[0],list_of_coors[2]))\n",
        "new_check_list = [list_of_coors[i][:2000] for i in range(length)]\n",
        "for i in range(length):\n",
        "    for j in range(i+1,length):\n",
        "        inter = ordered_intersection(new_check_list[i], new_check_list[j])\n",
        "        if len(inter)!=0:\n",
        "            big_dict[(i,j)]=inter[0]\n",
        "check_dict={e:len(big_dict[e][4]) for e in big_dict}\n",
        "#print(check_dict)\n",
        "#print(new_check_list[3][990:1240], new_check_list[4][573:823])\n",
        "querier_list = new_check_list[3][990:1240]\n",
        "infected_list1 = new_check_list[4][573:823]\n",
        "infected_list2 = new_check_list[4][323:573]\n",
        "infected_list3 = new_check_list[4][823:1073]\n",
        "print(ordered_intersection(querier_list, infected_list1))\n",
        "print(ordered_intersection(querier_list, infected_list2))\n",
        "print(ordered_intersection(querier_list, infected_list3))"
      ],
      "execution_count": null,
      "outputs": []
    }
  ]
}