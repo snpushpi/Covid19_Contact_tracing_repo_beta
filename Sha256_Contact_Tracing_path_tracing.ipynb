{
  "nbformat": 4,
  "nbformat_minor": 0,
  "metadata": {
    "colab": {
      "name": "Sha256_Contact_Tracing_path_tracing.ipynb",
      "provenance": [],
      "collapsed_sections": [],
      "authorship_tag": "ABX9TyN+DsaKQzHciOy/TfjbbEVl"
    },
    "kernelspec": {
      "name": "python3",
      "display_name": "Python 3"
    }
  },
  "cells": [
    {
      "cell_type": "code",
      "metadata": {
        "id": "mEd5Hu4v_Slj",
        "colab_type": "code",
        "colab": {}
      },
      "source": [
        "import collections\n",
        "import hashlib\n",
        "import numpy as np\n",
        "import matplotlib as mpl\n",
        "import matplotlib.pyplot as plt\n",
        "import math\n",
        "import random\n",
        "from collections import Counter"
      ],
      "execution_count": 2,
      "outputs": []
    },
    {
      "cell_type": "code",
      "metadata": {
        "id": "fvPDMB58_zSU",
        "colab_type": "code",
        "colab": {}
      },
      "source": [
        "class Differential_Privacy_CMS():\n",
        "    def __init__(self, width, depth,epsilon,max_coor):\n",
        "        ''' Method to initialize the data structure\n",
        "        @param width int: Width of the table\n",
        "        @param depth int: Depth of the table (num of hash func)\n",
        "        @param epsilon: privacy parameter\n",
        "        In this case, when we declare differential privacy class instance, we give the parameters m and k, or width and depth\n",
        "        '''\n",
        "        self.width = width #hash values range between 0 to width-1\n",
        "        self.depth = depth #number of hash functions\n",
        "        self.epsilon = epsilon \n",
        "        self.seed = np.random.choice(np.arange(0,self.width),replace=False,size=self.depth)\n",
        "        self.max = max_coor\n",
        "    #Implementing the client side algorithm which works on each particular data element. First it selects an integer randomly from 0 to depth-1, \n",
        "#we store that value as j, next, we initialize a vector of -1, of length width, and set that jth index as 1. Then we create another vector of -1s\n",
        "#and +1s, with fixed probabilities determined by the parameter epsilon. Then we do element wise multioplication and return the \n",
        "#result vector. \n",
        "\n",
        "    def CLient_Side(self,d):\n",
        "        '''parameters are a data element, epsilon value and a hash family, but we are using mmh3 here so didn't add that as a parameter'''\n",
        "        d = d[0]*self.max+d[1]\n",
        "        j = np.random.randint(self.depth) \n",
        "        z_vect = np.zeros((1,self.width))\n",
        "        v = z_vect-1 \n",
        "        hex_num = hashlib.sha256((str(self.seed[j])+str(d)).encode('utf-8')).hexdigest()\n",
        "        int_hex = int(hex_num[:5],16)\n",
        "        index = int_hex % self.width\n",
        "        v[0,index]=1\n",
        "        val = np.exp(self.epsilon/2)\n",
        "        probability_of_1 = val/(val+1) \n",
        "        probability_of_neg_1 = 1/(val+1)\n",
        "        b = np.random.choice([1,-1],self.width,p=[probability_of_1,probability_of_neg_1]) \n",
        "        final_vector = v*b\n",
        "        return (final_vector,j) \n",
        "\n",
        "    def Compute_Sketch_Matrix(self,D):\n",
        "        '''So each element of D is a tuple where the first element is v_i and second element is j_i(which is created by the above funstion after getting \n",
        "        passed by Client_side each time), we have privacy parameter epsilon and dimensions. v_i is the a vector an it has the sma eshape as the \n",
        "        vectors returned by the Client_side algorithm'''\n",
        "        val = np.exp(self.epsilon/2)\n",
        "        n = len(D)\n",
        "        c_epsilon = (val+1)/(val-1) \n",
        "        vec_one = np.ones((1,self.width))\n",
        "        manipulated_data_matrix = np.zeros((n,self.width)) #Creatimg a matrix for x_is\n",
        "        for elt in enumerate(D):\n",
        "            new_vect = elt[1][0].reshape((1,self.width))\n",
        "            man_vect = (c_epsilon/2)*new_vect #scalar and vector multiplication \n",
        "            half_vec_one = 0.5*vec_one \n",
        "            sum_vect = man_vect + half_vec_one\n",
        "            manipulated_data_matrix[[elt[0]],:]= self.depth*sum_vect  \n",
        "        M = np.zeros((self.depth,self.width))\n",
        "        for elt in enumerate(D):\n",
        "            for l in range(self.width): \n",
        "                M[elt[1][1],l]=M[elt[1][1],l]+manipulated_data_matrix[elt[0],l]\n",
        "        return M \n",
        "\n",
        "    def Server_Side(self,Sketch_Matrix,d,length):\n",
        "        '''It returns the estimated frequency of a data element given to it. So it has two parameters, data element and the length of the \n",
        "        data stream we are considering'''\n",
        "        d = d[0]*self.max+d[1]\n",
        "        n = length \n",
        "        frac1 = self.width/(self.width-1)\n",
        "        frac2 = n/self.width\n",
        "        row_sum = 0\n",
        "        for i in range(self.depth):\n",
        "            hex_num = hashlib.sha256((str(self.seed[i])+str(d)).encode('utf-8')).hexdigest()\n",
        "            int_hex = int(hex_num[:5],16)\n",
        "            index = int_hex % self.width\n",
        "            row_sum = row_sum + Sketch_Matrix[i,index]\n",
        "        avg_row_sum = row_sum/self.depth \n",
        "        subtraction = avg_row_sum - frac2 \n",
        "        assumed_freq = frac1*subtraction \n",
        "        return assumed_freq\n",
        "        \n",
        "    def Count_Mean_Sketch(self,D_s,D): \n",
        "        '''D_s is the stream of data and this is a subset of universe of data'''\n",
        "        Modified_datalist = []\n",
        "        Sketch_Matrix = []\n",
        "        freq_vect = {}\n",
        "        length = len(D_s) \n",
        "        for elt in enumerate(D_s):\n",
        "            Modified_datalist.append(self.CLient_Side(elt[1])) \n",
        "        Sketch_Matrix = self.Compute_Sketch_Matrix(Modified_datalist)\n",
        "        for d in D:\n",
        "            freq_vect[d] = self.Server_Side(Sketch_Matrix,d,length) \n",
        "        #for d in freq_vect:\n",
        "          \n",
        "            #freq_vect[d]=round(freq_vect[d])\n",
        "        return freq_vect"
      ],
      "execution_count": 3,
      "outputs": []
    },
    {
      "cell_type": "code",
      "metadata": {
        "id": "PfxfCEmi_6aP",
        "colab_type": "code",
        "colab": {}
      },
      "source": [
        "def frequency_counter_on_average(path_list,epsilon):\n",
        "    '''This function runs the entire process multiple and take the running average of frequencies for reducing error'''\n",
        "    u_list = [(x,y) for x in range(20) for y in range(80)]\n",
        "    freq_counter_cum = {d:0 for d in u_list}\n",
        "    for i in range(500):\n",
        "        class_instance = Differential_Privacy_CMS(100,100,epsilon,90)\n",
        "        freq_counter_new = class_instance.Count_Mean_Sketch(path_list, u_list)\n",
        "        for d in freq_counter_new:\n",
        "            freq_counter_cum[d]=(i*freq_counter_cum[d]+freq_counter_new[d])/(i+1)\n",
        "    return freq_counter_cum"
      ],
      "execution_count": 4,
      "outputs": []
    },
    {
      "cell_type": "code",
      "metadata": {
        "id": "gS-b70ZS_-b9",
        "colab_type": "code",
        "colab": {}
      },
      "source": [
        "def dictionary_adder(dict1,dict2):\n",
        "    z = dict1.copy()\n",
        "    for elt in dict2:\n",
        "        z[elt]=z.get(elt,0)+dict2[elt]\n",
        "    return z"
      ],
      "execution_count": 5,
      "outputs": []
    },
    {
      "cell_type": "code",
      "metadata": {
        "id": "vNvKvG0yAFci",
        "colab_type": "code",
        "colab": {}
      },
      "source": [
        "#This paret generates a true path and mentioned number of fake paths.\n",
        "def vertex_position_determiner(vertex):\n",
        "    '''it determines whether any vertice is corner or on the border-edge or anything else'''\n",
        "    x = vertex[0]\n",
        "    y = vertex[1]\n",
        "    if x==wrap.x_min or x==wrap.x_max:\n",
        "        if y==wrap.y_min or y==wrap.y_max:\n",
        "            return 'corner'\n",
        "        else:\n",
        "            return 'border-edge'\n",
        "    elif y==wrap.y_min or y==wrap.y_max:\n",
        "        return 'border-edge'\n",
        "    else:\n",
        "        return 'normal'\n",
        "def corner_neighbor_gen(vertex):\n",
        "    '''generates neighbors of 4 corners'''\n",
        "    x = vertex[0]\n",
        "    y = vertex[1]\n",
        "    if x==wrap.x_min and y==wrap.y_min:\n",
        "        return [(x+1,y),(x,y+1)]\n",
        "    if x==wrap.x_max and y==wrap.y_min:\n",
        "        return [(x-1,y),(x,y+1)] \n",
        "    if x==wrap.x_max and y==wrap.y_max:\n",
        "        return [(x-1,y),(x,y-1)]\n",
        "    if x==wrap.x_min and y==wrap.y_max:\n",
        "        return [(x+1,y),(x,y-1)]\n",
        "def side_neighbor_gen(vertex):    \n",
        "    ''' generates neighbors of vertices on the side of the grid but not the corner'''\n",
        "    x = vertex[0]\n",
        "    y = vertex[1]\n",
        "    if x==wrap.x_min:\n",
        "        return [(x,y-1),(x,y+1),(x+1,y)]\n",
        "    if x==wrap.x_max:\n",
        "        return [(x-1,y),(x,y+1),(x,y-1)]\n",
        "    if y==wrap.y_min:\n",
        "        return [(x-1,y),(x+1,y),(x,y+1)] \n",
        "    if y==wrap.y_max:\n",
        "        return [(x,y-1),(x-1,y),(x+1,y)] \n",
        "def normal_neighbor_gen(vertex):\n",
        "    '''generates neighbors of all other vertices'''\n",
        "    x = vertex[0]\n",
        "    y = vertex[1]\n",
        "    return [(x-1,y),(x+1,y),(x,y+1),(x,y-1)]\n",
        "def path_creator(center_vertex,path_length):\n",
        "    '''it will start creating a path of length given as a parameter in the function starting from the center vertex.'''\n",
        "    current_vertex = center_vertex\n",
        "    path = [] \n",
        "    for i in range(path_length):\n",
        "        path.append(current_vertex)\n",
        "        pos_det = vertex_position_determiner(current_vertex)\n",
        "        if pos_det=='normal':\n",
        "            ind = np.random.randint(4) \n",
        "            current_vertex = normal_neighbor_gen(current_vertex)[ind] \n",
        "        elif pos_det == 'corner': \n",
        "            ind = np.random.randint(2)\n",
        "            current_vertex = corner_neighbor_gen(current_vertex)[ind]\n",
        "        else:\n",
        "            ind = np.random.randint(3) \n",
        "            current_vertex = side_neighbor_gen(current_vertex)[ind]\n",
        "    return path"
      ],
      "execution_count": 6,
      "outputs": []
    },
    {
      "cell_type": "code",
      "metadata": {
        "id": "Xslb3MmYAKWc",
        "colab_type": "code",
        "colab": {}
      },
      "source": [
        "def wrap(x_min, x_max, y_min, y_max, center_vertex, path_length,number_of_fake_paths):\n",
        "    wrap.x_min = x_min\n",
        "    wrap.x_max = x_max\n",
        "    wrap.y_min = y_min\n",
        "    wrap.y_max = y_max\n",
        "    return path_generator(center_vertex,number_of_fake_paths, path_length) \n",
        "def path_generator(center_vertex, number_of_fake_paths,path_length):\n",
        "    '''Will generate the mentioned number of fake paths after generating a true path and then fixing the middle point and generating a bunch \n",
        "    of fake paths from this.'''\n",
        "    true_path = path_creator(center_vertex, path_length)\n",
        "    fake_path = []\n",
        "    for i in range(number_of_fake_paths):\n",
        "        fake_path.append(path_creator(center_vertex, path_length))\n",
        "    return true_path, fake_path"
      ],
      "execution_count": 7,
      "outputs": []
    },
    {
      "cell_type": "code",
      "metadata": {
        "id": "AgEcWd6iANeC",
        "colab_type": "code",
        "colab": {}
      },
      "source": [
        "def path_list_frequency_generator(path_list,epsilon):\n",
        "    '''path_list is a list of lists. This function just generates frequency histograms'''\n",
        "    result_list =[]\n",
        "    agg_dict = {}\n",
        "    for elt in path_list:\n",
        "        my_dict = frequency_counter_on_average(elt,epsilon)\n",
        "        result_list.append(my_dict)\n",
        "        agg_dict = dictionary_adder(agg_dict,my_dict)\n",
        "    return result_list, agg_dict"
      ],
      "execution_count": 8,
      "outputs": []
    },
    {
      "cell_type": "code",
      "metadata": {
        "id": "_t3eTr5DAT1R",
        "colab_type": "code",
        "colab": {}
      },
      "source": [
        "class querier():\n",
        "    def __init__(self,true_path):\n",
        "        self.true_path = true_path\n",
        "    def checker(self,big_dict):\n",
        "        result_list =[]\n",
        "        s = set(self.true_path)\n",
        "        for elt in s:\n",
        "            if big_dict.get(elt,0)>=1:\n",
        "                result_list.append(elt)\n",
        "        return result_list"
      ],
      "execution_count": 9,
      "outputs": []
    },
    {
      "cell_type": "code",
      "metadata": {
        "id": "Gr0owmotAdVE",
        "colab_type": "code",
        "colab": {}
      },
      "source": [
        "class infected():\n",
        "    def __init__(self,true_path,fake_path,id,global_id):\n",
        "        self.__true_path = true_path\n",
        "        self.__fake_path = fake_path #list of lists\n",
        "        self.cpy_path = [self.__true_path]+self.__fake_path\n",
        "        self.id = id #will be fixed by some controller part\n",
        "        self.histogram = None #server will give this data afterwards, this is just a list of dictionaries.\n",
        "        self.global_id = global_id\n",
        "      \n",
        "    def decrementer(self, big_hist, participant_list):\n",
        "        '''Each infected patient will call this method with the id of the next person unless his id is the global id in which case he just sends it \n",
        "        to the querier.'''\n",
        "        true_path_histogram = self.histogram.pop(0)\n",
        "        for hist in self.histogram:\n",
        "            for elt in hist:\n",
        "                if elt not in true_path_histogram and big_hist:\n",
        "                    big_hist[elt]=big_hist[elt]-hist[elt]\n",
        "        if self.id==self.global_id:\n",
        "            return participant_list[-1].checker(big_hist)\n",
        "        if self.id!=self.global_id:#sent to the next infected\n",
        "            return participant_list[self.id+1].decrementer(big_hist, participant_list)"
      ],
      "execution_count": 10,
      "outputs": []
    },
    {
      "cell_type": "code",
      "metadata": {
        "id": "VrhycJV6AgwQ",
        "colab_type": "code",
        "colab": {}
      },
      "source": [
        "def new_mode(infected_patients,querier, epsilon):\n",
        "    '''querier and infected_patients are class instances which will be passed by the testing part, here infected_patients is a list of infected instances.'''\n",
        "    #the querier's data is never sent to the server.\n",
        "    big_dict = {} # aggregation of all histograms\n",
        "    for infected_patient in infected_patients:\n",
        "        dict_list, agg_dict = path_list_frequency_generator(infected_patient.cpy_path,epsilon)\n",
        "        infected_patient.histogram = dict_list\n",
        "        big_dict = dictionary_adder(big_dict, agg_dict)\n",
        "    #then these big dict is sent to the first infected patient patient and all the freq_histograms are sent to the infected patients.\n",
        "    participant_list = infected_patients+[querier]\n",
        "    return infected_patients[0].decrementer(big_dict,participant_list)\n",
        "    "
      ],
      "execution_count": 11,
      "outputs": []
    },
    {
      "cell_type": "code",
      "metadata": {
        "id": "7dYC9dVAWFOm",
        "colab_type": "code",
        "colab": {}
      },
      "source": [
        "def accuracy_checker(predicted_path, original_path):\n",
        "    '''Here we have two lists of intersections, one original and one predicted path.'''\n",
        "    ps = set(predicted_path)\n",
        "    os = set(original_path)\n",
        "    common = ps & os\n",
        "    false_signals = ps-common\n",
        "    missed_signals = os-common\n",
        "    return common,false_signals, missed_signals"
      ],
      "execution_count": 12,
      "outputs": []
    },
    {
      "cell_type": "code",
      "metadata": {
        "id": "zLRT-IQHAm1Q",
        "colab_type": "code",
        "colab": {
          "base_uri": "https://localhost:8080/",
          "height": 54
        },
        "outputId": "6810e13b-6889-4ad9-8835-4541bbc608f4"
      },
      "source": [
        "#Test type 1-No intersection\n",
        "true_pathi1, fake_pathsi1 = wrap(0,19,20,79,(15,27),200,2)\n",
        "true_pathi2, fake_pathsi2 = wrap(0,19,20,79,(18,31),200,2)\n",
        "true_pathi3, fake_pathsi3 = wrap(0,19,20,79,(7,45),200,2)\n",
        "querier_true_path,fake_path = wrap(0,19,0,19,(15,7),200,2)\n",
        "infected1 = infected(true_pathi1, fake_pathsi1,1,3)\n",
        "infected2 = infected(true_pathi2, fake_pathsi2,2,3)\n",
        "infected3 = infected(true_pathi3, fake_pathsi3,3,3)\n",
        "infected_patients = [infected1, infected2, infected3]\n",
        "client = querier(querier_true_path)\n",
        "predicted_path = new_mode(infected_patients, client,5)\n",
        "original_path = set(querier_true_path) & set(true_pathi1+true_pathi2+true_pathi3)\n",
        "print(accuracy_checker(predicted_path, original_path))"
      ],
      "execution_count": null,
      "outputs": [
        {
          "output_type": "stream",
          "text": [
            "(set(), {(14, 10), (10, 11), (12, 1), (10, 4), (11, 9), (15, 10), (15, 1), (8, 9), (13, 8), (11, 14), (11, 5), (14, 7), (9, 9), (11, 3), (14, 12), (11, 1), (11, 6), (13, 11)}, set())\n"
          ],
          "name": "stdout"
        }
      ]
    },
    {
      "cell_type": "code",
      "metadata": {
        "id": "BYFnX0RdAqKw",
        "colab_type": "code",
        "colab": {
          "base_uri": "https://localhost:8080/",
          "height": 34
        },
        "outputId": "72317e5b-d8ef-405e-e4f1-7a63072008e6"
      },
      "source": [
        "#Test type 2- 1 intersection(but came from all three infected patients)\n",
        "querier_true_path, fake_path = wrap(0,19,0,19,(15,7),200,2)\n",
        "true_pathi1, fake_pathsi1 = wrap(0,19,20,79,(17,56),199,2)\n",
        "true_pathi2, fake_pathsi2 = wrap(0,19,20,79,(14,45),199,2)\n",
        "true_pathi3, fake_pathsi3 = wrap(0,19,20,79,(18,31),199,2)\n",
        "true_pathi1+=[querier_true_path[0]]\n",
        "true_pathi2+=[querier_true_path[0]]\n",
        "true_pathi3+=[querier_true_path[0]]\n",
        "infected1 = infected(true_pathi1, fake_pathsi1,1,3)\n",
        "infected2 = infected(true_pathi2, fake_pathsi2,2,3)\n",
        "infected3 = infected(true_pathi3, fake_pathsi3,3,3)\n",
        "infected_patients = [infected1, infected2, infected3]\n",
        "client = querier(querier_true_path)\n",
        "predicted_path = new_mode(infected_patients, client,5)\n",
        "original_path = set(querier_true_path) & set(true_pathi1+true_pathi2+true_pathi3)\n",
        "print(accuracy_checker(predicted_path, original_path))"
      ],
      "execution_count": null,
      "outputs": [
        {
          "output_type": "stream",
          "text": [
            "({(15, 7)}, {(12, 2), (12, 1), (13, 2), (17, 0), (14, 7), (15, 1), (9, 4), (19, 0)}, set())\n"
          ],
          "name": "stdout"
        }
      ]
    },
    {
      "cell_type": "code",
      "metadata": {
        "id": "_f1UFc9IAyvc",
        "colab_type": "code",
        "colab": {
          "base_uri": "https://localhost:8080/",
          "height": 54
        },
        "outputId": "fc46b96d-ba30-4cb1-ba2f-a59cc2b2ab47"
      },
      "source": [
        "#Test type 3- 3 different intersections, from came from three infected patients.\n",
        "querier_true_path, fake_path = wrap(0,19,0,19,(15,7),200,2)\n",
        "true_pathi1, fake_pathsi1 = wrap(0,19,20,79,(17,56),199,2)\n",
        "true_pathi2, fake_pathsi2 = wrap(0,19,20,79,(14,45),199,2)\n",
        "true_pathi3, fake_pathsi3 = wrap(0,19,20,79,(18,31),199,2)\n",
        "true_pathi1+=[querier_true_path[0]]\n",
        "true_pathi2+=[querier_true_path[1]]\n",
        "true_pathi3+=[querier_true_path[2]]\n",
        "infected1 = infected(true_pathi1, fake_pathsi1,1,3)\n",
        "infected2 = infected(true_pathi2, fake_pathsi2,2,3)\n",
        "infected3 = infected(true_pathi3, fake_pathsi3,3,3)\n",
        "infected_patients = [infected1, infected2, infected3]\n",
        "client = querier(querier_true_path)\n",
        "predicted_path = new_mode(infected_patients, client,5)\n",
        "original_path = set(querier_true_path) & set(true_pathi1+true_pathi2+true_pathi3)\n",
        "print(accuracy_checker(predicted_path, original_path))"
      ],
      "execution_count": null,
      "outputs": [
        {
          "output_type": "stream",
          "text": [
            "({(14, 7), (14, 6)}, {(17, 8), (12, 1), (12, 12), (15, 1), (8, 9), (14, 0), (10, 1), (10, 3), (8, 5), (16, 7), (11, 10), (17, 6), (7, 6), (12, 10), (15, 0), (8, 10), (16, 1), (7, 4), (14, 1), (11, 1), (10, 0)}, {(15, 7)})\n"
          ],
          "name": "stdout"
        }
      ]
    },
    {
      "cell_type": "code",
      "metadata": {
        "id": "ZZNfMkDYAz3P",
        "colab_type": "code",
        "colab": {}
      },
      "source": [
        "#Test type 4, multiple intersections, came from all infected patients.\n",
        "\n",
        "true_pathi1, fake_pathsi1 = wrap(0,19,0,79,(11,45),200,2)\n",
        "true_pathi2, fake_pathsi2 = wrap(0,19,0,79,(56,11),200,2)\n",
        "true_pathi3, fake_pathsi3 = wrap(0,19,0,79,(7,4),200,2)\n",
        "infected1 = infected(true_pathi1, fake_pathsi1,1,3)\n",
        "infected2 = infected(true_pathi2, fake_pathsi2,2,3)\n",
        "infected3 = infected(true_pathi3, fake_pathsi3,3,3)\n",
        "infected_patients = [infected1, infected2, infected3]\n",
        "querier_true_path, fake_path = wrap(0,19,0,79,(15,7),200,2)\n",
        "client = querier(querier_true_path)"
      ],
      "execution_count": 13,
      "outputs": []
    },
    {
      "cell_type": "code",
      "metadata": {
        "id": "TMfTxkfwXSyX",
        "colab_type": "code",
        "colab": {}
      },
      "source": [
        "epsilon_list = [6.5,7]\n",
        "eps_list = {}\n",
        "for eps in epsilon_list:\n",
        "    predicted_path = new_mode(infected_patients, client,eps)\n",
        "    original_path = set(querier_true_path) & set(true_pathi1+true_pathi2+true_pathi3)\n",
        "    eps_list[eps] = {}\n",
        "    eps_list[eps]['correct'],eps_list[eps]['false'],eps_list[eps]['missed']=accuracy_checker(predicted_path, original_path)\n",
        "    print(eps, eps_list[eps])\n",
        "print(eps_list)\n",
        "\n"
      ],
      "execution_count": null,
      "outputs": []
    }
  ]
}