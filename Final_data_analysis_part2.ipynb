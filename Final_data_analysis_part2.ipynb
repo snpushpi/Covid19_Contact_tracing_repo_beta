{
  "nbformat": 4,
  "nbformat_minor": 0,
  "metadata": {
    "colab": {
      "name": "Final_data_analysis_part2.ipynb",
      "provenance": [],
      "collapsed_sections": [],
      "authorship_tag": "ABX9TyMYwsgCiwldQrawZ1cBky8V",
      "include_colab_link": true
    },
    "kernelspec": {
      "name": "python3",
      "display_name": "Python 3"
    }
  },
  "cells": [
    {
      "cell_type": "markdown",
      "metadata": {
        "id": "view-in-github",
        "colab_type": "text"
      },
      "source": [
        "<a href=\"https://colab.research.google.com/github/snpushpi/Covid19_Contact_tracing_repo_beta/blob/master/Final_data_analysis_part2.ipynb\" target=\"_parent\"><img src=\"https://colab.research.google.com/assets/colab-badge.svg\" alt=\"Open In Colab\"/></a>"
      ]
    },
    {
      "cell_type": "markdown",
      "metadata": {
        "id": "OFpsEpBPNgHx",
        "colab_type": "text"
      },
      "source": [
        "TPR and FPR in the same graph. One graph for each epsilon and how tpr and fpr varies over run number."
      ]
    },
    {
      "cell_type": "code",
      "metadata": {
        "id": "AF6NYwxkN2ls",
        "colab_type": "code",
        "colab": {}
      },
      "source": [
        "run_number = []\n",
        "for i in range(100):\n",
        "    run_number.append(i)\n"
      ],
      "execution_count": 1,
      "outputs": []
    },
    {
      "cell_type": "code",
      "metadata": {
        "id": "o2e0hiZtaoPY",
        "colab_type": "code",
        "colab": {}
      },
      "source": [
        "import numpy as np\n",
        "import matplotlib as mpl\n",
        "import matplotlib.pyplot as plt\n",
        "from cycler import cycler\n",
        "plt.style.use('ggplot')\n",
        "%matplotlib inline"
      ],
      "execution_count": 2,
      "outputs": []
    },
    {
      "cell_type": "code",
      "metadata": {
        "id": "0SXpWUOpQEE8",
        "colab_type": "code",
        "colab": {}
      },
      "source": [
        "def TPR(tp, fn):\n",
        "    frac = tp/(tp+fn)\n",
        "    return 100*frac"
      ],
      "execution_count": 3,
      "outputs": []
    },
    {
      "cell_type": "code",
      "metadata": {
        "id": "zB-csBUoQGAY",
        "colab_type": "code",
        "colab": {}
      },
      "source": [
        "def FPR(fp, tn):\n",
        "    frac = fp/(fp+tn)\n",
        "    return 100*frac"
      ],
      "execution_count": 4,
      "outputs": []
    },
    {
      "cell_type": "code",
      "metadata": {
        "id": "DKgV0OiXSKTh",
        "colab_type": "code",
        "colab": {}
      },
      "source": [
        "def fpr_tpr_list_generator(tp_list, fp_list):\n",
        "    tpr_list = []\n",
        "    fpr_list = []\n",
        "    for tp in tp_list:\n",
        "        fn = 14-tp \n",
        "        tpr_list.append(TPR(tp,fn))\n",
        "    for fp in fp_list:\n",
        "        tn = 720-14-fp\n",
        "        fpr_list.append(FPR(fp,tn))\n",
        "    return tpr_list, fpr_list"
      ],
      "execution_count": 5,
      "outputs": []
    },
    {
      "cell_type": "code",
      "metadata": {
        "id": "b8g-py-qXE5r",
        "colab_type": "code",
        "colab": {}
      },
      "source": [
        "def driver_code(tuple_list):\n",
        "    l = len(tuple_list)\n",
        "    last = tuple_list[-1]\n",
        "    tp_list = []\n",
        "    fp_list = []\n",
        "    for i in range(l):\n",
        "        tp_list.append(tuple_list[i][0])\n",
        "        fp_list.append(tuple_list[i][1])\n",
        "    for i in range(100-l):\n",
        "        tp_list.append(last[0])\n",
        "        fp_list.append(last[1])\n",
        "    return fpr_tpr_list_generator(tp_list,fp_list)"
      ],
      "execution_count": 6,
      "outputs": []
    },
    {
      "cell_type": "code",
      "metadata": {
        "id": "gVNpE950aViv",
        "colab_type": "code",
        "colab": {}
      },
      "source": [
        "def draw(tpr_list_dict,fpr_list_dict, color_dict):\n",
        "    fig = plt.figure()\n",
        "    fig.patch.set_facecolor('xkcd:white')\n",
        "    plt.clf()\n",
        "    plt.xlabel('Run Number')\n",
        "    plt.ylabel('Cumulative TPR and FPR')\n",
        "    for elt in tpr_list_dict:\n",
        "        plt.plot(run_number,tpr_list_dict[elt],'{}-'.format(color_dict[elt]),label = 'TPR, Epsilon={}'.format(elt))\n",
        "        plt.plot(run_number, fpr_list_dict[elt],'{}--'.format(color_dict[elt]),label = 'FPR, Epsilon={}'.format(elt))\n",
        "    plt.style.use(['grayscale'])\n",
        "    plt.rcParams['axes.facecolor'] = 'white'\n",
        "    mpl.rcParams['lines.linewidth'] = 2\n",
        "    mpl.rcParams['boxplot.showbox'] = True\n",
        "    mpl.rcParams['axes.titlesize']=24\n",
        "    mpl.rcParams['axes.labelsize']=10\n",
        "    mpl.rcParams['lines.linewidth']=2\n",
        "    mpl.rcParams['xtick.labelsize']=10\n",
        "    mpl.rcParams['ytick.labelsize']=10\n",
        "    plt.legend(loc='lower right') \n",
        "    \n",
        "\n"
      ],
      "execution_count": 7,
      "outputs": []
    },
    {
      "cell_type": "code",
      "metadata": {
        "id": "7sUPEbOPndFV",
        "colab_type": "code",
        "colab": {}
      },
      "source": [
        "tuple_list_dictionary1 = {2.5:[(4, 14),(5, 18),(5, 20),(6, 21),(6, 24),(7, 25),(7, 25),(8, 25),(8, 26),(8, 26),(8, 26),(9, 26)],3:[(5, 17),(8, 18),(11, 19),(11, 20),(11, 21),(11, 22),(11, 22),(11, 22),(11, 22),(11, 22),(11, 22),(11, 23)],\n",
        "                         3.5:[(6, 15),(6, 16),(7, 16),(7, 17),(7, 18),(7, 19),(7, 19),(7, 19),(7, 20)]}\n",
        "color_dict = {2.5:'b',3:'r',3.5:'c'}\n",
        "tpr_list_dictionary = {}\n",
        "fpr_list_dictionary = {}\n",
        "for elt in tuple_list_dictionary1:\n",
        "    tpr_list_dictionary[elt], fpr_list_dictionary[elt]= driver_code(tuple_list_dictionary1[elt])"
      ],
      "execution_count": 8,
      "outputs": []
    },
    {
      "cell_type": "code",
      "metadata": {
        "id": "nIdLi5sB8GkV",
        "colab_type": "code",
        "colab": {
          "base_uri": "https://localhost:8080/",
          "height": 34
        },
        "outputId": "ea4c4544-a9d5-43d4-c677-e03dbeb63f12"
      },
      "source": [
        "len(tpr_list_dictionary)"
      ],
      "execution_count": null,
      "outputs": [
        {
          "output_type": "execute_result",
          "data": {
            "text/plain": [
              "3"
            ]
          },
          "metadata": {
            "tags": []
          },
          "execution_count": 198
        }
      ]
    },
    {
      "cell_type": "code",
      "metadata": {
        "id": "ppyRrqKftwPy",
        "colab_type": "code",
        "colab": {
          "base_uri": "https://localhost:8080/",
          "height": 279
        },
        "outputId": "372e4491-7478-4b33-993e-f562b3f4f9ef"
      },
      "source": [
        "draw(tpr_list_dictionary, fpr_list_dictionary, color_dict)"
      ],
      "execution_count": 10,
      "outputs": [
        {
          "output_type": "display_data",
          "data": {
            "image/png": "[encoded data removed]",
            "text/plain": [
              "<Figure size 432x288 with 1 Axes>"
            ]
          },
          "metadata": {
            "tags": []
          }
        }
      ]
    },
    {
      "cell_type": "code",
      "metadata": {
        "id": "kMrDumv56W7J",
        "colab_type": "code",
        "colab": {}
      },
      "source": [
        "tuple_list_dict2 = {4:[(6, 10),(6, 11),(6, 11),(6, 13),(6, 15),(9, 15)],\n",
        "                         4.5:[(3, 12),(8, 14),(8, 16),(8, 17)],5.5:[(2, 9),(2, 9),(3, 9),(3, 9),(4, 9)],\n",
        "                         6:[(3, 8),(3, 9),(3, 10),(3, 10),(3, 10),(3, 10),(3, 12),(3, 12),(3, 13)]}\n",
        "color_dict = {4:'b',4.5:'r',5.5:'c',6:'k'}\n",
        "tpr_list_dictionary = {}\n",
        "fpr_list_dictionary = {}\n",
        "for elt in tuple_list_dict2:\n",
        "    tpr_list_dictionary[elt], fpr_list_dictionary[elt]= driver_code(tuple_list_dict2[elt])"
      ],
      "execution_count": 11,
      "outputs": []
    },
    {
      "cell_type": "code",
      "metadata": {
        "id": "0jRLor76C6Tz",
        "colab_type": "code",
        "colab": {
          "base_uri": "https://localhost:8080/",
          "height": 279
        },
        "outputId": "eb42dbc4-6c4d-4210-e295-c90748a6c009"
      },
      "source": [
        "draw(tpr_list_dictionary, fpr_list_dictionary, color_dict)"
      ],
      "execution_count": 12,
      "outputs": [
        {
          "output_type": "display_data",
          "data": {
            "image/png": "[encoded data removed]",
            "text/plain": [
              "<Figure size 432x288 with 1 Axes>"
            ]
          },
          "metadata": {
            "tags": []
          }
        }
      ]
    }
  ]
}