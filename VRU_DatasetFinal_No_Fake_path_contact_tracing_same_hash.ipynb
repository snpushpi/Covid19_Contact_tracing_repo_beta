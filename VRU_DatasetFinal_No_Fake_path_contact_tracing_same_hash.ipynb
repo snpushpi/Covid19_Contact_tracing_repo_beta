{
  "nbformat": 4,
  "nbformat_minor": 0,
  "metadata": {
    "colab": {
      "name": "VRU_DatasetFinal_No_Fake_path_contact_tracing_same_hash.ipynb",
      "provenance": [],
      "collapsed_sections": [],
      "authorship_tag": "ABX9TyNjPKRuWQy5b58Wj5gpmoOC",
      "include_colab_link": true
    },
    "kernelspec": {
      "name": "python3",
      "display_name": "Python 3"
    }
  },
  "cells": [
    {
      "cell_type": "markdown",
      "metadata": {
        "id": "view-in-github",
        "colab_type": "text"
      },
      "source": [
        "<a href=\"https://colab.research.google.com/github/snpushpi/Covid19_Contact_tracing_repo_beta/blob/master/VRU_DatasetFinal_No_Fake_path_contact_tracing_same_hash.ipynb\" target=\"_parent\"><img src=\"https://colab.research.google.com/assets/colab-badge.svg\" alt=\"Open In Colab\"/></a>"
      ]
    },
    {
      "cell_type": "code",
      "metadata": {
        "id": "wHfygvdbI-fH",
        "colab_type": "code",
        "colab": {}
      },
      "source": [
        "import collections\n",
        "import hashlib\n",
        "import numpy as np\n",
        "import matplotlib as mpl\n",
        "import matplotlib.pyplot as plt\n",
        "import math\n",
        "import random\n",
        "from collections import Counter"
      ],
      "execution_count": 37,
      "outputs": []
    },
    {
      "cell_type": "code",
      "metadata": {
        "id": "aVce01EsR8Kw",
        "colab_type": "code",
        "colab": {}
      },
      "source": [
        "import pandas as pd\n",
        "import os"
      ],
      "execution_count": 1,
      "outputs": []
    },
    {
      "cell_type": "code",
      "metadata": {
        "id": "QpGHnaJvVr1C",
        "colab_type": "code",
        "colab": {
          "resources": {
            "http://localhost:8080/nbextensions/google.colab/files.js": {
              "data": "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",
              "ok": true,
              "headers": [
                [
                  "content-type",
                  "application/javascript"
                ]
              ],
              "status": 200,
              "status_text": ""
            }
          },
          "base_uri": "https://localhost:8080/",
          "height": 72
        },
        "outputId": "4c651cd7-440f-4429-f9fd-f1526190ff0c"
      },
      "source": [
        "from google.colab import files\n",
        "uploaded = files.upload()"
      ],
      "execution_count": 2,
      "outputs": [
        {
          "output_type": "display_data",
          "data": {
            "text/html": [
              "\n",
              "     <input type=\"file\" id=\"files-65c5a5a3-2c11-4dd0-9b21-277c20c8ad15\" name=\"files[]\" multiple disabled\n",
              "        style=\"border:none\" />\n",
              "     <output id=\"result-65c5a5a3-2c11-4dd0-9b21-277c20c8ad15\">\n",
              "      Upload widget is only available when the cell has been executed in the\n",
              "      current browser session. Please rerun this cell to enable.\n",
              "      </output>\n",
              "      <script src=\"/nbextensions/google.colab/files.js\"></script> "
            ],
            "text/plain": [
              "<IPython.core.display.HTML object>"
            ]
          },
          "metadata": {
            "tags": []
          }
        },
        {
          "output_type": "stream",
          "text": [
            "Saving Processed1_Dataset.csv to Processed1_Dataset.csv\n"
          ],
          "name": "stdout"
        }
      ]
    },
    {
      "cell_type": "code",
      "metadata": {
        "id": "gqngorY3WJqz",
        "colab_type": "code",
        "colab": {}
      },
      "source": [
        "import io"
      ],
      "execution_count": 4,
      "outputs": []
    },
    {
      "cell_type": "code",
      "metadata": {
        "id": "BTexc-NuWNKN",
        "colab_type": "code",
        "colab": {}
      },
      "source": [
        "df = pd.read_csv(io.BytesIO(uploaded['Processed1_Dataset.csv']))"
      ],
      "execution_count": 7,
      "outputs": []
    },
    {
      "cell_type": "code",
      "metadata": {
        "id": "puHGNZviWcMR",
        "colab_type": "code",
        "colab": {
          "base_uri": "https://localhost:8080/",
          "height": 34
        },
        "outputId": "f63e29b8-f461-4a2f-f200-86c2c07aa9c4"
      },
      "source": [
        "len(df[df.ID==0])"
      ],
      "execution_count": 8,
      "outputs": [
        {
          "output_type": "execute_result",
          "data": {
            "text/plain": [
              "460"
            ]
          },
          "metadata": {
            "tags": []
          },
          "execution_count": 8
        }
      ]
    },
    {
      "cell_type": "code",
      "metadata": {
        "id": "Viz6QnMz-SCa",
        "colab_type": "code",
        "colab": {
          "base_uri": "https://localhost:8080/",
          "height": 394
        },
        "outputId": "3000279c-424c-456b-c99d-44c2d9d2d7d0"
      },
      "source": [
        "df[:11]"
      ],
      "execution_count": 10,
      "outputs": [
        {
          "output_type": "execute_result",
          "data": {
            "text/html": [
              "<div>\n",
              "<style scoped>\n",
              "    .dataframe tbody tr th:only-of-type {\n",
              "        vertical-align: middle;\n",
              "    }\n",
              "\n",
              "    .dataframe tbody tr th {\n",
              "        vertical-align: top;\n",
              "    }\n",
              "\n",
              "    .dataframe thead th {\n",
              "        text-align: right;\n",
              "    }\n",
              "</style>\n",
              "<table border=\"1\" class=\"dataframe\">\n",
              "  <thead>\n",
              "    <tr style=\"text-align: right;\">\n",
              "      <th></th>\n",
              "      <th>Unnamed: 0</th>\n",
              "      <th>Unnamed: 0.1</th>\n",
              "      <th>Unnamed: 0.1.1</th>\n",
              "      <th>timestamp</th>\n",
              "      <th>x</th>\n",
              "      <th>y</th>\n",
              "      <th>ID</th>\n",
              "      <th>modified_x</th>\n",
              "      <th>modified_y</th>\n",
              "    </tr>\n",
              "  </thead>\n",
              "  <tbody>\n",
              "    <tr>\n",
              "      <th>0</th>\n",
              "      <td>0</td>\n",
              "      <td>0</td>\n",
              "      <td>0</td>\n",
              "      <td>0.00</td>\n",
              "      <td>-1.43164</td>\n",
              "      <td>2.05182</td>\n",
              "      <td>0</td>\n",
              "      <td>-1.0</td>\n",
              "      <td>2.0</td>\n",
              "    </tr>\n",
              "    <tr>\n",
              "      <th>1</th>\n",
              "      <td>1</td>\n",
              "      <td>1</td>\n",
              "      <td>1</td>\n",
              "      <td>0.02</td>\n",
              "      <td>-1.41183</td>\n",
              "      <td>2.03714</td>\n",
              "      <td>0</td>\n",
              "      <td>-1.0</td>\n",
              "      <td>2.0</td>\n",
              "    </tr>\n",
              "    <tr>\n",
              "      <th>2</th>\n",
              "      <td>2</td>\n",
              "      <td>2</td>\n",
              "      <td>2</td>\n",
              "      <td>0.04</td>\n",
              "      <td>-1.39942</td>\n",
              "      <td>2.01728</td>\n",
              "      <td>0</td>\n",
              "      <td>-1.0</td>\n",
              "      <td>2.0</td>\n",
              "    </tr>\n",
              "    <tr>\n",
              "      <th>3</th>\n",
              "      <td>3</td>\n",
              "      <td>3</td>\n",
              "      <td>3</td>\n",
              "      <td>0.06</td>\n",
              "      <td>-1.38803</td>\n",
              "      <td>1.99488</td>\n",
              "      <td>0</td>\n",
              "      <td>-1.0</td>\n",
              "      <td>2.0</td>\n",
              "    </tr>\n",
              "    <tr>\n",
              "      <th>4</th>\n",
              "      <td>4</td>\n",
              "      <td>4</td>\n",
              "      <td>4</td>\n",
              "      <td>0.08</td>\n",
              "      <td>-1.37095</td>\n",
              "      <td>1.97715</td>\n",
              "      <td>0</td>\n",
              "      <td>-1.0</td>\n",
              "      <td>2.0</td>\n",
              "    </tr>\n",
              "    <tr>\n",
              "      <th>5</th>\n",
              "      <td>5</td>\n",
              "      <td>5</td>\n",
              "      <td>5</td>\n",
              "      <td>0.10</td>\n",
              "      <td>-1.35568</td>\n",
              "      <td>1.95657</td>\n",
              "      <td>0</td>\n",
              "      <td>-1.0</td>\n",
              "      <td>2.0</td>\n",
              "    </tr>\n",
              "    <tr>\n",
              "      <th>6</th>\n",
              "      <td>6</td>\n",
              "      <td>6</td>\n",
              "      <td>6</td>\n",
              "      <td>0.12</td>\n",
              "      <td>-1.34078</td>\n",
              "      <td>1.93609</td>\n",
              "      <td>0</td>\n",
              "      <td>-1.0</td>\n",
              "      <td>2.0</td>\n",
              "    </tr>\n",
              "    <tr>\n",
              "      <th>7</th>\n",
              "      <td>7</td>\n",
              "      <td>7</td>\n",
              "      <td>7</td>\n",
              "      <td>0.14</td>\n",
              "      <td>-1.32259</td>\n",
              "      <td>1.91844</td>\n",
              "      <td>0</td>\n",
              "      <td>-1.0</td>\n",
              "      <td>2.0</td>\n",
              "    </tr>\n",
              "    <tr>\n",
              "      <th>8</th>\n",
              "      <td>8</td>\n",
              "      <td>8</td>\n",
              "      <td>8</td>\n",
              "      <td>0.16</td>\n",
              "      <td>-1.30702</td>\n",
              "      <td>1.89424</td>\n",
              "      <td>0</td>\n",
              "      <td>-1.0</td>\n",
              "      <td>2.0</td>\n",
              "    </tr>\n",
              "    <tr>\n",
              "      <th>9</th>\n",
              "      <td>9</td>\n",
              "      <td>9</td>\n",
              "      <td>9</td>\n",
              "      <td>0.18</td>\n",
              "      <td>-1.29023</td>\n",
              "      <td>1.87302</td>\n",
              "      <td>0</td>\n",
              "      <td>-1.0</td>\n",
              "      <td>2.0</td>\n",
              "    </tr>\n",
              "    <tr>\n",
              "      <th>10</th>\n",
              "      <td>10</td>\n",
              "      <td>10</td>\n",
              "      <td>10</td>\n",
              "      <td>0.20</td>\n",
              "      <td>-1.27397</td>\n",
              "      <td>1.85210</td>\n",
              "      <td>0</td>\n",
              "      <td>-1.0</td>\n",
              "      <td>2.0</td>\n",
              "    </tr>\n",
              "  </tbody>\n",
              "</table>\n",
              "</div>"
            ],
            "text/plain": [
              "    Unnamed: 0  Unnamed: 0.1  Unnamed: 0.1.1  ...  ID  modified_x  modified_y\n",
              "0            0             0               0  ...   0        -1.0         2.0\n",
              "1            1             1               1  ...   0        -1.0         2.0\n",
              "2            2             2               2  ...   0        -1.0         2.0\n",
              "3            3             3               3  ...   0        -1.0         2.0\n",
              "4            4             4               4  ...   0        -1.0         2.0\n",
              "5            5             5               5  ...   0        -1.0         2.0\n",
              "6            6             6               6  ...   0        -1.0         2.0\n",
              "7            7             7               7  ...   0        -1.0         2.0\n",
              "8            8             8               8  ...   0        -1.0         2.0\n",
              "9            9             9               9  ...   0        -1.0         2.0\n",
              "10          10            10              10  ...   0        -1.0         2.0\n",
              "\n",
              "[11 rows x 9 columns]"
            ]
          },
          "metadata": {
            "tags": []
          },
          "execution_count": 10
        }
      ]
    },
    {
      "cell_type": "markdown",
      "metadata": {
        "id": "1h3-iPW1SEIl",
        "colab_type": "text"
      },
      "source": [
        "create a dataframe object from the csv file"
      ]
    },
    {
      "cell_type": "markdown",
      "metadata": {
        "id": "ByS_BGdxSXlA",
        "colab_type": "text"
      },
      "source": [
        "Next few parts, we will be making our data in a usable format for feeding into our dataset"
      ]
    },
    {
      "cell_type": "code",
      "metadata": {
        "id": "z08m0TEYScfn",
        "colab_type": "code",
        "colab": {}
      },
      "source": [
        "def list_generator(new_dataframe,user_num):\n",
        "    user_x = new_dataframe[new_dataframe.ID==user_num]['modified_x'].to_list()\n",
        "    user_y = new_dataframe[new_dataframe.ID==user_num]['modified_y'].to_list()\n",
        "    user_timestamp = new_dataframe[new_dataframe.ID==user_num]['timestamp'].to_list()\n",
        "    l = len(new_dataframe[new_dataframe.ID==user_num])\n",
        "    user_path = [(user_x[i],user_y[i],user_timestamp[i])for i in range(l)]\n",
        "    return user_path "
      ],
      "execution_count": 13,
      "outputs": []
    },
    {
      "cell_type": "markdown",
      "metadata": {
        "id": "fWWfREAuSpRN",
        "colab_type": "text"
      },
      "source": [
        "For 50 infected users, we will create a list of lists where each list is the path of one infected patient"
      ]
    },
    {
      "cell_type": "code",
      "metadata": {
        "id": "DQBXeT6TSqm7",
        "colab_type": "code",
        "colab": {}
      },
      "source": [
        "querier_path = list_generator(df,0)\n",
        "infected_list = []\n",
        "for i in range(1,134):\n",
        "    infected_list.append(list_generator(df,i))"
      ],
      "execution_count": 12,
      "outputs": []
    },
    {
      "cell_type": "code",
      "metadata": {
        "id": "4CqN11R6pgmn",
        "colab_type": "code",
        "colab": {}
      },
      "source": [
        "min_x = -5\n",
        "max_x = 5\n",
        "min_y = -8\n",
        "max_y = 9"
      ],
      "execution_count": 14,
      "outputs": []
    },
    {
      "cell_type": "code",
      "metadata": {
        "id": "XcAWCqqetBOT",
        "colab_type": "code",
        "colab": {}
      },
      "source": [
        "def position_determiner(x, y):\n",
        "    '''Given a latitude, longitude co-ordinate, we have to find the small universe it belongs to.'''\n",
        "    k = math.floor((x-min_x)/3)\n",
        "    j = math.floor((y-min_y)/3)\n",
        "    return (k,j)\n",
        "    "
      ],
      "execution_count": 26,
      "outputs": []
    },
    {
      "cell_type": "code",
      "metadata": {
        "id": "12vytdzgt6EX",
        "colab_type": "code",
        "colab": {}
      },
      "source": [
        "def path_divider(path):\n",
        "    '''given a path (a list of tuples, (lat, lon, timestamp)), divides it into zones.\n",
        "    returns: a dictionary zone->[{timestamp->(lat,lon, timestamp)},[timestamp_list]]'''\n",
        "    track_dict = {}\n",
        "    for elt in path:\n",
        "        temp_val = position_determiner(elt[0], elt[1])\n",
        "        if temp_val not in track_dict:\n",
        "            track_dict[temp_val]=[{},[]]\n",
        "            track_dict[temp_val][0][elt[2]]= elt\n",
        "            track_dict[temp_val][1].append(elt[2])\n",
        "        else:\n",
        "            track_dict[temp_val][0][elt[2]]= elt\n",
        "            track_dict[temp_val][1].append(elt[2])\n",
        "    return track_dict\n"
      ],
      "execution_count": 27,
      "outputs": []
    },
    {
      "cell_type": "code",
      "metadata": {
        "id": "YYq_lPwJK60R",
        "colab_type": "code",
        "colab": {}
      },
      "source": [
        "class Querier():\n",
        "    def __init__(self,true_path):\n",
        "        self.true_path = true_path\n",
        "        self.filtered_dictionary = {}\n",
        "        self.intersection = []\n",
        "\n",
        "    def filter_divider(self):\n",
        "        '''returns zone->timestamp_list dictionary.'''\n",
        "        self.filtered_dictionary = path_divider(self.true_path)     \n",
        "        filt_dict = {e:self.filtered_dictionary[e][1] for e in self.filtered_dictionary}\n",
        "        return filt_dict\n",
        "\n",
        "    def checker(self, freq_dict, zone):\n",
        "        '''given the dictionary, checks the intersection with its elements, in other words, for each of its elements in this zone,\n",
        "        it checks whether the frequency in the dictionary is greater than 1.'''\n",
        "        timestamp_list = self.filtered_dictionary[zone][1]\n",
        "        new_all_list = [zone+(timestamp,) for timestamp in timestamp_list]\n",
        "        for elt in new_all_list:\n",
        "            if elt in freq_dict:\n",
        "                if math.floor(freq_dict[elt])>=1:\n",
        "                    self.intersection.append(elt)\n",
        "                \n",
        "    def announcer(self):\n",
        "        '''returns the self.intersection list.'''\n",
        "        result_list=[]\n",
        "        for elt in self.intersection:\n",
        "            result_list.append(elt[2])\n",
        "        return result_list\n"
      ],
      "execution_count": 28,
      "outputs": []
    },
    {
      "cell_type": "code",
      "metadata": {
        "id": "v-lTaI8BD-dX",
        "colab_type": "code",
        "colab": {}
      },
      "source": [
        "class Infected():\n",
        "    def __init__(self, true_path,width, depth,epsilon,seed):\n",
        "        self.width = width\n",
        "        self.depth = depth\n",
        "        self.epsilon = epsilon\n",
        "        self.seed = seed\n",
        "        self.true_path = true_path\n",
        "        self.filtered_dictionary = {}\n",
        "        self.new_level2_filter = {}\n",
        "    #Implementing the client side algorithm which works on each particular data element. First it selects an integer randomly from 0 to depth-1, \n",
        "    #we store that value as j, next, we initialize a vector of -1, of length width, and set that jth index as 1. Then we create another vector of -1s\n",
        "    #and +1s, with fixed probabilities determined by the parameter epsilon. Then we do element wise multioplication and return the \n",
        "    #result vector. \n",
        "\n",
        "    def Client_Side(self,d):\n",
        "        '''parameters are a data element, epsilon value and a hash family, but we are using mmh3 here so didn't add that as a parameter'''\n",
        "        j = np.random.randint(self.depth) \n",
        "        z_vect = np.zeros((1,self.width))\n",
        "        v = z_vect-1 \n",
        "        hex_num = hashlib.sha256((str(self.seed[j])+str(d)).encode('utf-8')).hexdigest()\n",
        "        int_hex = int(hex_num[:5],16)\n",
        "        index = int_hex % self.width\n",
        "        v[0,index]=1\n",
        "        val = np.exp(self.epsilon/2)\n",
        "        probability_of_1 = val/(val+1) \n",
        "        probability_of_neg_1 = 1/(val+1)\n",
        "        b = np.random.choice([1,-1],self.width,p=[probability_of_1,probability_of_neg_1]) \n",
        "        final_vector = v*b\n",
        "        return (final_vector,j) \n",
        "\n",
        "    def send_flipped_bit_vector(self,zone):\n",
        "        result_list = []\n",
        "        for elt in self.new_level2_filter[zone]:\n",
        "            result_list.append(self.Client_Side(elt))\n",
        "        return result_list\n",
        "\n",
        "    def filter_divider(self):\n",
        "        '''returns: zone->timestamp_list.'''\n",
        "        self.filtered_dictionary = path_divider(self.true_path)\n",
        "        filt_dict = {e:self.filtered_dictionary[e][1] for e in self.filtered_dictionary}\n",
        "        return filt_dict\n",
        "        \n",
        "    def filter2(self,filtered_dict_from_server):\n",
        "        '''filtered_dict_from_server, a dictionary with zone->timestamps.\n",
        "        modifies: a new_level2_filter list, and new_level2_filter_list[zone] is a list of (lat, lon, timestamp).'''\n",
        "        for zone in filtered_dict_from_server:\n",
        "            self.new_level2_filter[zone]=[]\n",
        "            for elt in filtered_dict_from_server[zone]:\n",
        "                self.new_level2_filter[zone].append(self.filtered_dictionary[zone][0][elt])"
      ],
      "execution_count": 29,
      "outputs": []
    },
    {
      "cell_type": "code",
      "metadata": {
        "id": "0TK80cumIIdD",
        "colab_type": "code",
        "colab": {}
      },
      "source": [
        "class Server():\n",
        "    def __init__(self, width, depth, epsilon, seed):\n",
        "        self.width = width\n",
        "        self.depth = depth\n",
        "        self.epsilon = epsilon\n",
        "        self.seed = seed \n",
        "        self.zone_list=[]\n",
        "        self.new_filtered_list = []\n",
        "\n",
        "    def Compute_Sketch_Matrix(self,D):\n",
        "        '''So each element of D is a tuple where the first element is v_i and second element is j_i(which is created by the above funstion after getting \n",
        "        passed by Client_side each time), we have privacy parameter epsilon and dimensions. v_i is the a vector an it has the sma eshape as the \n",
        "        vectors returned by the Client_side algorithm'''\n",
        "        val = np.exp(self.epsilon/2)\n",
        "        n = len(D)\n",
        "        c_epsilon = (val+1)/(val-1) \n",
        "        vec_one = np.ones((1,self.width))\n",
        "        manipulated_data_matrix = np.zeros((n,self.width)) #Creatimg a matrix for x_is\n",
        "        for elt in enumerate(D):\n",
        "            new_vect = elt[1][0].reshape((1,self.width))\n",
        "            man_vect = (c_epsilon/2)*new_vect #scalar and vector multiplication \n",
        "            half_vec_one = 0.5*vec_one \n",
        "            sum_vect = man_vect + half_vec_one\n",
        "            manipulated_data_matrix[[elt[0]],:]= self.depth*sum_vect  \n",
        "        M = np.zeros((self.depth,self.width))\n",
        "        for elt in enumerate(D):\n",
        "            for l in range(self.width): \n",
        "                M[elt[1][1],l]=M[elt[1][1],l]+manipulated_data_matrix[elt[0],l]\n",
        "        return M \n",
        "\n",
        "    def frequency_counter(self, Sketch_Matrix, total_path_length, universe_list):\n",
        "        ''' we get a sketch matrix and we try to get the frequencies for all elements in the true_path.'''\n",
        "        frequency_dict = {}\n",
        "        for d in universe_list:\n",
        "            n = total_path_length\n",
        "            frac1 = self.width/(self.width-1)\n",
        "            frac2 = n/self.width\n",
        "            row_sum = 0\n",
        "            for i in range(self.depth):\n",
        "                hex_num = hashlib.sha256((str(self.seed[i])+str(d)).encode('utf-8')).hexdigest()\n",
        "                int_hex = int(hex_num[:5],16)\n",
        "                index = int_hex % self.width\n",
        "                row_sum = row_sum + Sketch_Matrix[i,index]\n",
        "            avg_row_sum = row_sum/self.depth \n",
        "            subtraction = avg_row_sum - frac2 \n",
        "            assumed_freq = frac1*subtraction \n",
        "            frequency_dict[d]=assumed_freq\n",
        "        return frequency_dict\n",
        "\n",
        "    def checker(self,querier_filtered_path, infected_patients_filtered_dict_list):\n",
        "        '''gets zone-> timestamps and returns list of filtered zone-> set(timestamps) dictionaries.'''\n",
        "        l = len(infected_patients_filtered_dict_list)\n",
        "        for i in range(l):\n",
        "            temp_dict={}\n",
        "            for zone in infected_patients_filtered_dict_list[i]:\n",
        "                if zone in querier_filtered_path:\n",
        "                    temp_dict[zone] = set(infected_patients_filtered_dict_list[i][zone]) & set(querier_filtered_path[zone])\n",
        "            self.new_filtered_list.append(temp_dict)#For all infected patients, it maintains a dictionary, mapping zone to timestamps.\n",
        "        \n",
        "        return self.new_filtered_list\n",
        "    \n",
        "    def universe_generate(self, zone, timestamp_list):\n",
        "        '''generate the universe list with the timestamps.'''\n",
        "        x = zone[0]\n",
        "        y = zone[1]\n",
        "        x_list = []\n",
        "        y_list = []\n",
        "        universe_list = []\n",
        "        for i in np.arange(x, x+4, 1):\n",
        "            for j in np.arange(y, y+4, 1):\n",
        "                for time in timestamp_list:\n",
        "                    universe_list.append((i, j, time))\n",
        "        return universe_list\n",
        "\n",
        "    def bit_flip_caller(self, infected_patients, querier, run_number):\n",
        "        '''Will call the flip bit method on all zones of each infected patient.'''\n",
        "        zone_universe_list = set()\n",
        "        l = len(self.new_filtered_list)\n",
        "        for i in range(l):\n",
        "            zone_universe_list|=set(self.new_filtered_list[i].keys())\n",
        "        big_timestamp_dictionary = {e:set() for e in zone_universe_list}\n",
        "        big_tracker_dictionary = {e:[] for e in zone_universe_list}#zone-> infected person who is in that zone\n",
        "        #generating zone->timestamps for all infected patient dictionary.\n",
        "        for zone in zone_universe_list:\n",
        "            for i in range(l):\n",
        "                if zone in self.new_filtered_list[i]:\n",
        "                    big_timestamp_dictionary[zone]|=set(self.new_filtered_list[i][zone])\n",
        "                    big_tracker_dictionary[zone].append(i)\n",
        "        for zone in zone_universe_list:\n",
        "            sketch_matrix = np.zeros((self.depth, self.width))\n",
        "            for i in range(run_number):\n",
        "                big_vect_list = []\n",
        "                #call a function which does some calculation\n",
        "                for j in big_tracker_dictionary[zone]:\n",
        "                    big_vect_list+=infected_patients[j].send_flipped_bit_vector(zone)\n",
        "                M = self.Compute_Sketch_Matrix(big_vect_list)\n",
        "                for row in range(self.depth):\n",
        "                    for col in range(self.width):\n",
        "                        sketch_matrix[row, col]=(i*sketch_matrix[row, col]+M[row, col])/(i+1)\n",
        "            universe_list = self.universe_generate(zone, big_timestamp_dictionary[zone])   \n",
        "            n = len(big_vect_list)\n",
        "            freq_dict = self.frequency_counter(sketch_matrix, n, universe_list)\n",
        "            querier.checker(freq_dict, zone)\n",
        "                "
      ],
      "execution_count": 30,
      "outputs": []
    },
    {
      "cell_type": "code",
      "metadata": {
        "id": "5_7Bu1hNGFCr",
        "colab_type": "code",
        "colab": {}
      },
      "source": [
        "#in the new mode, we invoke this method and the server receives this flipped bit vectors, as we want to average the \n",
        "#bit flipping thing, we run this process a mentioned number of times. and make compute sketch matrix."
      ],
      "execution_count": null,
      "outputs": []
    },
    {
      "cell_type": "code",
      "metadata": {
        "id": "CFhh-DbKK7Wo",
        "colab_type": "code",
        "colab": {}
      },
      "source": [
        "def driver_code(width, depth, seed, epsilon, run_number):\n",
        "    '''1. Create instances of querier, server and infected patients.\n",
        "       2. Call the filter method on all the participants in the server, so all the querier and the infectd patients filter out their paths \n",
        "          in multiple universes. This function will output a dictionary kepys mapping to 2 lists, one list is the co-ordinates in that universe and another list is the timestamp.\n",
        "       3. Now send this filtered timestamp and zone list to the server. Form can be (zone code->timestamps in that zone)\n",
        "       4. Taking the querier's timestamp against the infected patient's timestamp, server will level2 filtering and send similar form of \n",
        "          dictionary to all the infected patients and the querier, so basically finding the timestamp intersection between querier and infected patient pair\n",
        "          and server is keeping the lists for his calculation.\n",
        "       5. The participants, upon receiving the information, filters out the information further and start processing data from their end, aka, \n",
        "          calls the server caller method.(So in our implementation, we will be processing all infected patients one by one)\n",
        "       6. The server caller method, is a common method which will be used in other parts too, when this method is called from some \n",
        "          infected patient, it asks for flipped vectors a mentioned number of times from the infected patient and upon receiving it every time,\n",
        "          the server does the compute sketch matrix operation and contnues averaging it and finally gets the aggregated sketch matrix, as the server knows which \n",
        "          infected patient and from which zone, it was being called, he finally calls freq generator with this information.(Zone code, sketch matrix and server has saved the timestamp info\n",
        "          for generating universe list)\n",
        "       7. Thus for each caller method, server keeps generating frequency histogram and keeps aggregating it and will finally send it to the querier   \n",
        "    '''\n",
        "    querier = Querier(querier_path)\n",
        "    infected_patients = []\n",
        "    for infected in infected_list:\n",
        "        infected_patients.append(Infected(infected, width, depth, epsilon, seed))\n",
        "    server_instance = Server(width, depth, epsilon, seed)\n",
        "    infected_patients_filtered_dict_list=[]\n",
        "    for e in infected_patients:\n",
        "        infected_patients_filtered_dict_list.append(e.filter_divider())\n",
        "    querier_filter = querier.filter_divider()\n",
        "    new_filtered_list = server_instance.checker(querier_filter, infected_patients_filtered_dict_list)\n",
        "    l = len(new_filtered_list)\n",
        "    for i in range(l):\n",
        "        infected_patients[i].filter2(new_filtered_list[i])\n",
        "    server_instance.bit_flip_caller(infected_patients, querier, run_number)\n",
        "    return querier.announcer()\n",
        "\n"
      ],
      "execution_count": 31,
      "outputs": []
    },
    {
      "cell_type": "code",
      "metadata": {
        "id": "Q0bxpGd3HIRt",
        "colab_type": "code",
        "colab": {}
      },
      "source": [
        "   \n",
        "seed = [172,  55, 177, 191, 199,  23,  82, 126,  83,  21,   6,  69, 122,\n",
        "            95,  81, 194,  80,  87, 188, 159, 107,  66,   3,  38,  52,  32,\n",
        "        140,  44, 185,  20, 154,  36, 186,  99, 149, 100,  53,  58,  96,\n",
        "        160, 108,  46, 150, 179,   2, 142, 151,  76,  65,  72,  59, 129,\n",
        "            51,  11, 193,  79, 105,  42,  77, 104,  25, 189,  35, 125,  61,\n",
        "        164, 112, 190, 106,  29,  27,  33,   9, 184,  91,  26,  93, 130,\n",
        "            39, 187, 174,  88, 178, 168,  63, 198, 169, 157,  10, 111, 196,\n",
        "            73,  12, 115,  78, 162,  64, 147,  54, 103]\n",
        "width = 150\n",
        "depth = 100"
      ],
      "execution_count": 32,
      "outputs": []
    },
    {
      "cell_type": "code",
      "metadata": {
        "id": "ZH0VJA2Dtst9",
        "colab_type": "code",
        "colab": {}
      },
      "source": [
        "ground_truth_timestamp_coordinates={0.0, 1.46, 1.5, 2.5, 4.2, 4.22, 4.24, 4.26, 4.28, 4.3, 4.32, 5.04, 6.0, 7.36, 8.6, 8.62, 3.5, 3.0, 2.0, 4.5, 4.0, 5.0, 7.0, 8.5, 4.72, 5.22, 5.72, 7.72, 0.42, 8.72, 8.44, 4.44, 4.94, 5.44, 5.94, 6.44, 7.44, 0.38, 0.84, 2.66, 2.16, 3.66, 3.16, 4.16, 4.66, 5.66, 6.16, 7.16, 7.66, 8.66, 2.52, 2.02, 3.52, 3.02, 1.38, 2.88, 3.38, 3.88, 4.38, 4.88, 5.38, 5.88, 6.38, 7.38, 0.3, 0.34, 4.1, 4.6, 5.6, 6.1, 6.6, 8.88, 8.38, 0.72, 1.34, 0.26, 0.76, 0.8, 1.3, 4.82, 5.32, 5.82, 6.32, 8.82, 8.54, 0.22, 2.54, 2.04, 3.54, 3.04, 4.04, 4.54, 5.54, 6.04, 7.04, 1.4, 2.9, 3.9, 0.18, 2.76, 2.26, 3.76, 3.26, 4.76, 5.26, 5.76, 6.26, 7.76, 8.76, 0.64, 0.68, 0.14, 4.48, 4.98, 5.48, 5.98, 6.98, 8.7, 8.48, 0.1, 2.7, 2.2, 3.7, 3.2, 4.7, 5.2, 5.7, 6.2, 7.2, 7.7, 2.56, 2.06, 3.56, 3.06, 0.06, 1.42, 2.42, 2.92, 3.42, 3.92, 4.42, 4.92, 5.42, 5.92, 6.42, 7.42, 8.92, 8.42, 2.78, 2.28, 3.78, 3.28, 4.64, 4.14, 0.02, 6.14, 7.64, 1.52, 1.48, 2.1, 2.68, 2.86, 2.18, 3.36, 3.68, 3.86, 3.18, 2.4, 3.4, 8.64, 8.36, 8.86, 4.36, 4.86, 5.36, 5.86, 6.36, 2.72, 2.22, 3.72, 3.22, 2.58, 2.08, 3.58, 3.08, 4.08, 4.58, 5.58, 6.08, 6.58, 1.44, 8.58, 2.44, 2.94, 3.44, 3.94, 2.8, 2.3, 3.3, 3.8, 4.8, 5.3, 5.8, 6.3, 0.36, 0.82, 0.4, 4.52, 4.02, 5.02, 5.52, 6.02, 7.02, 8.52, 8.8, 0.32, 2.74, 2.24, 3.74, 3.24, 4.74, 5.24, 5.74, 6.24, 7.74, 8.74, 2.6, 3.6, 3.1, 2.46, 2.96, 3.46, 3.96, 4.46, 4.96, 5.46, 5.96, 2.82, 3.32, 3.82, 0.7, 1.36, 0.24, 0.74, 0.28, 0.78, 1.28, 1.32, 4.68, 4.18, 5.68, 6.18, 7.18, 7.68, 8.68, 8.46, 0.2, 4.4, 4.9, 5.4, 5.9, 6.4, 7.4, 8.9, 8.4, 0.16, 2.62, 2.12, 3.62, 3.12, 4.12, 4.62, 6.12, 6.62, 7.62, 1.98, 2.48, 2.98, 3.48, 3.98, 0.66, 0.12, 0.62, 2.84, 3.34, 3.84, 4.34, 4.84, 5.34, 5.84, 6.34, 8.84, 8.34, 4.06, 4.56, 5.56, 6.06, 0.08, 6.56, 8.78, 8.56, 0.04, 4.78, 5.28, 5.78, 6.28, 7.78, 2.64, 2.14, 3.64, 3.14}"
      ],
      "execution_count": 33,
      "outputs": []
    },
    {
      "cell_type": "code",
      "metadata": {
        "id": "66No3Qu9Rodh",
        "colab_type": "code",
        "colab": {}
      },
      "source": [
        "def check(result_list):\n",
        "    check_set = set(result_list)\n",
        "    true,false = 0,0\n",
        "    for elt in check_set:\n",
        "        if elt in ground_truth_timestamp_coordinates:\n",
        "            true+=1\n",
        "        else:\n",
        "            false+=1\n",
        "    return true, false\n"
      ],
      "execution_count": 34,
      "outputs": []
    },
    {
      "cell_type": "code",
      "metadata": {
        "id": "qhBeB40ZSXOg",
        "colab_type": "code",
        "colab": {
          "base_uri": "https://localhost:8080/",
          "height": 227
        },
        "outputId": "c248a8ee-5fe0-4af9-a0bb-963bcd3540ab"
      },
      "source": [
        "epsilon_list = [2.5,3,3.5,4,4.5,5,5.5,6,6.5,7]\n",
        "run_number = [1]\n",
        "final_result_dictionary1_list = []\n",
        "for i in range(1):\n",
        "    final_result_dictionary1 = {}\n",
        "    for eps in epsilon_list:\n",
        "        for run in run_number:\n",
        "            check_list = driver_code(width, depth,seed, eps, run)\n",
        "            final_result_dictionary1[(eps,run)] = check(check_list)\n",
        "    final_result_dictionary1_list.append(final_result_dictionary1)\n",
        "    print(final_result_dictionary1)\n",
        "final_result_dictionary1_list"
      ],
      "execution_count": 39,
      "outputs": [
        {
          "output_type": "stream",
          "text": [
            "{(2.5, 1): (148, 72), (3, 1): (150, 67), (3.5, 1): (158, 71), (4, 1): (156, 83), (4.5, 1): (140, 81), (5, 1): (138, 57), (5.5, 1): (121, 61), (6, 1): (132, 52), (6.5, 1): (131, 72), (7, 1): (135, 57)}\n"
          ],
          "name": "stdout"
        },
        {
          "output_type": "execute_result",
          "data": {
            "text/plain": [
              "[{(2.5, 1): (148, 72),\n",
              "  (3, 1): (150, 67),\n",
              "  (3.5, 1): (158, 71),\n",
              "  (4, 1): (156, 83),\n",
              "  (4.5, 1): (140, 81),\n",
              "  (5, 1): (138, 57),\n",
              "  (5.5, 1): (121, 61),\n",
              "  (6, 1): (132, 52),\n",
              "  (6.5, 1): (131, 72),\n",
              "  (7, 1): (135, 57)}]"
            ]
          },
          "metadata": {
            "tags": []
          },
          "execution_count": 39
        }
      ]
    },
    {
      "cell_type": "code",
      "metadata": {
        "id": "4uVofscoT3Br",
        "colab_type": "code",
        "colab": {}
      },
      "source": [
        "epsilon_list = [2.5,3,3.5,4,4.5,5,5.5,6,6.5,7]\n",
        "epsilon_list5 = []\n",
        "epsilon_list10 = []\n",
        "for eps in epsilon_list:\n",
        "    epsilon_list5.append(eps/5)\n",
        "    epsilon_list10.append(eps/10)"
      ],
      "execution_count": 40,
      "outputs": []
    },
    {
      "cell_type": "code",
      "metadata": {
        "id": "DpqKlOJ3T6Ae",
        "colab_type": "code",
        "colab": {}
      },
      "source": [
        "width = 150\n",
        "depth = 100\n",
        "run_number = [5]\n",
        "final_result_dictionary5_list = []\n",
        "for i in range(10):\n",
        "    final_result_dictionary5 = {}\n",
        "    for eps in epsilon_list5:\n",
        "        for run in run_number:\n",
        "            check_list = driver_code(width, depth,seed, eps, run)\n",
        "            final_result_dictionary5[(eps,run)] = check(check_list)\n",
        "    final_result_dictionary5_list.append(final_result_dictionary5)\n",
        "    print(final_result_dictionary5)\n",
        "final_result_dictionary5_list"
      ],
      "execution_count": null,
      "outputs": []
    },
    {
      "cell_type": "code",
      "metadata": {
        "id": "y_vef-8rUFIY",
        "colab_type": "code",
        "colab": {
          "base_uri": "https://localhost:8080/",
          "height": 227
        },
        "outputId": "4fd646d7-6def-47e8-8cb3-cffbeea77cc9"
      },
      "source": [
        "width = 150\n",
        "depth = 100\n",
        "run_number = [10]\n",
        "final_result_dictionary10_list = []\n",
        "for i in range(1):\n",
        "    final_result_dictionary10 = {}\n",
        "    for eps in epsilon_list10:\n",
        "        for run in run_number:\n",
        "            check_list = driver_code(width, depth,seed, eps, run)\n",
        "            final_result_dictionary10[(eps,run)] = check(check_list)\n",
        "    final_result_dictionary10_list.append(final_result_dictionary10)\n",
        "    print(final_result_dictionary10)\n",
        "final_result_dictionary10_list    "
      ],
      "execution_count": 41,
      "outputs": [
        {
          "output_type": "stream",
          "text": [
            "{(0.25, 10): (156, 77), (0.3, 10): (151, 82), (0.35, 10): (152, 80), (0.4, 10): (137, 68), (0.45, 10): (157, 78), (0.5, 10): (143, 78), (0.55, 10): (135, 72), (0.6, 10): (163, 72), (0.65, 10): (141, 72), (0.7, 10): (174, 72)}\n"
          ],
          "name": "stdout"
        },
        {
          "output_type": "execute_result",
          "data": {
            "text/plain": [
              "[{(0.25, 10): (156, 77),\n",
              "  (0.3, 10): (151, 82),\n",
              "  (0.35, 10): (152, 80),\n",
              "  (0.4, 10): (137, 68),\n",
              "  (0.45, 10): (157, 78),\n",
              "  (0.5, 10): (143, 78),\n",
              "  (0.55, 10): (135, 72),\n",
              "  (0.6, 10): (163, 72),\n",
              "  (0.65, 10): (141, 72),\n",
              "  (0.7, 10): (174, 72)}]"
            ]
          },
          "metadata": {
            "tags": []
          },
          "execution_count": 41
        }
      ]
    }
  ]
}