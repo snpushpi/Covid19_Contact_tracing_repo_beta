{
  "nbformat": 4,
  "nbformat_minor": 0,
  "metadata": {
    "colab": {
      "name": "Generating_graph.ipynb",
      "provenance": [],
      "collapsed_sections": [],
      "authorship_tag": "ABX9TyMn7oQYORur7ONGedcaphe6"
    },
    "kernelspec": {
      "name": "python3",
      "display_name": "Python 3"
    }
  },
  "cells": [
    {
      "cell_type": "code",
      "metadata": {
        "id": "pLt5mbuZtiDx",
        "colab_type": "code",
        "colab": {}
      },
      "source": [
        "eps_3= {'correct': {(13, 1), (13, 2), (14, 5), (11, 5), (16, 4), (14, 4), (13, 4), (16, 3), (12, 10), (18, 4), (13, 5), (14, 3), (14, 1), (17, 3), (12, 4), (12, 11), (15, 4), (8, 6), (15, 5), (11, 6)}, 'false': {(14, 10), (16, 10), (16, 9), (18, 5), (7, 6), (16, 1), (15, 11), (19, 1), (13, 10), (14, 8)}, 'missed': {(16, 5), (17, 4), (18, 3), (15, 3), (10, 6), (16, 2), (14, 6), (12, 5), (15, 6), (13, 0), (14, 2), (9, 6), (12, 3), (13, 11)}}\n",
        "eps_3half= {'correct': {(14, 4), (13, 4), (16, 2), (12, 5), (17, 3), (15, 5), (14, 5), (11, 5), (16, 3), (14, 1), (12, 10), (13, 2), (11, 6), (16, 4), (15, 3), (12, 11), (14, 2), (9, 6), (17, 4), (13, 1), (18, 3), (12, 4), (14, 3), (13, 0)}, 'false': {(17, 5), (18, 0), (16, 10), (18, 5), (7, 6), (16, 8), (16, 1), (19, 2), (15, 7), (19, 1), (13, 10), (14, 8)}, 'missed': {(16, 5), (10, 6), (18, 4), (13, 5), (14, 6), (15, 6), (15, 4), (8, 6), (12, 3), (13, 11)}}\n",
        "eps_4= {'correct': {(14, 4), (13, 4), (10, 6), (18, 4), (17, 3), (15, 5), (14, 5), (11, 5), (16, 3), (15, 4), (12, 10), (8, 6), (13, 2), (11, 6), (16, 4), (15, 3), (14, 6), (12, 11), (14, 2), (9, 6), (13, 1), (16, 5), (18, 3), (13, 5), (12, 4), (14, 3), (13, 0)}, 'false': {(18, 0), (17, 5), (16, 10), (16, 9), (18, 5), (7, 6), (19, 2), (19, 1), (13, 10), (16, 7)}, 'missed': {(17, 4), (16, 2), (12, 5), (14, 1), (15, 6), (12, 3), (13, 11)}}\n",
        "eps_4half= {'correct': {(14, 4), (13, 4), (12, 5), (17, 3), (15, 5), (14, 5), (11, 5), (16, 3), (14, 1), (15, 4), (12, 10), (8, 6), (13, 2), (11, 6), (16, 4), (15, 3), (12, 11), (14, 2), (9, 6), (13, 1), (16, 5), (18, 3), (13, 5), (12, 4), (14, 3), (13, 0)}, 'false': {(16, 10), (18, 5), (7, 6), (17, 0), (16, 0), (19, 1), (13, 10), (16, 7)}, 'missed': {(17, 4), (10, 6), (18, 4), (16, 2), (14, 6), (15, 6), (12, 3), (13, 11)}}\n",
        "eps_5= {'correct': {(14, 4), (13, 4), (18, 4), (16, 2), (12, 5), (17, 3), (15, 5), (14, 5), (11, 5), (16, 3), (15, 4), (12, 10), (8, 6), (13, 2), (11, 6), (16, 4), (15, 3), (12, 11), (14, 2), (9, 6), (17, 4), (13, 1), (18, 3), (13, 5), (12, 4), (14, 3), (13, 0)}, 'false': {(16, 11), (16, 9), (18, 5), (7, 6), (17, 0), (19, 1)}, 'missed': {(16, 5), (10, 6), (14, 6), (14, 1), (15, 6), (12, 3), (13, 11)}}\n",
        "eps_5half= {'correct': {(14, 4), (13, 4), (17, 3), (15, 5), (14, 5), (11, 5), (16, 3), (14, 1), (15, 4), (12, 10), (8, 6), (13, 2), (11, 6), (16, 4), (15, 3), (12, 11), (14, 2), (13, 1), (18, 3), (13, 5), (12, 4), (14, 3), (13, 0)}, 'false': {(17, 5), (16, 9), (18, 5), (7, 6), (19, 5), (14, 9), (14, 8), (16, 7)}, 'missed': {(16, 5), (17, 4), (10, 6), (18, 4), (16, 2), (14, 6), (12, 5), (15, 6), (9, 6), (12, 3), (13, 11)}}\n",
        "eps_6 ={'correct': {(14, 4), (13, 4), (12, 5), (17, 3), (15, 5), (14, 5), (11, 5), (16, 3), (14, 1), (15, 4), (12, 10), (8, 6), (13, 2), (11, 6), (16, 4), (15, 3), (12, 11), (14, 2), (9, 6), (13, 1), (18, 3), (13, 5), (12, 4), (14, 3), (13, 0)}, 'false': {(17, 5), (16, 10), (18, 5), (7, 6), (15, 11), (19, 1), (14, 8), (16, 7)}, 'missed': {(16, 5), (17, 4), (10, 6), (18, 4), (16, 2), (14, 6), (15, 6), (12, 3), (13, 11)}}\n",
        "\n"
      ],
      "execution_count": 3,
      "outputs": []
    },
    {
      "cell_type": "code",
      "metadata": {
        "id": "Elm6-kVyxCul",
        "colab_type": "code",
        "colab": {
          "base_uri": "https://localhost:8080/",
          "height": 34
        },
        "outputId": "5b1f4b75-ea13-4370-a2eb-86bf93b3d685"
      },
      "source": [
        "len(eps_3['correct']),len(eps_3['false']),len(eps_3['missed'])"
      ],
      "execution_count": 6,
      "outputs": [
        {
          "output_type": "execute_result",
          "data": {
            "text/plain": [
              "(20, 10, 14)"
            ]
          },
          "metadata": {
            "tags": []
          },
          "execution_count": 6
        }
      ]
    },
    {
      "cell_type": "code",
      "metadata": {
        "id": "M_WRG-KzxVQt",
        "colab_type": "code",
        "colab": {
          "base_uri": "https://localhost:8080/",
          "height": 34
        },
        "outputId": "4293fdb2-ef36-4e98-d3a3-c21aa319a352"
      },
      "source": [
        "len(eps_3half['correct']),len(eps_3half['false']),len(eps_3half['missed'])"
      ],
      "execution_count": 8,
      "outputs": [
        {
          "output_type": "execute_result",
          "data": {
            "text/plain": [
              "(24, 12, 10)"
            ]
          },
          "metadata": {
            "tags": []
          },
          "execution_count": 8
        }
      ]
    },
    {
      "cell_type": "code",
      "metadata": {
        "id": "f6EhtB8Bxo8N",
        "colab_type": "code",
        "colab": {
          "base_uri": "https://localhost:8080/",
          "height": 34
        },
        "outputId": "7af925fb-b649-47d7-d78e-920cfc58b036"
      },
      "source": [
        "len(eps_4['correct']),len(eps_4['false']),len(eps_4['missed'])"
      ],
      "execution_count": 9,
      "outputs": [
        {
          "output_type": "execute_result",
          "data": {
            "text/plain": [
              "(27, 10, 7)"
            ]
          },
          "metadata": {
            "tags": []
          },
          "execution_count": 9
        }
      ]
    },
    {
      "cell_type": "code",
      "metadata": {
        "id": "9bbi3xulx0PE",
        "colab_type": "code",
        "colab": {
          "base_uri": "https://localhost:8080/",
          "height": 34
        },
        "outputId": "200ce17c-11aa-487c-9be0-b4055f35a26b"
      },
      "source": [
        "len(eps_4half['correct']),len(eps_4half['false']),len(eps_4half['missed'])"
      ],
      "execution_count": 10,
      "outputs": [
        {
          "output_type": "execute_result",
          "data": {
            "text/plain": [
              "(26, 8, 8)"
            ]
          },
          "metadata": {
            "tags": []
          },
          "execution_count": 10
        }
      ]
    },
    {
      "cell_type": "code",
      "metadata": {
        "id": "He05uV3px_eO",
        "colab_type": "code",
        "colab": {
          "base_uri": "https://localhost:8080/",
          "height": 34
        },
        "outputId": "ba76d9a0-0200-46c0-b171-acbd7b652da5"
      },
      "source": [
        "len(eps_5['correct']),len(eps_5['false']),len(eps_5['missed'])"
      ],
      "execution_count": 11,
      "outputs": [
        {
          "output_type": "execute_result",
          "data": {
            "text/plain": [
              "(27, 6, 7)"
            ]
          },
          "metadata": {
            "tags": []
          },
          "execution_count": 11
        }
      ]
    },
    {
      "cell_type": "code",
      "metadata": {
        "id": "nlB76yYYyfkg",
        "colab_type": "code",
        "colab": {
          "base_uri": "https://localhost:8080/",
          "height": 34
        },
        "outputId": "856bc3b6-7aa5-4766-fff6-43262482a223"
      },
      "source": [
        "len(eps_5half['correct']),len(eps_5half['false']),len(eps_5half['missed'])"
      ],
      "execution_count": 13,
      "outputs": [
        {
          "output_type": "execute_result",
          "data": {
            "text/plain": [
              "(23, 8, 11)"
            ]
          },
          "metadata": {
            "tags": []
          },
          "execution_count": 13
        }
      ]
    },
    {
      "cell_type": "code",
      "metadata": {
        "id": "XvMqAjiGyNbL",
        "colab_type": "code",
        "colab": {
          "base_uri": "https://localhost:8080/",
          "height": 34
        },
        "outputId": "92b0f80e-1867-4351-9fa0-2d3a2377040b"
      },
      "source": [
        "len(eps_6['correct']),len(eps_6['false']),len(eps_6['missed'])"
      ],
      "execution_count": 12,
      "outputs": [
        {
          "output_type": "execute_result",
          "data": {
            "text/plain": [
              "(25, 8, 9)"
            ]
          },
          "metadata": {
            "tags": []
          },
          "execution_count": 12
        }
      ]
    },
    {
      "cell_type": "code",
      "metadata": {
        "id": "W10PJqkMzgOW",
        "colab_type": "code",
        "colab": {}
      },
      "source": [
        ""
      ],
      "execution_count": null,
      "outputs": []
    },
    {
      "cell_type": "markdown",
      "metadata": {
        "id": "xgIo0--LzqkT",
        "colab_type": "text"
      },
      "source": [
        "One thing to notice here is that the summation of correct signal and missed signals is always constant since that just indicates the number of elements of original intersection path and that is always supposed to be constatn for a particular path set of querier and infected patient. So while making the graph, we are just showing the false signals and correct signals.\n"
      ]
    },
    {
      "cell_type": "code",
      "metadata": {
        "id": "priWibvDwjqB",
        "colab_type": "code",
        "colab": {}
      },
      "source": [
        "import matplotlib as mpl\n",
        "import matplotlib.pyplot as plt"
      ],
      "execution_count": null,
      "outputs": []
    },
    {
      "cell_type": "code",
      "metadata": {
        "id": "PmaQ2JrkwUPw",
        "colab_type": "code",
        "colab": {}
      },
      "source": [
        "%matplotlib inline"
      ],
      "execution_count": 2,
      "outputs": []
    },
    {
      "cell_type": "code",
      "metadata": {
        "id": "pBvMy9B0wV9z",
        "colab_type": "code",
        "colab": {
          "base_uri": "https://localhost:8080/",
          "height": 296
        },
        "outputId": "4581bb5a-762a-4f43-e011-b13ff071fd01"
      },
      "source": [
        "epsilon = [3,3.5,4,4.5,5,5.5,6]\n",
        "number_of_correct_signals = [20,24,27,26,27,23,25]\n",
        "number_of_fake_signals = [10,12,10,8,6,8,8]\n",
        "fig = plt.figure()\n",
        "plt.clf()\n",
        "plt.xlabel('Epsilon')\n",
        "plt.ylabel('Number of Signals')\n",
        "plt.plot(epsilon, number_of_correct_signals,'b', label = 'Number of Correct Signals')\n",
        "plt.plot(epsilon, number_of_fake_signals,'r', label = 'Number of False Signals')\n",
        "plt.legend()"
      ],
      "execution_count": 26,
      "outputs": [
        {
          "output_type": "execute_result",
          "data": {
            "text/plain": [
              "<matplotlib.legend.Legend at 0x7f376b436898>"
            ]
          },
          "metadata": {
            "tags": []
          },
          "execution_count": 26
        },
        {
          "output_type": "display_data",
          "data": {
            "image/png": "[encoded data removed]",
            "text/plain": [
              "<Figure size 432x288 with 1 Axes>"
            ]
          },
          "metadata": {
            "tags": [],
            "needs_background": "light"
          }
        }
      ]
    },
    {
      "cell_type": "code",
      "metadata": {
        "id": "261sANjo8UYU",
        "colab_type": "code",
        "colab": {}
      },
      "source": [
        "fig.savefig('my_figure.png')"
      ],
      "execution_count": 27,
      "outputs": []
    },
    {
      "cell_type": "code",
      "metadata": {
        "id": "HEZc3dX38bkO",
        "colab_type": "code",
        "colab": {
          "base_uri": "https://localhost:8080/",
          "height": 305
        },
        "outputId": "49d9bb14-85b5-413e-d516-74b6d22abaa3"
      },
      "source": [
        "from IPython.display import Image\n",
        "Image('my_figure.png')"
      ],
      "execution_count": 28,
      "outputs": [
        {
          "output_type": "execute_result",
          "data": {
            "image/png": "[encoded data removed]",
            "text/plain": [
              "<IPython.core.display.Image object>"
            ]
          },
          "metadata": {
            "tags": []
          },
          "execution_count": 28
        }
      ]
    }
  ]
}