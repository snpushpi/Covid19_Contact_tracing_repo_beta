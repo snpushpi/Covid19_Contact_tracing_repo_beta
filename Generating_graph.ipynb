{
  "nbformat": 4,
  "nbformat_minor": 0,
  "metadata": {
    "colab": {
      "name": "Generating_graph.ipynb",
      "provenance": [],
      "collapsed_sections": [],
      "authorship_tag": "ABX9TyNy5PdoSFzSXLthbNawka9l",
      "include_colab_link": true
    },
    "kernelspec": {
      "name": "python3",
      "display_name": "Python 3"
    }
  },
  "cells": [
    {
      "cell_type": "markdown",
      "metadata": {
        "id": "view-in-github",
        "colab_type": "text"
      },
      "source": [
        "<a href=\"https://colab.research.google.com/github/snpushpi/Covid19_Contact_tracing_repo_beta/blob/master/Generating_graph.ipynb\" target=\"_parent\"><img src=\"https://colab.research.google.com/assets/colab-badge.svg\" alt=\"Open In Colab\"/></a>"
      ]
    },
    {
      "cell_type": "code",
      "metadata": {
        "id": "pLt5mbuZtiDx",
        "colab_type": "code",
        "colab": {}
      },
      "source": [
        "eps_3= {'correct': {(13, 1), (13, 2), (14, 5), (11, 5), (16, 4), (14, 4), (13, 4), (16, 3), (12, 10), (18, 4), (13, 5), (14, 3), (14, 1), (17, 3), (12, 4), (12, 11), (15, 4), (8, 6), (15, 5), (11, 6)}, 'false': {(14, 10), (16, 10), (16, 9), (18, 5), (7, 6), (16, 1), (15, 11), (19, 1), (13, 10), (14, 8)}, 'missed': {(16, 5), (17, 4), (18, 3), (15, 3), (10, 6), (16, 2), (14, 6), (12, 5), (15, 6), (13, 0), (14, 2), (9, 6), (12, 3), (13, 11)}}\n",
        "eps_3half= {'correct': {(14, 4), (13, 4), (16, 2), (12, 5), (17, 3), (15, 5), (14, 5), (11, 5), (16, 3), (14, 1), (12, 10), (13, 2), (11, 6), (16, 4), (15, 3), (12, 11), (14, 2), (9, 6), (17, 4), (13, 1), (18, 3), (12, 4), (14, 3), (13, 0)}, 'false': {(17, 5), (18, 0), (16, 10), (18, 5), (7, 6), (16, 8), (16, 1), (19, 2), (15, 7), (19, 1), (13, 10), (14, 8)}, 'missed': {(16, 5), (10, 6), (18, 4), (13, 5), (14, 6), (15, 6), (15, 4), (8, 6), (12, 3), (13, 11)}}\n",
        "eps_4= {'correct': {(14, 4), (13, 4), (10, 6), (18, 4), (17, 3), (15, 5), (14, 5), (11, 5), (16, 3), (15, 4), (12, 10), (8, 6), (13, 2), (11, 6), (16, 4), (15, 3), (14, 6), (12, 11), (14, 2), (9, 6), (13, 1), (16, 5), (18, 3), (13, 5), (12, 4), (14, 3), (13, 0)}, 'false': {(18, 0), (17, 5), (16, 10), (16, 9), (18, 5), (7, 6), (19, 2), (19, 1), (13, 10), (16, 7)}, 'missed': {(17, 4), (16, 2), (12, 5), (14, 1), (15, 6), (12, 3), (13, 11)}}\n",
        "eps_4half= {'correct': {(14, 4), (13, 4), (12, 5), (17, 3), (15, 5), (14, 5), (11, 5), (16, 3), (14, 1), (15, 4), (12, 10), (8, 6), (13, 2), (11, 6), (16, 4), (15, 3), (12, 11), (14, 2), (9, 6), (13, 1), (16, 5), (18, 3), (13, 5), (12, 4), (14, 3), (13, 0)}, 'false': {(16, 10), (18, 5), (7, 6), (17, 0), (16, 0), (19, 1), (13, 10), (16, 7)}, 'missed': {(17, 4), (10, 6), (18, 4), (16, 2), (14, 6), (15, 6), (12, 3), (13, 11)}}\n",
        "eps_5= {'correct': {(14, 4), (13, 4), (18, 4), (16, 2), (12, 5), (17, 3), (15, 5), (14, 5), (11, 5), (16, 3), (15, 4), (12, 10), (8, 6), (13, 2), (11, 6), (16, 4), (15, 3), (12, 11), (14, 2), (9, 6), (17, 4), (13, 1), (18, 3), (13, 5), (12, 4), (14, 3), (13, 0)}, 'false': {(16, 11), (16, 9), (18, 5), (7, 6), (17, 0), (19, 1)}, 'missed': {(16, 5), (10, 6), (14, 6), (14, 1), (15, 6), (12, 3), (13, 11)}}\n",
        "eps_5half= {'correct': {(14, 4), (13, 4), (17, 3), (15, 5), (14, 5), (11, 5), (16, 3), (14, 1), (15, 4), (12, 10), (8, 6), (13, 2), (11, 6), (16, 4), (15, 3), (12, 11), (14, 2), (13, 1), (18, 3), (13, 5), (12, 4), (14, 3), (13, 0)}, 'false': {(17, 5), (16, 9), (18, 5), (7, 6), (19, 5), (14, 9), (14, 8), (16, 7)}, 'missed': {(16, 5), (17, 4), (10, 6), (18, 4), (16, 2), (14, 6), (12, 5), (15, 6), (9, 6), (12, 3), (13, 11)}}\n",
        "eps_6 ={'correct': {(14, 4), (13, 4), (12, 5), (17, 3), (15, 5), (14, 5), (11, 5), (16, 3), (14, 1), (15, 4), (12, 10), (8, 6), (13, 2), (11, 6), (16, 4), (15, 3), (12, 11), (14, 2), (9, 6), (13, 1), (18, 3), (13, 5), (12, 4), (14, 3), (13, 0)}, 'false': {(17, 5), (16, 10), (18, 5), (7, 6), (15, 11), (19, 1), (14, 8), (16, 7)}, 'missed': {(16, 5), (17, 4), (10, 6), (18, 4), (16, 2), (14, 6), (15, 6), (12, 3), (13, 11)}}\n",
        "\n"
      ],
      "execution_count": null,
      "outputs": []
    },
    {
      "cell_type": "code",
      "metadata": {
        "id": "GkBarYsBrXlw",
        "colab_type": "code",
        "colab": {
          "base_uri": "https://localhost:8080/",
          "height": 175
        },
        "outputId": "a9f7ce6f-71f7-401c-a7aa-3113478567b5"
      },
      "source": [
        "pip install pyplot-themes"
      ],
      "execution_count": null,
      "outputs": [
        {
          "output_type": "stream",
          "text": [
            "Requirement already satisfied: pyplot-themes in /usr/local/lib/python3.6/dist-packages (0.2.2)\n",
            "Requirement already satisfied: matplotlib in /usr/local/lib/python3.6/dist-packages (from pyplot-themes) (3.2.2)\n",
            "Requirement already satisfied: numpy>=1.11 in /usr/local/lib/python3.6/dist-packages (from matplotlib->pyplot-themes) (1.18.5)\n",
            "Requirement already satisfied: pyparsing!=2.0.4,!=2.1.2,!=2.1.6,>=2.0.1 in /usr/local/lib/python3.6/dist-packages (from matplotlib->pyplot-themes) (2.4.7)\n",
            "Requirement already satisfied: kiwisolver>=1.0.1 in /usr/local/lib/python3.6/dist-packages (from matplotlib->pyplot-themes) (1.2.0)\n",
            "Requirement already satisfied: cycler>=0.10 in /usr/local/lib/python3.6/dist-packages (from matplotlib->pyplot-themes) (0.10.0)\n",
            "Requirement already satisfied: python-dateutil>=2.1 in /usr/local/lib/python3.6/dist-packages (from matplotlib->pyplot-themes) (2.8.1)\n",
            "Requirement already satisfied: six in /usr/local/lib/python3.6/dist-packages (from cycler>=0.10->matplotlib->pyplot-themes) (1.12.0)\n"
          ],
          "name": "stdout"
        }
      ]
    },
    {
      "cell_type": "code",
      "metadata": {
        "id": "SMTrtJnirc8M",
        "colab_type": "code",
        "colab": {}
      },
      "source": [
        ""
      ],
      "execution_count": null,
      "outputs": []
    },
    {
      "cell_type": "code",
      "metadata": {
        "id": "Elm6-kVyxCul",
        "colab_type": "code",
        "colab": {
          "base_uri": "https://localhost:8080/",
          "height": 34
        },
        "outputId": "eb4ddfbe-379f-445f-e207-f4d972ef8ff6"
      },
      "source": [
        "len(eps_3['correct']),len(eps_3['false']),len(eps_3['missed'])"
      ],
      "execution_count": null,
      "outputs": [
        {
          "output_type": "execute_result",
          "data": {
            "text/plain": [
              "(20, 10, 14)"
            ]
          },
          "metadata": {
            "tags": []
          },
          "execution_count": 2
        }
      ]
    },
    {
      "cell_type": "code",
      "metadata": {
        "id": "M_WRG-KzxVQt",
        "colab_type": "code",
        "colab": {
          "base_uri": "https://localhost:8080/",
          "height": 34
        },
        "outputId": "8fab9c60-9e2f-492a-dac9-9f5ec2ad2200"
      },
      "source": [
        "len(eps_3half['correct']),len(eps_3half['false']),len(eps_3half['missed'])"
      ],
      "execution_count": null,
      "outputs": [
        {
          "output_type": "execute_result",
          "data": {
            "text/plain": [
              "(24, 12, 10)"
            ]
          },
          "metadata": {
            "tags": []
          },
          "execution_count": 3
        }
      ]
    },
    {
      "cell_type": "code",
      "metadata": {
        "id": "f6EhtB8Bxo8N",
        "colab_type": "code",
        "colab": {
          "base_uri": "https://localhost:8080/",
          "height": 34
        },
        "outputId": "48bb6ddb-c982-4683-9ef7-147c4a6c1dc2"
      },
      "source": [
        "len(eps_4['correct']),len(eps_4['false']),len(eps_4['missed'])"
      ],
      "execution_count": null,
      "outputs": [
        {
          "output_type": "execute_result",
          "data": {
            "text/plain": [
              "(27, 10, 7)"
            ]
          },
          "metadata": {
            "tags": []
          },
          "execution_count": 4
        }
      ]
    },
    {
      "cell_type": "code",
      "metadata": {
        "id": "9bbi3xulx0PE",
        "colab_type": "code",
        "colab": {
          "base_uri": "https://localhost:8080/",
          "height": 34
        },
        "outputId": "200ce17c-11aa-487c-9be0-b4055f35a26b"
      },
      "source": [
        "len(eps_4half['correct']),len(eps_4half['false']),len(eps_4half['missed'])"
      ],
      "execution_count": null,
      "outputs": [
        {
          "output_type": "execute_result",
          "data": {
            "text/plain": [
              "(26, 8, 8)"
            ]
          },
          "metadata": {
            "tags": []
          },
          "execution_count": 10
        }
      ]
    },
    {
      "cell_type": "code",
      "metadata": {
        "id": "He05uV3px_eO",
        "colab_type": "code",
        "colab": {
          "base_uri": "https://localhost:8080/",
          "height": 34
        },
        "outputId": "ba76d9a0-0200-46c0-b171-acbd7b652da5"
      },
      "source": [
        "len(eps_5['correct']),len(eps_5['false']),len(eps_5['missed'])"
      ],
      "execution_count": null,
      "outputs": [
        {
          "output_type": "execute_result",
          "data": {
            "text/plain": [
              "(27, 6, 7)"
            ]
          },
          "metadata": {
            "tags": []
          },
          "execution_count": 11
        }
      ]
    },
    {
      "cell_type": "code",
      "metadata": {
        "id": "nlB76yYYyfkg",
        "colab_type": "code",
        "colab": {
          "base_uri": "https://localhost:8080/",
          "height": 34
        },
        "outputId": "856bc3b6-7aa5-4766-fff6-43262482a223"
      },
      "source": [
        "len(eps_5half['correct']),len(eps_5half['false']),len(eps_5half['missed'])"
      ],
      "execution_count": null,
      "outputs": [
        {
          "output_type": "execute_result",
          "data": {
            "text/plain": [
              "(23, 8, 11)"
            ]
          },
          "metadata": {
            "tags": []
          },
          "execution_count": 13
        }
      ]
    },
    {
      "cell_type": "code",
      "metadata": {
        "id": "XvMqAjiGyNbL",
        "colab_type": "code",
        "colab": {
          "base_uri": "https://localhost:8080/",
          "height": 34
        },
        "outputId": "92b0f80e-1867-4351-9fa0-2d3a2377040b"
      },
      "source": [
        "len(eps_6['correct']),len(eps_6['false']),len(eps_6['missed'])"
      ],
      "execution_count": null,
      "outputs": [
        {
          "output_type": "execute_result",
          "data": {
            "text/plain": [
              "(25, 8, 9)"
            ]
          },
          "metadata": {
            "tags": []
          },
          "execution_count": 12
        }
      ]
    },
    {
      "cell_type": "code",
      "metadata": {
        "id": "W10PJqkMzgOW",
        "colab_type": "code",
        "colab": {}
      },
      "source": [
        ""
      ],
      "execution_count": null,
      "outputs": []
    },
    {
      "cell_type": "markdown",
      "metadata": {
        "id": "xgIo0--LzqkT",
        "colab_type": "text"
      },
      "source": [
        "One thing to notice here is that the summation of correct signal and missed signals is always constant since that just indicates the number of elements of original intersection path and that is always supposed to be constatn for a particular path set of querier and infected patient. So while making the graph, we are just showing the false signals and correct signals.\n"
      ]
    },
    {
      "cell_type": "code",
      "metadata": {
        "id": "priWibvDwjqB",
        "colab_type": "code",
        "colab": {}
      },
      "source": [
        "import matplotlib as mpl\n",
        "import matplotlib.pyplot as plt\n",
        "from cycler import cycler\n",
        "plt.style.use('ggplot')"
      ],
      "execution_count": null,
      "outputs": []
    },
    {
      "cell_type": "code",
      "metadata": {
        "id": "_ykxHD1frC9z",
        "colab_type": "code",
        "colab": {}
      },
      "source": [
        "#Correctness calculation.\n",
        "#we have to penalize it for missing signals too."
      ],
      "execution_count": null,
      "outputs": []
    },
    {
      "cell_type": "code",
      "metadata": {
        "id": "60g69-CErWjt",
        "colab_type": "code",
        "colab": {}
      },
      "source": [
        ""
      ],
      "execution_count": null,
      "outputs": []
    },
    {
      "cell_type": "code",
      "metadata": {
        "id": "PmaQ2JrkwUPw",
        "colab_type": "code",
        "colab": {}
      },
      "source": [
        "%matplotlib inline"
      ],
      "execution_count": null,
      "outputs": []
    },
    {
      "cell_type": "code",
      "metadata": {
        "id": "pBvMy9B0wV9z",
        "colab_type": "code",
        "colab": {
          "base_uri": "https://localhost:8080/",
          "height": 735
        },
        "outputId": "95ab2240-2298-4523-b343-9f4a581b49b4"
      },
      "source": [
        "epsilon = [3,3.5,4,4.5,5,5.5,6]\n",
        "number_of_correct_signals = [20,24,27,26,27,23,25]\n",
        "number_of_fake_signals = [10,12,10,8,6,8,8]\n",
        "fig = plt.figure()\n",
        "plt.clf()\n",
        "plt.xlabel('Epsilon')\n",
        "plt.ylabel('Number of Signals')\n",
        "plt.plot(epsilon, number_of_correct_signals,'b', label = 'Number of Correct Signals')\n",
        "plt.plot(epsilon, number_of_fake_signals,'r', label = 'False Alarm')\n",
        "plt.scatter(epsilon, number_of_correct_signals)\n",
        "plt.scatter(epsilon,number_of_fake_signals,c='r')\n",
        "mpl.rcParams['lines.linewidth'] = 2\n",
        "mpl.rcParams['boxplot.showbox'] = True\n",
        "mpl.rcParams['axes.titlesize']=24\n",
        "mpl.rcParams['axes.labelsize']=20\n",
        "mpl.rcParams['lines.linewidth']=2\n",
        "mpl.rcParams['xtick.labelsize']=10\n",
        "mpl.rcParams['ytick.labelsize']=10\n",
        "#mpl.rcParams.keys()\n",
        "plt.style.use(['seaborn-bright'])\n",
        "plt.legend()\n",
        "plt.style.available\n"
      ],
      "execution_count": null,
      "outputs": [
        {
          "output_type": "execute_result",
          "data": {
            "text/plain": [
              "['Solarize_Light2',\n",
              " '_classic_test_patch',\n",
              " 'bmh',\n",
              " 'classic',\n",
              " 'dark_background',\n",
              " 'fast',\n",
              " 'fivethirtyeight',\n",
              " 'ggplot',\n",
              " 'grayscale',\n",
              " 'seaborn',\n",
              " 'seaborn-bright',\n",
              " 'seaborn-colorblind',\n",
              " 'seaborn-dark',\n",
              " 'seaborn-dark-palette',\n",
              " 'seaborn-darkgrid',\n",
              " 'seaborn-deep',\n",
              " 'seaborn-muted',\n",
              " 'seaborn-notebook',\n",
              " 'seaborn-paper',\n",
              " 'seaborn-pastel',\n",
              " 'seaborn-poster',\n",
              " 'seaborn-talk',\n",
              " 'seaborn-ticks',\n",
              " 'seaborn-white',\n",
              " 'seaborn-whitegrid',\n",
              " 'tableau-colorblind10']"
            ]
          },
          "metadata": {
            "tags": []
          },
          "execution_count": 48
        },
        {
          "output_type": "display_data",
          "data": {
            "image/png": "[encoded data removed]",
            "text/plain": [
              "<Figure size 432x288 with 1 Axes>"
            ]
          },
          "metadata": {
            "tags": []
          }
        }
      ]
    },
    {
      "cell_type": "code",
      "metadata": {
        "id": "261sANjo8UYU",
        "colab_type": "code",
        "colab": {}
      },
      "source": [
        "fig.savefig('my_figure.png')"
      ],
      "execution_count": null,
      "outputs": []
    },
    {
      "cell_type": "code",
      "metadata": {
        "id": "HEZc3dX38bkO",
        "colab_type": "code",
        "colab": {
          "base_uri": "https://localhost:8080/",
          "height": 305
        },
        "outputId": "9719e622-dd1d-404b-a2fc-aff807b1ae9c"
      },
      "source": [
        "from IPython.display import Image\n",
        "Image('my_figure.png')"
      ],
      "execution_count": null,
      "outputs": [
        {
          "output_type": "execute_result",
          "data": {
            "image/png": "[encoded data removed]",
            "text/plain": [
              "<IPython.core.display.Image object>"
            ]
          },
          "metadata": {
            "tags": []
          },
          "execution_count": 51
        }
      ]
    },
    {
      "cell_type": "code",
      "metadata": {
        "id": "CR7GQ3zTKEzF",
        "colab_type": "code",
        "colab": {}
      },
      "source": [
        "#while plotting percentage graph, we will be considering two ways of plotting it, since measuring accuracy when we have 3 different types of signals\n",
        "#can't be done in one way, so we need two ways, one is measuring how much of our generated graph is correct(it gives an indication of \n",
        "#percentage of fake signals too) and how much of the original signal we we were able to catch(so it also gives an indication of missed \n",
        "#signals).\n",
        "#for first type of accuracy percentage of correct signals in our path = (num_of_correct_signals/number of correct+fake_signals)*100%\n",
        "#for second type of accuracy percentage of our correctness in the original path = (num_of_correct_signals/number_of_correct_signal+missed_signals)*100%"
      ],
      "execution_count": null,
      "outputs": []
    },
    {
      "cell_type": "code",
      "metadata": {
        "id": "3urf0nOdLb4O",
        "colab_type": "code",
        "colab": {
          "base_uri": "https://localhost:8080/",
          "height": 302
        },
        "outputId": "6adb599c-1cdf-42a6-f8a7-1a0cece80f6d"
      },
      "source": [
        "first_type_of_accuracy = [66.66,66.66,72.97,76.47,81.81,74.19,75.75]\n",
        "second_type_of_accuracy = [58.82,70.58,79.41,76.47,79.41,67.64,73.52]\n",
        "epsilon=[3,3.5,4,4.5,5,5.5,6]\n",
        "fig = plt.figure()\n",
        "plt.clf()\n",
        "plt.xlabel('Epsilon')\n",
        "plt.ylabel('Accuracy')\n",
        "plt.plot(epsilon, first_type_of_accuracy,'b', label = 'Correct signal percentage in predicted path')\n",
        "plt.plot(epsilon, second_type_of_accuracy,'r', label = 'Correct signal of our path in the original path')\n",
        "plt.scatter(epsilon, first_type_of_accuracy,c='b')\n",
        "plt.scatter(epsilon,second_type_of_accuracy,c='r')\n",
        "mpl.rcParams['lines.linewidth'] = 2\n",
        "mpl.rcParams['boxplot.showbox'] = True\n",
        "mpl.rcParams['axes.titlesize']=24\n",
        "mpl.rcParams['axes.labelsize']=20\n",
        "mpl.rcParams['lines.linewidth']=2\n",
        "mpl.rcParams['xtick.labelsize']=10\n",
        "mpl.rcParams['ytick.labelsize']=10\n",
        "#mpl.rcParams.keys()\n",
        "plt.style.use(['seaborn-bright'])\n",
        "plt.legend()"
      ],
      "execution_count": 52,
      "outputs": [
        {
          "output_type": "execute_result",
          "data": {
            "text/plain": [
              "<matplotlib.legend.Legend at 0x7fea6c88eac8>"
            ]
          },
          "metadata": {
            "tags": []
          },
          "execution_count": 52
        },
        {
          "output_type": "display_data",
          "data": {
            "image/png": "[encoded data removed]",
            "text/plain": [
              "<Figure size 432x288 with 1 Axes>"
            ]
          },
          "metadata": {
            "tags": []
          }
        }
      ]
    }
  ]
}