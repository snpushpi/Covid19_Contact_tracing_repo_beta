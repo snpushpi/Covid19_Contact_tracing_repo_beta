{
  "nbformat": 4,
  "nbformat_minor": 0,
  "metadata": {
    "colab": {
      "name": "Final_Data_Analysis_Part3.ipynb",
      "provenance": [],
      "collapsed_sections": [],
      "authorship_tag": "ABX9TyMkcCFsGTBin5NlsAmzqes0",
      "include_colab_link": true
    },
    "kernelspec": {
      "name": "python3",
      "display_name": "Python 3"
    }
  },
  "cells": [
    {
      "cell_type": "markdown",
      "metadata": {
        "id": "view-in-github",
        "colab_type": "text"
      },
      "source": [
        "<a href=\"https://colab.research.google.com/github/snpushpi/Covid19_Contact_tracing_repo_beta/blob/master/Final_Data_Analysis_Part3.ipynb\" target=\"_parent\"><img src=\"https://colab.research.google.com/assets/colab-badge.svg\" alt=\"Open In Colab\"/></a>"
      ]
    },
    {
      "cell_type": "markdown",
      "metadata": {
        "id": "ts8XUNGJbPMZ",
        "colab_type": "text"
      },
      "source": [
        "We are going to create a bunch of box plots, for when the run_number of algorithm is 1, run number of algorithm is 10 and run number of algorithm is 5 and we will collect the data for 10 such points to see how the result truly varies to show it for sure that we are not cherry picking. So we will have 3 box plots, each with epsilon between 2.5 and 7, collecting data for 10 runs of algorithm when the run numbers are 1, 5 and 10 respectively "
      ]
    },
    {
      "cell_type": "code",
      "metadata": {
        "id": "Np1dEuhGdU-D",
        "colab_type": "code",
        "colab": {}
      },
      "source": [
        "data_dict = {1:{(2.5, 1): (5, 13),(2.5, 5): (9, 20),(2.5, 10): (10, 23),(3, 1): (5, 17),(3, 5): (7, 19),(3, 10): (11, 23),(3.5, 1): (6, 10),(3.5, 5): (5, 15),(3.5, 10): (12, 12),(4, 1): (5, 8),\n",
        " (4, 5): (8, 7),(4, 10): (8, 15),(4.5, 1): (5, 9),(4.5, 5): (6, 15),(4.5, 10): (9, 10),(5, 1): (6, 7),(5, 5): (4, 9),(5, 10): (7, 12),(5.5, 1): (5, 8),(5.5, 5): (5, 7),\n",
        " (5.5, 10): (5, 13),(6, 1): (0, 6),(6, 5): (2, 12),(6, 10): (3, 10),(6.5, 1): (5, 6),(6.5, 5): (3, 15),(6.5, 10): (3, 5),(7, 1): (2, 8),(7, 5): (4, 7),(7, 10): (2, 7)},\n",
        " 2:{(2.5, 1): (6, 13),(2.5, 5): (7, 20),(2.5, 10): (13, 16),(3, 1): (8, 12),(3, 5): (8, 21),(3, 10): (6, 17),(3.5, 1): (4, 15),(3.5, 5): (6, 18),(3.5, 10): (10, 16),\n",
        " (4, 1): (8, 10),(4, 5): (10, 9),(4, 10): (6, 17),(4.5, 1): (4, 9),(4.5, 5): (4, 10),(4.5, 10): (9, 15),(5, 1): (4, 5),(5, 5): (6, 14),(5, 10): (8, 8),(5.5, 1): (4, 6),\n",
        " (5.5, 5): (6, 11),(5.5, 10): (7, 10),(6, 1): (3, 4),(6, 5): (2, 7),(6, 10): (4, 6),(6.5, 1): (7, 5),(6.5, 5): (6, 6),(6.5, 10): (5, 8),(7, 1): (4, 3),(7, 5): (5, 5),\n",
        " (7, 10): (6, 10)},3:{(2.5, 1): (6, 13),(2.5, 5): (7, 20),(2.5, 10): (13, 16),(3, 1): (8, 12),(3, 5): (8, 21),(3, 10): (6, 17),(3.5, 1): (4, 15),(3.5, 5): (6, 18),\n",
        " (3.5, 10): (10, 16),(4, 1): (8, 10),(4, 5): (10, 9),(4, 10): (6, 17),(4.5, 1): (4, 9),(4.5, 5): (4, 10),(4.5, 10): (9, 15),(5, 1): (4, 5),(5, 5): (6, 14),(5, 10): (8, 8),\n",
        " (5.5, 1): (4, 6),(5.5, 5): (6, 11),(5.5, 10): (7, 10),(6, 1): (3, 4),(6, 5): (2, 7),(6, 10): (4, 6),(6.5, 1): (7, 5),(6.5, 5): (6, 6),(6.5, 10): (5, 8),(7, 1): (4, 3),\n",
        " (7, 5): (5, 5),(7, 10): (6, 10)},4:{(2.5, 1): (6, 13),(2.5, 5): (9, 18),(2.5, 10): (6, 19),(3, 1): (8, 15),(3, 5): (6, 19),(3, 10): (9, 23),(3.5, 1): (6, 15),(3.5, 5): (6, 17),\n",
        " (3.5, 10): (8, 13),(4, 1): (7, 9),(4, 5): (8, 16),(4, 10): (11, 14),(4.5, 1): (7, 7),(4.5, 5): (6, 10),(4.5, 10): (6, 8),(5, 1): (2, 7),(5, 5): (6, 12),(5, 10): (6, 15),\n",
        " (5.5, 1): (5, 6),(5.5, 5): (3, 10),(5.5, 10): (5, 10),(6, 1): (4, 4),(6, 5): (5, 7),(6, 10): (4, 7),(6.5, 1): (2, 2),(6.5, 5): (5, 8),(6.5, 10): (3, 10),(7, 1): (4, 6),\n",
        " (7, 5): (4, 5),(7, 10): (5, 5)},5:{(2.5, 1): (6, 10),(2.5, 5): (8, 16),(2.5, 10): (8, 19),(3, 1): (4, 11),(3, 5): (8, 17),(3, 10): (9, 20),(3.5, 1): (7, 12),(3.5, 5): (9, 18),\n",
        " (3.5, 10): (4, 17),(4, 1): (5, 8),(4, 5): (5, 9),(4, 10): (8, 17),(4.5, 1): (3, 6),(4.5, 5): (10, 18),(4.5, 10): (6, 13),(5, 1): (6, 10),(5, 5): (9, 12),(5, 10): (11, 15),\n",
        " (5.5, 1): (3, 7),(5.5, 5): (8, 12),(5.5, 10): (5, 7),(6, 1): (0, 3),(6, 5): (6, 10),(6, 10): (8, 6),(6.5, 1): (3, 6),(6.5, 5): (4, 7),(6.5, 10): (6, 5),(7, 1): (4, 6),\n",
        " (7, 5): (3, 6),(7, 10): (2, 6)},6:{(2.5, 1): (2, 11),(2.5, 5): (11, 13),(2.5, 10): (9, 25),(3, 1): (6, 10),(3, 5): (11, 21),(3, 10): (8, 21),(3.5, 1): (8, 9),\n",
        " (3.5, 5): (9, 14),(3.5, 10): (5, 25),(4, 1): (4, 7),(4, 5): (9, 11),(4, 10): (8, 14),(4.5, 1): (5, 6),(4.5, 5): (8, 7),(4.5, 10): (9, 16),(5, 1): (5, 5),(5, 5): (4, 13),\n",
        " (5, 10): (7, 18),(5.5, 1): (2, 10),(5.5, 5): (5, 13),(5.5, 10): (4, 11),(6, 1): (3, 9),(6, 5): (7, 8),(6, 10): (4, 7),(6.5, 1): (4, 6),(6.5, 5): (3, 9),(6.5, 10): (3, 9),\n",
        " (7, 1): (2, 2),(7, 5): (4, 4),(7, 10): (6, 11)},7:{(2.5, 1): (8, 9),(2.5, 5): (9, 20),(2.5, 10): (10, 19),(3, 1): (3, 9),(3, 5): (7, 19),(3, 10): (9, 19),(3.5, 1): (5, 8),\n",
        " (3.5, 5): (5, 15),(3.5, 10): (7, 16),(4, 1): (6, 6),(4, 5): (8, 18),(4, 10): (8, 14),(4.5, 1): (6, 7),(4.5, 5): (6, 13),(4.5, 10): (10, 14),(5, 1): (7, 8),(5, 5): (4, 9),\n",
        " (5, 10): (9, 8),(5.5, 1): (4, 6),(5.5, 5): (8, 10),(5.5, 10): (3, 13),(6, 1): (3, 6),(6, 5): (4, 8),(6, 10): (6, 8),(6.5, 1): (0, 4),(6.5, 5): (3, 6),(6.5, 10): (3, 6),\n",
        " (7, 1): (0, 3),(7, 5): (4, 4),(7, 10): (6, 10)},8:{(2.5, 1): (7, 10),(2.5, 5): (9, 23),(2.5, 10): (10, 17),\n",
        " (3, 1): (5, 11),(3, 5): (10, 20),(3, 10): (8, 21),(3.5, 1): (4, 12),(3.5, 5): (10, 14),(3.5, 10): (8, 24),(4, 1): (4, 9),(4, 5): (5, 15),(4, 10): (9, 21),(4.5, 1): (7, 9),\n",
        " (4.5, 5): (8, 12),(4.5, 10): (8, 10),(5, 1): (4, 8),(5, 5): (4, 9),(5, 10): (9, 11),(5.5, 1): (3, 7),(5.5, 5): (4, 8),(5.5, 10): (5, 13),(6, 1): (2, 5),(6, 5): (4, 7),\n",
        " (6, 10): (3, 8),(6.5, 1): (2, 3),(6.5, 5): (5, 9),(6.5, 10): (4, 5),(7, 1): (1, 9),(7, 5): (1, 10),(7, 10): (1, 9)}, 9: {(2.5, 1): (10, 14),(2.5, 5): (9, 14),(2.5, 10): (14, 18),\n",
        " (3, 1): (7, 12),(3, 5): (9, 20),(3, 10): (11, 21),(3.5, 1): (5, 8),(3.5, 5): (9, 16),(3.5, 10): (7, 14),(4, 1): (7, 11),(4, 5): (5, 12),(4, 10): (7, 9),(4.5, 1): (6, 10),\n",
        " (4.5, 5): (8, 12),(4.5, 10): (10, 21),(5, 1): (6, 6),(5, 5): (6, 9),(5, 10): (5, 6),(5.5, 1): (5, 6),(5.5, 5): (7, 14),(5.5, 10): (4, 12),(6, 1): (7, 4),(6, 5): (8, 6),\n",
        " (6, 10): (9, 10),(6.5, 1): (1, 7),(6.5, 5): (5, 5),(6.5, 10): (4, 9),(7, 1): (4, 2),(7, 5): (3, 5),(7, 10): (4, 2)}\n",
        "}"
      ],
      "execution_count": 37,
      "outputs": []
    },
    {
      "cell_type": "code",
      "metadata": {
        "id": "FgGKGoXC3pUY",
        "colab_type": "code",
        "colab": {}
      },
      "source": [
        "def TPR(tp, fn):\n",
        "    frac = tp/(tp+fn)\n",
        "    return 100*frac"
      ],
      "execution_count": 43,
      "outputs": []
    },
    {
      "cell_type": "code",
      "metadata": {
        "id": "1wuugDQ53sRC",
        "colab_type": "code",
        "colab": {}
      },
      "source": [
        "def FPR(fp, tn):\n",
        "    frac = fp/(fp+tn)\n",
        "    return 100*frac"
      ],
      "execution_count": 44,
      "outputs": []
    },
    {
      "cell_type": "code",
      "metadata": {
        "id": "0fJNrmthB5nZ",
        "colab_type": "code",
        "colab": {}
      },
      "source": [
        "epsilon_list = [2.5,3,3.5,4,4.5,5,5.5,6,6.5,7]\n",
        "run_number = [1,5,10]\n",
        "modified_dict = {}\n",
        "for eps in epsilon_list:\n",
        "    for run in run_number:\n",
        "        modified_dict[(eps,run)]=[]\n",
        "for elt in data_dict:\n",
        "    for element in data_dict[elt]:\n",
        "        modified_dict[element].append(data_dict[elt][element])"
      ],
      "execution_count": 45,
      "outputs": []
    },
    {
      "cell_type": "code",
      "metadata": {
        "id": "PdzmbCQw4-g0",
        "colab_type": "code",
        "colab": {}
      },
      "source": [
        "def fpr_list_generator(group_list):\n",
        "    result_list = []\n",
        "    for elt in group_list:\n",
        "        temp_list = []\n",
        "        for e in elt:\n",
        "            temp_list.append(TPR(e[1],720-14-e[1]))\n",
        "        result_list.append(temp_list)\n",
        "    return result_list\n",
        "        "
      ],
      "execution_count": 56,
      "outputs": []
    },
    {
      "cell_type": "code",
      "metadata": {
        "id": "rWhJcFOh5aF0",
        "colab_type": "code",
        "colab": {}
      },
      "source": [
        "def tpr_list_generator(group_list):\n",
        "    result_list = []\n",
        "    for elt in group_list:\n",
        "        temp_list = []\n",
        "        for e in elt:\n",
        "            temp_list.append(FPR(e[0],14-e[0]))\n",
        "        result_list.append(temp_list)\n",
        "    return result_list\n",
        "        "
      ],
      "execution_count": 55,
      "outputs": []
    },
    {
      "cell_type": "markdown",
      "metadata": {
        "id": "80h2MHHvJqtY",
        "colab_type": "text"
      },
      "source": [
        "Plan of boxplots, 3 groups in each part, each for run number 1, 5 and 10 and total number of groups is 10 for 10 epsilons and finally for each group we have a list of 3 lists having the true positive rate(first graph and fpr in the second graph"
      ]
    },
    {
      "cell_type": "markdown",
      "metadata": {
        "id": "t6q7XJWaMMFb",
        "colab_type": "text"
      },
      "source": [
        "Further Data Analysis"
      ]
    },
    {
      "cell_type": "code",
      "metadata": {
        "id": "Fg5sPUelMZ77",
        "colab_type": "code",
        "colab": {}
      },
      "source": [
        "group_list = []\n",
        "for eps in epsilon_list:\n",
        "    temp_list = []\n",
        "    temp_list.append(modified_dict[(eps,1)])\n",
        "    temp_list.append(modified_dict[(eps,5)])\n",
        "    temp_list.append(modified_dict[(eps,10)])\n",
        "    group_list.append(temp_list)\n",
        "\n",
        "group_list1 = []\n",
        "group_list5 = []\n",
        "group_list10 = []\n",
        "for elt in group_list:\n",
        "    group_list1.append(elt[0])\n",
        "    group_list5.append(elt[1])\n",
        "    group_list10.append(elt[2])\n",
        "group_list1_tpr = tpr_list_generator(group_list1)\n",
        "group_list1_fpr = fpr_list_generator(group_list1)\n",
        "group_list5_tpr = tpr_list_generator(group_list5)\n",
        "group_list5_fpr = fpr_list_generator(group_list5)\n",
        "group_list10_tpr = tpr_list_generator(group_list10)\n",
        "group_list10_fpr = fpr_list_generator(group_list10)\n",
        "group_list10_fpr"
      ],
      "execution_count": null,
      "outputs": []
    },
    {
      "cell_type": "markdown",
      "metadata": {
        "id": "vRPerg7H6fcq",
        "colab_type": "text"
      },
      "source": [
        "Box Plots with TPR"
      ]
    },
    {
      "cell_type": "code",
      "metadata": {
        "id": "M_duUF4IRjB_",
        "colab_type": "code",
        "colab": {
          "base_uri": "https://localhost:8080/",
          "height": 313
        },
        "outputId": "761a8efb-1bcf-4bb2-a3f0-01671501d96e"
      },
      "source": [
        "import matplotlib.pyplot as plt\n",
        "import numpy as np\n",
        "\n",
        "\n",
        "ticks = epsilon_list\n",
        "\n",
        "def set_box_color(bp, color):\n",
        "    plt.setp(bp['boxes'], color=color)\n",
        "    plt.setp(bp['whiskers'], color=color)\n",
        "    plt.setp(bp['caps'], color=color)\n",
        "    plt.setp(bp['medians'], color=color)\n",
        "\n",
        "plt.figure()\n",
        "\n",
        "bpl = plt.boxplot(group_list1_tpr, positions=np.array(range(len(group_list1_tpr)))*2.0-0.4, sym='', widths = 0.3)\n",
        "bpm = plt.boxplot(group_list5_tpr, positions=np.array(range(len(group_list5_tpr)))*2.0, sym='', widths = 0.3)\n",
        "bpr = plt.boxplot(group_list10_tpr, positions=np.array(range(len(group_list10_tpr)))*2.0+0.4, sym='', widths = 0.3)\n",
        "set_box_color(bpl, '#D7191C') # colors are from http://colorbrewer2.org/\n",
        "set_box_color(bpm, '#2C7BB6')\n",
        "set_box_color(bpr, '#31A354')\n",
        "\n",
        "# draw temporary red and blue lines and use them to create a legend\n",
        "plt.plot([], c='#D7191C', label='Run Number = 1')\n",
        "plt.plot([], c='#2C7BB6', label='Run Number = 5')\n",
        "plt.plot([], c='#31A354', label='Run Number = 10')\n",
        "plt.legend()\n",
        "\n",
        "plt.xticks(range(0, len(ticks) * 2, 2), ticks)\n",
        "plt.xlim(-3, len(ticks)*2)\n",
        "plt.ylim(-10,110)\n",
        "plt.tight_layout()\n",
        "plt.title(\"TPR\")\n",
        "plt.savefig('boxcompare.png')"
      ],
      "execution_count": 86,
      "outputs": [
        {
          "output_type": "display_data",
          "data": {
            "image/png": "[encoded data removed]",
            "text/plain": [
              "<Figure size 432x288 with 1 Axes>"
            ]
          },
          "metadata": {
            "tags": [],
            "needs_background": "light"
          }
        }
      ]
    },
    {
      "cell_type": "code",
      "metadata": {
        "id": "wa5DGKWnuI_O",
        "colab_type": "code",
        "colab": {
          "base_uri": "https://localhost:8080/",
          "height": 309
        },
        "outputId": "9c815af0-740a-40d8-ca0f-a8bc6c29da2d"
      },
      "source": [
        "import matplotlib.pyplot as plt\n",
        "import numpy as np\n",
        "\n",
        "\n",
        "ticks = epsilon_list\n",
        "\n",
        "def set_box_color(bp, color):\n",
        "    plt.setp(bp['boxes'], color=color)\n",
        "    plt.setp(bp['whiskers'], color=color)\n",
        "    plt.setp(bp['caps'], color=color)\n",
        "    plt.setp(bp['medians'], color=color)\n",
        "\n",
        "plt.figure()\n",
        "\n",
        "bpl = plt.boxplot(group_list1_fpr, positions=np.array(range(len(group_list1_fpr)))*2.0-0.4, sym='', widths = 0.3)\n",
        "bpm = plt.boxplot(group_list5_fpr, positions=np.array(range(len(group_list5_fpr)))*2.0, sym='', widths = 0.3)\n",
        "bpr = plt.boxplot(group_list10_fpr, positions=np.array(range(len(group_list10_fpr)))*2.0+0.4, sym='', widths = 0.3)\n",
        "set_box_color(bpl, '#D7191C') # colors are from http://colorbrewer2.org/\n",
        "set_box_color(bpm, '#2C7BB6')\n",
        "set_box_color(bpr, '#31A354')\n",
        "\n",
        "# draw temporary red and blue lines and use them to create a legend\n",
        "plt.plot([], c='#D7191C', label='Run Number = 1')\n",
        "plt.plot([], c='#2C7BB6', label='Run Number = 5')\n",
        "plt.plot([], c='#31A354', label='Run Number = 10')\n",
        "plt.legend()\n",
        "\n",
        "plt.xticks(range(0, len(ticks) * 2, 2), ticks)\n",
        "plt.xlim(-3, len(ticks)*2)\n",
        "plt.ylim(-1,4)\n",
        "plt.tight_layout()\n",
        "plt.title(\"FPR\")\n",
        "plt.savefig('boxcompare.png')"
      ],
      "execution_count": 87,
      "outputs": [
        {
          "output_type": "display_data",
          "data": {
            "image/png": "[encoded data removed]",
            "text/plain": [
              "<Figure size 432x288 with 1 Axes>"
            ]
          },
          "metadata": {
            "tags": [],
            "needs_background": "light"
          }
        }
      ]
    },
    {
      "cell_type": "code",
      "metadata": {
        "id": "Kwkslg2RCkHn",
        "colab_type": "code",
        "colab": {}
      },
      "source": [
        ""
      ],
      "execution_count": null,
      "outputs": []
    }
  ]
}