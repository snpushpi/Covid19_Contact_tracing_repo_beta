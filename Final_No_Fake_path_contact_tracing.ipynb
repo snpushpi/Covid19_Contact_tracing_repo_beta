{
  "nbformat": 4,
  "nbformat_minor": 0,
  "metadata": {
    "colab": {
      "name": "Final_No_Fake_path_contact_tracing.ipynb",
      "provenance": [],
      "collapsed_sections": [],
      "authorship_tag": "ABX9TyP1+UUJ+bzGF6crIPO4Wsdn",
      "include_colab_link": true
    },
    "kernelspec": {
      "name": "python3",
      "display_name": "Python 3"
    }
  },
  "cells": [
    {
      "cell_type": "markdown",
      "metadata": {
        "id": "view-in-github",
        "colab_type": "text"
      },
      "source": [
        "<a href=\"https://colab.research.google.com/github/snpushpi/Covid19_Contact_tracing_repo_beta/blob/master/Final_No_Fake_path_contact_tracing.ipynb\" target=\"_parent\"><img src=\"https://colab.research.google.com/assets/colab-badge.svg\" alt=\"Open In Colab\"/></a>"
      ]
    },
    {
      "cell_type": "code",
      "metadata": {
        "id": "wHfygvdbI-fH",
        "colab_type": "code",
        "colab": {}
      },
      "source": [
        "import collections\n",
        "import hashlib\n",
        "import numpy as np\n",
        "import matplotlib as mpl\n",
        "import matplotlib.pyplot as plt\n",
        "import math\n",
        "import random\n",
        "from collections import Counter"
      ],
      "execution_count": 1,
      "outputs": []
    },
    {
      "cell_type": "code",
      "metadata": {
        "id": "aVce01EsR8Kw",
        "colab_type": "code",
        "colab": {}
      },
      "source": [
        "import pandas as pd\n",
        "import os"
      ],
      "execution_count": 2,
      "outputs": []
    },
    {
      "cell_type": "markdown",
      "metadata": {
        "id": "1h3-iPW1SEIl",
        "colab_type": "text"
      },
      "source": [
        "create a dataframe object from the csv file"
      ]
    },
    {
      "cell_type": "code",
      "metadata": {
        "id": "snLRXWXySLbM",
        "colab_type": "code",
        "colab": {}
      },
      "source": [
        "new_dataframe = pd.read_csv(r\"C:\\Users\\pushp\\Downloads\\Geolife-Trajectories-1.3\\Geolife-Trajectories-1.3\\Modified_Final_Dataset.csv\")\n",
        "new_dataframe.head()"
      ],
      "execution_count": null,
      "outputs": []
    },
    {
      "cell_type": "markdown",
      "metadata": {
        "id": "ByS_BGdxSXlA",
        "colab_type": "text"
      },
      "source": [
        "Next few parts, we will be making our data in a usable format for feeding into our dataset"
      ]
    },
    {
      "cell_type": "code",
      "metadata": {
        "id": "z08m0TEYScfn",
        "colab_type": "code",
        "colab": {}
      },
      "source": [
        "def list_generate(new_dataframe,user_num):    \n",
        "    user_lat = new_dataframe[new_dataframe.User_ID==user_num]['Modified_Latitude'].to_list()\n",
        "    user_lon = new_dataframe[new_dataframe.User_ID==user_num]['Modified_Longitude'].to_list()\n",
        "    user_timestamp = new_dataframe[new_dataframe.User_ID==user_num]['Timestamp'].to_list()\n",
        "    l = len(new_dataframe[new_dataframe.user_num==57])\n",
        "    user_path = [(querier_lat[i], querier_lon[i], querier_timestamp[i]) for i in range(l)]\n",
        "    return user_path\n"
      ],
      "execution_count": 3,
      "outputs": []
    },
    {
      "cell_type": "markdown",
      "metadata": {
        "id": "fWWfREAuSpRN",
        "colab_type": "text"
      },
      "source": [
        "For 50 infected users, we will create a list of lists where each list is the path of one infected patient"
      ]
    },
    {
      "cell_type": "code",
      "metadata": {
        "id": "DQBXeT6TSqm7",
        "colab_type": "code",
        "colab": {}
      },
      "source": [
        "querier_path = list_generate(new_dataframe,57)\n",
        "infected_list = []\n",
        "infected1 = list_generate(new_dataframe,94)\n",
        "infected2 = list_generate(new_dataframe,150)\n",
        "infected_list.append(infected1)\n",
        "infected_list.append(infected2)\n",
        "for i in range(50):\n",
        "    infected_list.append(list_generate(new_dataframe,i))\n",
        "    "
      ],
      "execution_count": null,
      "outputs": []
    },
    {
      "cell_type": "code",
      "metadata": {
        "id": "XEg3dCzeJjiT",
        "colab_type": "code",
        "colab": {}
      },
      "source": [
        "class Differential_Privacy_CMS():\n",
        "    def __init__(self, width, depth,epsilon,seed):\n",
        "        ''' Method to initialize the data structure\n",
        "        @param width int: Width of the table\n",
        "        @param depth int: Depth of the table (num of hash func)\n",
        "        @param epsilon: privacy parameter\n",
        "        In this case, when we declare differential privacy class instance, we give the parameters m and k, or width and depth\n",
        "        '''\n",
        "        self.width = width #hash values range between 0 to width-1\n",
        "        self.depth = depth #number of hash functions\n",
        "        self.epsilon = epsilon \n",
        "        self.seed = seed\n",
        "    #Implementing the client side algorithm which works on each particular data element. First it selects an integer randomly from 0 to depth-1, \n",
        "    #we store that value as j, next, we initialize a vector of -1, of length width, and set that jth index as 1. Then we create another vector of -1s\n",
        "    #and +1s, with fixed probabilities determined by the parameter epsilon. Then we do element wise multioplication and return the \n",
        "    #result vector. \n",
        "    def Client_Side(self,d):\n",
        "        '''parameters are a data element, epsilon value and a hash family, but we are using mmh3 here so didn't add that as a parameter'''\n",
        "        j = np.random.randint(self.depth) \n",
        "        z_vect = np.zeros((1,self.width))\n",
        "        v = z_vect-1 \n",
        "        hex_num = hashlib.sha256((str(self.seed[j])+str(d)).encode('utf-8')).hexdigest()\n",
        "        int_hex = int(hex_num[:5],16)\n",
        "        index = int_hex % self.width\n",
        "        v[0,index]=1\n",
        "        val = np.exp(self.epsilon/2)\n",
        "        probability_of_1 = val/(val+1) \n",
        "        probability_of_neg_1 = 1/(val+1)\n",
        "        b = np.random.choice([1,-1],self.width,p=[probability_of_1,probability_of_neg_1]) \n",
        "        final_vector = v*b\n",
        "        return (final_vector,j) \n",
        "    \n"
      ],
      "execution_count": null,
      "outputs": []
    },
    {
      "cell_type": "code",
      "metadata": {
        "id": "XcAWCqqetBOT",
        "colab_type": "code",
        "colab": {}
      },
      "source": [
        "def position_determiner(lat, lon):\n",
        "    '''Given a latitude, longitude co-ordinate, we have to find the small universe it belongs to.'''\n",
        "    min_lat = 23.4377\n",
        "    max_lat = 40.9999\n",
        "    min_lon = 113.7947\n",
        "    max_lon = 117.1832\n",
        "    k = math.floor((lat-min_lat)/0.0030)\n",
        "    j = math.floor((lat-min_lon)/0.0030)\n",
        "    return (k,j)\n",
        "    "
      ],
      "execution_count": null,
      "outputs": []
    },
    {
      "cell_type": "code",
      "metadata": {
        "id": "12vytdzgt6EX",
        "colab_type": "code",
        "colab": {}
      },
      "source": [
        "def path_divider(path):\n",
        "    track_dict = {}\n",
        "    for elt in path:\n",
        "        temp_val = position_determiner(elt[0], elt[1])\n",
        "        if temp_val not in track_dict:\n",
        "            track_dict[temp_val]=[{},[]]\n",
        "            track_dict[temp_val][0][elt[2]]= elt\n",
        "            track_dict[temp_val][1].append(elt[2])\n",
        "        else:\n",
        "            track_dict[temp_val][0][elt[2]]= elt\n",
        "            track_dict[temp_val][1].append(elt[2])\n",
        "    return track_dict"
      ],
      "execution_count": null,
      "outputs": []
    },
    {
      "cell_type": "code",
      "metadata": {
        "id": "YYq_lPwJK60R",
        "colab_type": "code",
        "colab": {}
      },
      "source": [
        "class Querier(Differential_Privacy_CMS):\n",
        "    def __init__(self, true_path,width, depth,epsilon, max,seed):\n",
        "        super().__init__(width,depth,epsilon,max,seed)\n",
        "        self.true_path = true_path\n",
        "        self.filtered_dictionary = {}\n",
        "    def frequency_counter(self, Sketch_Matrix, total_path_length):\n",
        "        ''' we get a sketch matrix and we try to get the frequencies for all elements in the true_path.'''\n",
        "        frequency_dict = {}\n",
        "        true_path = set(self.true_path)\n",
        "        length = len(true_path)\n",
        "        for d in self.true_path:\n",
        "            n = length \n",
        "            frac1 = self.width/(self.width-1)\n",
        "            frac2 = n/self.width\n",
        "            row_sum = 0\n",
        "            for i in range(self.depth):\n",
        "                hex_num = hashlib.sha256((str(self.seed[i])+str(d)).encode('utf-8')).hexdigest()\n",
        "                int_hex = int(hex_num[:5],16)\n",
        "                index = int_hex % self.width\n",
        "                row_sum = row_sum + Sketch_Matrix[i,index]\n",
        "            avg_row_sum = row_sum/self.depth \n",
        "            subtraction = avg_row_sum - frac2 \n",
        "            assumed_freq = frac1*subtraction \n",
        "            frequency_dict[d]=assumed_freq\n",
        "        result_list = []\n",
        "        for elt in frequency_dict:\n",
        "            if frequency_dict[elt]>1:\n",
        "                result_list.append(converter(elt))\n",
        "        return result_list\n",
        "    def filter_divider():\n",
        "        self.filtered_dictionary = path_divider(self.true_path)     \n",
        "        filt_dict = {e:self.filtered_dictionary[e][1] for e in self.filtered_dictionary}\n",
        "        return filt_dict\n",
        "        "
      ],
      "execution_count": null,
      "outputs": []
    },
    {
      "cell_type": "code",
      "metadata": {
        "id": "v-lTaI8BD-dX",
        "colab_type": "code",
        "colab": {}
      },
      "source": [
        "class Infected(Differential_Privacy_CMS):\n",
        "    def __init__(self, true_path,width, depth,epsilon,max,seed):\n",
        "        super().__init__(width,depth,epsilon,max,seed)\n",
        "        self.true_path = true_path\n",
        "        self.filtered_dictionary = {}\n",
        "        self.new_level2_filter = {}\n",
        "    def send_flipped_bit_vector(self):\n",
        "        result_list = []\n",
        "        for data in self.true_path:\n",
        "            result_list.append(self.Client_Side(data))\n",
        "        return result_list\n",
        "    def filter_divider():\n",
        "        self.filtered_dictionary = path_divider(self.true_path)\n",
        "        filt_dict = {e:self.filtered_dictionary[e][1] for e in self.filtered_dictionary}\n",
        "        return filt_dict\n",
        "    def filter2(filtered_dict_from_server):\n",
        "        '''server returns the filtered dict and the infected patient further does the filtration.'''\n",
        "        for zone in filtered_dict_from_server:\n",
        "            self.new_level2_filter[zone]=[]\n",
        "            for elt in zone:\n",
        "                self.new_level2_filter[zone].append(self.filtered_dictionary[zone][0][elt])\n",
        "        return self.new_level2_filter\n"
      ],
      "execution_count": null,
      "outputs": []
    },
    {
      "cell_type": "code",
      "metadata": {
        "id": "0TK80cumIIdD",
        "colab_type": "code",
        "colab": {}
      },
      "source": [
        "class Server(Differential_Privacy_CMS):\n",
        "    def __init__(self, width, depth, epsilon, max, seed):\n",
        "        super().__init__(width,depth,epsilon,max,seed)\n",
        "        self.zone_list=[]\n",
        "    def Compute_Sketch_Matrix(self,D):\n",
        "        '''So each element of D is a tuple where the first element is v_i and second element is j_i(which is created by the above funstion after getting \n",
        "        passed by Client_side each time), we have privacy parameter epsilon and dimensions. v_i is the a vector an it has the sma eshape as the \n",
        "        vectors returned by the Client_side algorithm'''\n",
        "        val = np.exp(self.epsilon/2)\n",
        "        n = len(D)\n",
        "        c_epsilon = (val+1)/(val-1) \n",
        "        vec_one = np.ones((1,self.width))\n",
        "        manipulated_data_matrix = np.zeros((n,self.width)) #Creatimg a matrix for x_is\n",
        "        for elt in enumerate(D):\n",
        "            new_vect = elt[1][0].reshape((1,self.width))\n",
        "            man_vect = (c_epsilon/2)*new_vect #scalar and vector multiplication \n",
        "            half_vec_one = 0.5*vec_one \n",
        "            sum_vect = man_vect + half_vec_one\n",
        "            manipulated_data_matrix[[elt[0]],:]= self.depth*sum_vect  \n",
        "        M = np.zeros((self.depth,self.width))\n",
        "        for elt in enumerate(D):\n",
        "            for l in range(self.width): \n",
        "                M[elt[1][1],l]=M[elt[1][1],l]+manipulated_data_matrix[elt[0],l]\n",
        "        return M \n",
        "    def checker(querier_filtered_path, infected_patients_filtered_dict_list):\n",
        "        '''gets zone-> timestamps and returns list of filtered zone-> set(timestamps) dictionaries.'''\n",
        "        new_filtered_list = []\n",
        "        l = len(infected_patients_filtered_dict_list)\n",
        "        for i in range(l):\n",
        "            temp_dict={}\n",
        "            for elt in infected_patients_filtered_dict_list[i]:\n",
        "                if elt in querier_filtered_path:\n",
        "                    temp_dict[elt] = set(infected_patients_filtered_dict_list[elt]) & set(querier_filtered_path[elt])\n",
        "            new_filtered_list.append(temp_dict)\n",
        "        return new_filtered_list \n",
        "\n",
        "\n",
        "\n",
        "\n",
        "                \n"
      ],
      "execution_count": null,
      "outputs": []
    },
    {
      "cell_type": "code",
      "metadata": {
        "id": "5_7Bu1hNGFCr",
        "colab_type": "code",
        "colab": {}
      },
      "source": [
        "#in the new mode, we invoke this method and the server receives this flipped bit vectors, as we want to average the \n",
        "#bit flipping thing, we run this process a mentioned number of times. and make compute sketch matrix."
      ],
      "execution_count": null,
      "outputs": []
    },
    {
      "cell_type": "code",
      "metadata": {
        "id": "CFhh-DbKK7Wo",
        "colab_type": "code",
        "colab": {}
      },
      "source": [
        "def driver_code(width, depth, seed, epsilon, run_number):\n",
        "    '''1. Create instances of querier, server and infected patients.\n",
        "       2. Call the filter method on all the participants in the server, so all the querier and the infectd patients filter out their paths \n",
        "          in multiple universes. This function will output a dictionary kepys mapping to 2 lists, one list is the co-ordinates in that universe and another list is the timestamp.\n",
        "       3. Now send this filtered timestamp and zone list to the server. Form can be (zone code->timestamps in that zone)\n",
        "       4. Taking the querier's timestamp against the infected patient's timestamp, server will level2 filtering and send similar form of \n",
        "          dictionary to all the infected patients and the querier, so basically finding the timestamp intersection between querier and infected patient pair\n",
        "          and server is keeping the lists for his calculation.\n",
        "       5. The participants, upon receiving the information, filters out the information further and start processing data from their end, aka, \n",
        "          calls the server caller method.(So in our implementation, we will be processing all infected patients one by one)\n",
        "       6. The server caller method, is a common method which will be used in other parts too, when this method is called from some \n",
        "          infected patient, it asks for flipped vectors a mentioned number of times from the infected patient and upon receiving it every time,\n",
        "          the server does the compute sketch matrix operation and contnues averaging it and finally gets the aggregated sketch matrix, as the server knows which \n",
        "          infected patient and from which zone, it was being called, he finally calls freq generator with this information.(Zone code, sketch matrix and server has saved the timestamp info\n",
        "          for generating universe list)\n",
        "       7. Thus for each caller method, server keeps generating frequency histogram and keeps aggregating it and will finally send it to the querier \n",
        "       \n",
        "    '''\n",
        "    querier = Querier(querier_path)\n",
        "    infected_patients = []\n",
        "    for infected in infected_list:\n",
        "        infected_patients.append(Infected(infected))\n",
        "    infected_patients_filtered_dict_list=[]\n",
        "    for e in infected_patients:\n",
        "        infected_patients_filtered_dict_list.append(e.filter_divider())\n",
        "    new_filtered_list = Server.checker(queier_filter, infected_patients_filtered_dict_list)\n",
        "    l = len(new_filtered_list)\n",
        "    for i in range(l):\n",
        "        infected_patients[i].filter2(new_filtered_list[i])\n",
        "    \n",
        "\n",
        "    \n",
        "\n",
        "    "
      ],
      "execution_count": null,
      "outputs": []
    },
    {
      "cell_type": "code",
      "metadata": {
        "id": "Q0bxpGd3HIRt",
        "colab_type": "code",
        "colab": {}
      },
      "source": [
        "s = driver_code(4.5)"
      ],
      "execution_count": null,
      "outputs": []
    }
  ]
}